{
  "cells": [
    {
      "cell_type": "markdown",
      "metadata": {
        "id": "yNDt-WOx6dVE"
      },
      "source": [
        "\n",
        "**NAMA = Raden Rian Girianom**    \n",
        "**URL Dataset = [Click](https://www.kaggle.com/datasets/shivamb/vehicle-claim-fraud-detection/data)**       \n",
        "**URL Deploy = [Click](https://huggingface.co/spaces/rianrg/M2-Fr-class)**\n",
        "\n",
        "**Problem statement :**       \n",
        "Peningkatan tren kasus fraud pada industri keuangan pasca pandemi Covid19, khususnya financial insurance terdapat temuan beberapa tipe fraud salah satunya adalah customer fraud yang menyumbang hampir 44 % penyebab kerugian di industri keuangan dan pelaku external terbanyak menyebabkan kerugian adalah 26 % berasal dari customer, 24 % Serangan hacker dan sisanya pihak ketiga (vendor) 19%. Penggunaan strategi, teknologi detection fraud dan KYC sangat penting untuk mengurangi potensi kerugian perusahaan insurance. ([Berdasarkan riset dari PWC Global economic crime and fraud survey tahun 2022](https://www.pwc.com/gx/en/services/forensics/economic-crime-survey.html))\n",
        "\n",
        "**Objective :**        \n",
        "Berdasarkan problem statement diatas saya akan membuat model detection fraud apakah claim insurance dinyatakan credibel atau fraud menggunakan Machine learning dengan memilih salah satu algoritma terbaik klasifikasi decisiontree, randomforest, svc, atau logreg berdasrkan nilai cross validation dengan metrik f1_score (rata-rata false negative dan positif).     "
      ]
    },
    {
      "cell_type": "markdown",
      "metadata": {
        "id": "YXdLQmKUCtW8"
      },
      "source": [
        "### **Import Libraries**"
      ]
    },
    {
      "cell_type": "code",
      "execution_count": 1,
      "metadata": {
        "id": "km63z6BaCvY8"
      },
      "outputs": [],
      "source": [
        "import pandas as pd\n",
        "import numpy as np\n",
        "import matplotlib.pyplot as plt\n",
        "import seaborn as sns\n",
        "import pickle\n",
        "import json\n",
        "\n",
        "# Import featuring engineering\n",
        "from sklearn.model_selection import train_test_split\n",
        "from sklearn.preprocessing import OrdinalEncoder, StandardScaler, OneHotEncoder\n",
        "from sklearn.compose import ColumnTransformer\n",
        "from sklearn.pipeline import make_pipeline\n",
        "from phik import phik_matrix\n",
        "\n",
        "#import model\n",
        "from sklearn.svm import SVC\n",
        "from sklearn.linear_model import LogisticRegression\n",
        "from sklearn.tree import DecisionTreeClassifier\n",
        "from sklearn.ensemble import RandomForestClassifier\n",
        "from sklearn.metrics import classification_report, f1_score\n",
        "from sklearn.neighbors import KNeighborsClassifier\n",
        "from sklearn.model_selection import StratifiedKFold\n",
        "from sklearn.model_selection import cross_val_score\n",
        "from sklearn.ensemble import AdaBoostClassifier\n",
        "from sklearn.model_selection import GridSearchCV"
      ]
    },
    {
      "cell_type": "markdown",
      "metadata": {
        "id": "EEF7bQDyCvur"
      },
      "source": [
        "### **Data Loading**"
      ]
    },
    {
      "cell_type": "code",
      "execution_count": 2,
      "metadata": {
        "colab": {
          "base_uri": "https://localhost:8080/",
          "height": 556
        },
        "id": "pYwUkeRbCw1z",
        "outputId": "3e2e9876-e14b-4f26-939a-443bea420955"
      },
      "outputs": [
        {
          "data": {
            "text/html": [
              "<div>\n",
              "<style scoped>\n",
              "    .dataframe tbody tr th:only-of-type {\n",
              "        vertical-align: middle;\n",
              "    }\n",
              "\n",
              "    .dataframe tbody tr th {\n",
              "        vertical-align: top;\n",
              "    }\n",
              "\n",
              "    .dataframe thead th {\n",
              "        text-align: right;\n",
              "    }\n",
              "</style>\n",
              "<table border=\"1\" class=\"dataframe\">\n",
              "  <thead>\n",
              "    <tr style=\"text-align: right;\">\n",
              "      <th></th>\n",
              "      <th>Month</th>\n",
              "      <th>WeekOfMonth</th>\n",
              "      <th>DayOfWeek</th>\n",
              "      <th>Make</th>\n",
              "      <th>AccidentArea</th>\n",
              "      <th>DayOfWeekClaimed</th>\n",
              "      <th>MonthClaimed</th>\n",
              "      <th>WeekOfMonthClaimed</th>\n",
              "      <th>Sex</th>\n",
              "      <th>MaritalStatus</th>\n",
              "      <th>...</th>\n",
              "      <th>AgeOfVehicle</th>\n",
              "      <th>AgeOfPolicyHolder</th>\n",
              "      <th>PoliceReportFiled</th>\n",
              "      <th>WitnessPresent</th>\n",
              "      <th>AgentType</th>\n",
              "      <th>NumberOfSuppliments</th>\n",
              "      <th>AddressChange_Claim</th>\n",
              "      <th>NumberOfCars</th>\n",
              "      <th>Year</th>\n",
              "      <th>BasePolicy</th>\n",
              "    </tr>\n",
              "  </thead>\n",
              "  <tbody>\n",
              "    <tr>\n",
              "      <th>0</th>\n",
              "      <td>Dec</td>\n",
              "      <td>5</td>\n",
              "      <td>Wednesday</td>\n",
              "      <td>Honda</td>\n",
              "      <td>Urban</td>\n",
              "      <td>Tuesday</td>\n",
              "      <td>Jan</td>\n",
              "      <td>1</td>\n",
              "      <td>Female</td>\n",
              "      <td>Single</td>\n",
              "      <td>...</td>\n",
              "      <td>3 years</td>\n",
              "      <td>26 to 30</td>\n",
              "      <td>No</td>\n",
              "      <td>No</td>\n",
              "      <td>External</td>\n",
              "      <td>none</td>\n",
              "      <td>1 year</td>\n",
              "      <td>3 to 4</td>\n",
              "      <td>1994</td>\n",
              "      <td>Liability</td>\n",
              "    </tr>\n",
              "    <tr>\n",
              "      <th>1</th>\n",
              "      <td>Jan</td>\n",
              "      <td>3</td>\n",
              "      <td>Wednesday</td>\n",
              "      <td>Honda</td>\n",
              "      <td>Urban</td>\n",
              "      <td>Monday</td>\n",
              "      <td>Jan</td>\n",
              "      <td>4</td>\n",
              "      <td>Male</td>\n",
              "      <td>Single</td>\n",
              "      <td>...</td>\n",
              "      <td>6 years</td>\n",
              "      <td>31 to 35</td>\n",
              "      <td>Yes</td>\n",
              "      <td>No</td>\n",
              "      <td>External</td>\n",
              "      <td>none</td>\n",
              "      <td>no change</td>\n",
              "      <td>1 vehicle</td>\n",
              "      <td>1994</td>\n",
              "      <td>Collision</td>\n",
              "    </tr>\n",
              "    <tr>\n",
              "      <th>2</th>\n",
              "      <td>Oct</td>\n",
              "      <td>5</td>\n",
              "      <td>Friday</td>\n",
              "      <td>Honda</td>\n",
              "      <td>Urban</td>\n",
              "      <td>Thursday</td>\n",
              "      <td>Nov</td>\n",
              "      <td>2</td>\n",
              "      <td>Male</td>\n",
              "      <td>Married</td>\n",
              "      <td>...</td>\n",
              "      <td>7 years</td>\n",
              "      <td>41 to 50</td>\n",
              "      <td>No</td>\n",
              "      <td>No</td>\n",
              "      <td>External</td>\n",
              "      <td>none</td>\n",
              "      <td>no change</td>\n",
              "      <td>1 vehicle</td>\n",
              "      <td>1994</td>\n",
              "      <td>Collision</td>\n",
              "    </tr>\n",
              "    <tr>\n",
              "      <th>3</th>\n",
              "      <td>Jun</td>\n",
              "      <td>2</td>\n",
              "      <td>Saturday</td>\n",
              "      <td>Toyota</td>\n",
              "      <td>Rural</td>\n",
              "      <td>Friday</td>\n",
              "      <td>Jul</td>\n",
              "      <td>1</td>\n",
              "      <td>Male</td>\n",
              "      <td>Married</td>\n",
              "      <td>...</td>\n",
              "      <td>more than 7</td>\n",
              "      <td>51 to 65</td>\n",
              "      <td>Yes</td>\n",
              "      <td>No</td>\n",
              "      <td>External</td>\n",
              "      <td>more than 5</td>\n",
              "      <td>no change</td>\n",
              "      <td>1 vehicle</td>\n",
              "      <td>1994</td>\n",
              "      <td>Liability</td>\n",
              "    </tr>\n",
              "    <tr>\n",
              "      <th>4</th>\n",
              "      <td>Jan</td>\n",
              "      <td>5</td>\n",
              "      <td>Monday</td>\n",
              "      <td>Honda</td>\n",
              "      <td>Urban</td>\n",
              "      <td>Tuesday</td>\n",
              "      <td>Feb</td>\n",
              "      <td>2</td>\n",
              "      <td>Female</td>\n",
              "      <td>Single</td>\n",
              "      <td>...</td>\n",
              "      <td>5 years</td>\n",
              "      <td>31 to 35</td>\n",
              "      <td>No</td>\n",
              "      <td>No</td>\n",
              "      <td>External</td>\n",
              "      <td>none</td>\n",
              "      <td>no change</td>\n",
              "      <td>1 vehicle</td>\n",
              "      <td>1994</td>\n",
              "      <td>Collision</td>\n",
              "    </tr>\n",
              "  </tbody>\n",
              "</table>\n",
              "<p>5 rows × 33 columns</p>\n",
              "</div>"
            ],
            "text/plain": [
              "  Month  WeekOfMonth  DayOfWeek    Make AccidentArea DayOfWeekClaimed  \\\n",
              "0   Dec            5  Wednesday   Honda        Urban          Tuesday   \n",
              "1   Jan            3  Wednesday   Honda        Urban           Monday   \n",
              "2   Oct            5     Friday   Honda        Urban         Thursday   \n",
              "3   Jun            2   Saturday  Toyota        Rural           Friday   \n",
              "4   Jan            5     Monday   Honda        Urban          Tuesday   \n",
              "\n",
              "  MonthClaimed  WeekOfMonthClaimed     Sex MaritalStatus  ...  AgeOfVehicle  \\\n",
              "0          Jan                   1  Female        Single  ...       3 years   \n",
              "1          Jan                   4    Male        Single  ...       6 years   \n",
              "2          Nov                   2    Male       Married  ...       7 years   \n",
              "3          Jul                   1    Male       Married  ...   more than 7   \n",
              "4          Feb                   2  Female        Single  ...       5 years   \n",
              "\n",
              "  AgeOfPolicyHolder PoliceReportFiled WitnessPresent AgentType  \\\n",
              "0          26 to 30                No             No  External   \n",
              "1          31 to 35               Yes             No  External   \n",
              "2          41 to 50                No             No  External   \n",
              "3          51 to 65               Yes             No  External   \n",
              "4          31 to 35                No             No  External   \n",
              "\n",
              "   NumberOfSuppliments  AddressChange_Claim  NumberOfCars  Year  BasePolicy  \n",
              "0                 none               1 year        3 to 4  1994   Liability  \n",
              "1                 none            no change     1 vehicle  1994   Collision  \n",
              "2                 none            no change     1 vehicle  1994   Collision  \n",
              "3          more than 5            no change     1 vehicle  1994   Liability  \n",
              "4                 none            no change     1 vehicle  1994   Collision  \n",
              "\n",
              "[5 rows x 33 columns]"
            ]
          },
          "execution_count": 2,
          "metadata": {},
          "output_type": "execute_result"
        }
      ],
      "source": [
        "# Menampilkan 5 data awal\n",
        "\n",
        "df1 = pd.read_csv('fraud_oracle.csv')\n",
        "df1.head(5)"
      ]
    },
    {
      "cell_type": "code",
      "execution_count": 3,
      "metadata": {
        "colab": {
          "base_uri": "https://localhost:8080/",
          "height": 556
        },
        "id": "Q3Y8l_AqFN-k",
        "outputId": "7acc1f3b-15af-402c-b632-06a3d7eea172"
      },
      "outputs": [
        {
          "data": {
            "text/html": [
              "<div>\n",
              "<style scoped>\n",
              "    .dataframe tbody tr th:only-of-type {\n",
              "        vertical-align: middle;\n",
              "    }\n",
              "\n",
              "    .dataframe tbody tr th {\n",
              "        vertical-align: top;\n",
              "    }\n",
              "\n",
              "    .dataframe thead th {\n",
              "        text-align: right;\n",
              "    }\n",
              "</style>\n",
              "<table border=\"1\" class=\"dataframe\">\n",
              "  <thead>\n",
              "    <tr style=\"text-align: right;\">\n",
              "      <th></th>\n",
              "      <th>Month</th>\n",
              "      <th>WeekOfMonth</th>\n",
              "      <th>DayOfWeek</th>\n",
              "      <th>Make</th>\n",
              "      <th>AccidentArea</th>\n",
              "      <th>DayOfWeekClaimed</th>\n",
              "      <th>MonthClaimed</th>\n",
              "      <th>WeekOfMonthClaimed</th>\n",
              "      <th>Sex</th>\n",
              "      <th>MaritalStatus</th>\n",
              "      <th>...</th>\n",
              "      <th>AgeOfVehicle</th>\n",
              "      <th>AgeOfPolicyHolder</th>\n",
              "      <th>PoliceReportFiled</th>\n",
              "      <th>WitnessPresent</th>\n",
              "      <th>AgentType</th>\n",
              "      <th>NumberOfSuppliments</th>\n",
              "      <th>AddressChange_Claim</th>\n",
              "      <th>NumberOfCars</th>\n",
              "      <th>Year</th>\n",
              "      <th>BasePolicy</th>\n",
              "    </tr>\n",
              "  </thead>\n",
              "  <tbody>\n",
              "    <tr>\n",
              "      <th>15415</th>\n",
              "      <td>Nov</td>\n",
              "      <td>4</td>\n",
              "      <td>Friday</td>\n",
              "      <td>Toyota</td>\n",
              "      <td>Urban</td>\n",
              "      <td>Tuesday</td>\n",
              "      <td>Nov</td>\n",
              "      <td>5</td>\n",
              "      <td>Male</td>\n",
              "      <td>Married</td>\n",
              "      <td>...</td>\n",
              "      <td>6 years</td>\n",
              "      <td>31 to 35</td>\n",
              "      <td>No</td>\n",
              "      <td>No</td>\n",
              "      <td>External</td>\n",
              "      <td>none</td>\n",
              "      <td>no change</td>\n",
              "      <td>1 vehicle</td>\n",
              "      <td>1996</td>\n",
              "      <td>Collision</td>\n",
              "    </tr>\n",
              "    <tr>\n",
              "      <th>15416</th>\n",
              "      <td>Nov</td>\n",
              "      <td>5</td>\n",
              "      <td>Thursday</td>\n",
              "      <td>Pontiac</td>\n",
              "      <td>Urban</td>\n",
              "      <td>Friday</td>\n",
              "      <td>Dec</td>\n",
              "      <td>1</td>\n",
              "      <td>Male</td>\n",
              "      <td>Married</td>\n",
              "      <td>...</td>\n",
              "      <td>6 years</td>\n",
              "      <td>31 to 35</td>\n",
              "      <td>No</td>\n",
              "      <td>No</td>\n",
              "      <td>External</td>\n",
              "      <td>more than 5</td>\n",
              "      <td>no change</td>\n",
              "      <td>3 to 4</td>\n",
              "      <td>1996</td>\n",
              "      <td>Liability</td>\n",
              "    </tr>\n",
              "    <tr>\n",
              "      <th>15417</th>\n",
              "      <td>Nov</td>\n",
              "      <td>5</td>\n",
              "      <td>Thursday</td>\n",
              "      <td>Toyota</td>\n",
              "      <td>Rural</td>\n",
              "      <td>Friday</td>\n",
              "      <td>Dec</td>\n",
              "      <td>1</td>\n",
              "      <td>Male</td>\n",
              "      <td>Single</td>\n",
              "      <td>...</td>\n",
              "      <td>5 years</td>\n",
              "      <td>26 to 30</td>\n",
              "      <td>No</td>\n",
              "      <td>No</td>\n",
              "      <td>External</td>\n",
              "      <td>1 to 2</td>\n",
              "      <td>no change</td>\n",
              "      <td>1 vehicle</td>\n",
              "      <td>1996</td>\n",
              "      <td>Collision</td>\n",
              "    </tr>\n",
              "    <tr>\n",
              "      <th>15418</th>\n",
              "      <td>Dec</td>\n",
              "      <td>1</td>\n",
              "      <td>Monday</td>\n",
              "      <td>Toyota</td>\n",
              "      <td>Urban</td>\n",
              "      <td>Thursday</td>\n",
              "      <td>Dec</td>\n",
              "      <td>2</td>\n",
              "      <td>Female</td>\n",
              "      <td>Married</td>\n",
              "      <td>...</td>\n",
              "      <td>2 years</td>\n",
              "      <td>31 to 35</td>\n",
              "      <td>No</td>\n",
              "      <td>No</td>\n",
              "      <td>External</td>\n",
              "      <td>more than 5</td>\n",
              "      <td>no change</td>\n",
              "      <td>1 vehicle</td>\n",
              "      <td>1996</td>\n",
              "      <td>All Perils</td>\n",
              "    </tr>\n",
              "    <tr>\n",
              "      <th>15419</th>\n",
              "      <td>Dec</td>\n",
              "      <td>2</td>\n",
              "      <td>Wednesday</td>\n",
              "      <td>Toyota</td>\n",
              "      <td>Urban</td>\n",
              "      <td>Thursday</td>\n",
              "      <td>Dec</td>\n",
              "      <td>3</td>\n",
              "      <td>Male</td>\n",
              "      <td>Single</td>\n",
              "      <td>...</td>\n",
              "      <td>5 years</td>\n",
              "      <td>26 to 30</td>\n",
              "      <td>No</td>\n",
              "      <td>No</td>\n",
              "      <td>External</td>\n",
              "      <td>1 to 2</td>\n",
              "      <td>no change</td>\n",
              "      <td>1 vehicle</td>\n",
              "      <td>1996</td>\n",
              "      <td>Collision</td>\n",
              "    </tr>\n",
              "  </tbody>\n",
              "</table>\n",
              "<p>5 rows × 33 columns</p>\n",
              "</div>"
            ],
            "text/plain": [
              "      Month  WeekOfMonth  DayOfWeek     Make AccidentArea DayOfWeekClaimed  \\\n",
              "15415   Nov            4     Friday   Toyota        Urban          Tuesday   \n",
              "15416   Nov            5   Thursday  Pontiac        Urban           Friday   \n",
              "15417   Nov            5   Thursday   Toyota        Rural           Friday   \n",
              "15418   Dec            1     Monday   Toyota        Urban         Thursday   \n",
              "15419   Dec            2  Wednesday   Toyota        Urban         Thursday   \n",
              "\n",
              "      MonthClaimed  WeekOfMonthClaimed     Sex MaritalStatus  ...  \\\n",
              "15415          Nov                   5    Male       Married  ...   \n",
              "15416          Dec                   1    Male       Married  ...   \n",
              "15417          Dec                   1    Male        Single  ...   \n",
              "15418          Dec                   2  Female       Married  ...   \n",
              "15419          Dec                   3    Male        Single  ...   \n",
              "\n",
              "       AgeOfVehicle AgeOfPolicyHolder PoliceReportFiled WitnessPresent  \\\n",
              "15415       6 years          31 to 35                No             No   \n",
              "15416       6 years          31 to 35                No             No   \n",
              "15417       5 years          26 to 30                No             No   \n",
              "15418       2 years          31 to 35                No             No   \n",
              "15419       5 years          26 to 30                No             No   \n",
              "\n",
              "      AgentType  NumberOfSuppliments  AddressChange_Claim  NumberOfCars  Year  \\\n",
              "15415  External                 none            no change     1 vehicle  1996   \n",
              "15416  External          more than 5            no change        3 to 4  1996   \n",
              "15417  External               1 to 2            no change     1 vehicle  1996   \n",
              "15418  External          more than 5            no change     1 vehicle  1996   \n",
              "15419  External               1 to 2            no change     1 vehicle  1996   \n",
              "\n",
              "       BasePolicy  \n",
              "15415   Collision  \n",
              "15416   Liability  \n",
              "15417   Collision  \n",
              "15418  All Perils  \n",
              "15419   Collision  \n",
              "\n",
              "[5 rows x 33 columns]"
            ]
          },
          "execution_count": 3,
          "metadata": {},
          "output_type": "execute_result"
        }
      ],
      "source": [
        "# Menampilkan 5 data akhir\n",
        "\n",
        "df1.tail(5)"
      ]
    },
    {
      "cell_type": "code",
      "execution_count": 4,
      "metadata": {
        "colab": {
          "base_uri": "https://localhost:8080/"
        },
        "id": "qUtvXFT5AUKZ",
        "outputId": "c4d8dcc5-0399-49ee-a37e-9f03918be76c"
      },
      "outputs": [
        {
          "name": "stdout",
          "output_type": "stream",
          "text": [
            "<class 'pandas.core.frame.DataFrame'>\n",
            "RangeIndex: 15420 entries, 0 to 15419\n",
            "Data columns (total 33 columns):\n",
            " #   Column                Non-Null Count  Dtype \n",
            "---  ------                --------------  ----- \n",
            " 0   Month                 15420 non-null  object\n",
            " 1   WeekOfMonth           15420 non-null  int64 \n",
            " 2   DayOfWeek             15420 non-null  object\n",
            " 3   Make                  15420 non-null  object\n",
            " 4   AccidentArea          15420 non-null  object\n",
            " 5   DayOfWeekClaimed      15420 non-null  object\n",
            " 6   MonthClaimed          15420 non-null  object\n",
            " 7   WeekOfMonthClaimed    15420 non-null  int64 \n",
            " 8   Sex                   15420 non-null  object\n",
            " 9   MaritalStatus         15420 non-null  object\n",
            " 10  Age                   15420 non-null  int64 \n",
            " 11  Fault                 15420 non-null  object\n",
            " 12  PolicyType            15420 non-null  object\n",
            " 13  VehicleCategory       15420 non-null  object\n",
            " 14  VehiclePrice          15420 non-null  object\n",
            " 15  FraudFound_P          15420 non-null  int64 \n",
            " 16  PolicyNumber          15420 non-null  int64 \n",
            " 17  RepNumber             15420 non-null  int64 \n",
            " 18  Deductible            15420 non-null  int64 \n",
            " 19  DriverRating          15420 non-null  int64 \n",
            " 20  Days_Policy_Accident  15420 non-null  object\n",
            " 21  Days_Policy_Claim     15420 non-null  object\n",
            " 22  PastNumberOfClaims    15420 non-null  object\n",
            " 23  AgeOfVehicle          15420 non-null  object\n",
            " 24  AgeOfPolicyHolder     15420 non-null  object\n",
            " 25  PoliceReportFiled     15420 non-null  object\n",
            " 26  WitnessPresent        15420 non-null  object\n",
            " 27  AgentType             15420 non-null  object\n",
            " 28  NumberOfSuppliments   15420 non-null  object\n",
            " 29  AddressChange_Claim   15420 non-null  object\n",
            " 30  NumberOfCars          15420 non-null  object\n",
            " 31  Year                  15420 non-null  int64 \n",
            " 32  BasePolicy            15420 non-null  object\n",
            "dtypes: int64(9), object(24)\n",
            "memory usage: 3.9+ MB\n"
          ]
        }
      ],
      "source": [
        "# Cek datatype\n",
        "df1.info()"
      ]
    },
    {
      "cell_type": "code",
      "execution_count": 5,
      "metadata": {},
      "outputs": [],
      "source": [
        "# Rename Column untuk mempermudah proses analisis selanjutnya\n",
        "df1.rename({'FraudFound_P': 'isfraud',\n",
        "            'Sex': 'Gender',\n",
        "            'Make' : 'Brand',\n",
        "            'PolicyType' : 'Type_Polis',\n",
        "            'PolicyNumber' : 'No_Polis',\n",
        "            'BasePolicy' : 'TypeInsurance'\n",
        "            }, axis=1, inplace=True)"
      ]
    },
    {
      "cell_type": "code",
      "execution_count": 6,
      "metadata": {
        "colab": {
          "base_uri": "https://localhost:8080/"
        },
        "id": "tu1mNR4wAUKa",
        "outputId": "e84536a5-4fd1-4d2f-a6c9-ca4f5c6ef5b9"
      },
      "outputs": [
        {
          "name": "stdout",
          "output_type": "stream",
          "text": [
            "Month :\n",
            " ['Dec' 'Jan' 'Oct' 'Jun' 'Feb' 'Nov' 'Apr' 'Mar' 'Aug' 'Jul' 'May' 'Sep'] \n",
            "\n",
            "WeekOfMonth :\n",
            " [5 3 2 4 1] \n",
            "\n",
            "DayOfWeek :\n",
            " ['Wednesday' 'Friday' 'Saturday' 'Monday' 'Tuesday' 'Sunday' 'Thursday'] \n",
            "\n",
            "Brand :\n",
            " ['Honda' 'Toyota' 'Ford' 'Mazda' 'Chevrolet' 'Pontiac' 'Accura' 'Dodge'\n",
            " 'Mercury' 'Jaguar' 'Nisson' 'VW' 'Saab' 'Saturn' 'Porche' 'BMW' 'Mecedes'\n",
            " 'Ferrari' 'Lexus'] \n",
            "\n",
            "AccidentArea :\n",
            " ['Urban' 'Rural'] \n",
            "\n",
            "DayOfWeekClaimed :\n",
            " ['Tuesday' 'Monday' 'Thursday' 'Friday' 'Wednesday' 'Saturday' 'Sunday'\n",
            " '0'] \n",
            "\n",
            "MonthClaimed :\n",
            " ['Jan' 'Nov' 'Jul' 'Feb' 'Mar' 'Dec' 'Apr' 'Aug' 'May' 'Jun' 'Sep' 'Oct'\n",
            " '0'] \n",
            "\n",
            "WeekOfMonthClaimed :\n",
            " [1 4 2 3 5] \n",
            "\n",
            "Gender :\n",
            " ['Female' 'Male'] \n",
            "\n",
            "MaritalStatus :\n",
            " ['Single' 'Married' 'Widow' 'Divorced'] \n",
            "\n",
            "Age :\n",
            " [21 34 47 65 27 20 36  0 30 42 71 52 28 61 38 41 32 40 63 31 45 60 39 55\n",
            " 35 44 72 29 37 59 49 50 26 48 64 33 74 23 25 56 16 68 18 51 22 53 46 43\n",
            " 57 54 69 67 19 78 77 75 80 58 73 24 76 62 79 70 17 66] \n",
            "\n",
            "Fault :\n",
            " ['Policy Holder' 'Third Party'] \n",
            "\n",
            "Type_Polis :\n",
            " ['Sport - Liability' 'Sport - Collision' 'Sedan - Liability'\n",
            " 'Utility - All Perils' 'Sedan - All Perils' 'Sedan - Collision'\n",
            " 'Utility - Collision' 'Utility - Liability' 'Sport - All Perils'] \n",
            "\n",
            "VehicleCategory :\n",
            " ['Sport' 'Utility' 'Sedan'] \n",
            "\n",
            "VehiclePrice :\n",
            " ['more than 69000' '20000 to 29000' '30000 to 39000' 'less than 20000'\n",
            " '40000 to 59000' '60000 to 69000'] \n",
            "\n",
            "isfraud :\n",
            " [0 1] \n",
            "\n",
            "No_Polis :\n",
            " [    1     2     3 ... 15418 15419 15420] \n",
            "\n",
            "RepNumber :\n",
            " [12 15  7  4  3 14  1 13 11 16  6  2  8  5  9 10] \n",
            "\n",
            "Deductible :\n",
            " [300 400 500 700] \n",
            "\n",
            "DriverRating :\n",
            " [1 4 3 2] \n",
            "\n",
            "Days_Policy_Accident :\n",
            " ['more than 30' '15 to 30' 'none' '1 to 7' '8 to 15'] \n",
            "\n",
            "Days_Policy_Claim :\n",
            " ['more than 30' '15 to 30' '8 to 15' 'none'] \n",
            "\n",
            "PastNumberOfClaims :\n",
            " ['none' '1' '2 to 4' 'more than 4'] \n",
            "\n",
            "AgeOfVehicle :\n",
            " ['3 years' '6 years' '7 years' 'more than 7' '5 years' 'new' '4 years'\n",
            " '2 years'] \n",
            "\n",
            "AgeOfPolicyHolder :\n",
            " ['26 to 30' '31 to 35' '41 to 50' '51 to 65' '21 to 25' '36 to 40'\n",
            " '16 to 17' 'over 65' '18 to 20'] \n",
            "\n",
            "PoliceReportFiled :\n",
            " ['No' 'Yes'] \n",
            "\n",
            "WitnessPresent :\n",
            " ['No' 'Yes'] \n",
            "\n",
            "AgentType :\n",
            " ['External' 'Internal'] \n",
            "\n",
            "NumberOfSuppliments :\n",
            " ['none' 'more than 5' '3 to 5' '1 to 2'] \n",
            "\n",
            "AddressChange_Claim :\n",
            " ['1 year' 'no change' '4 to 8 years' '2 to 3 years' 'under 6 months'] \n",
            "\n",
            "NumberOfCars :\n",
            " ['3 to 4' '1 vehicle' '2 vehicles' '5 to 8' 'more than 8'] \n",
            "\n",
            "Year :\n",
            " [1994 1995 1996] \n",
            "\n",
            "TypeInsurance :\n",
            " ['Liability' 'Collision' 'All Perils'] \n",
            "\n"
          ]
        }
      ],
      "source": [
        "# prin semua hasil unique value masing-masing kolom\n",
        "for col in df1:\n",
        "    print(col,\":\\n\",df1[col].unique(),'\\n')"
      ]
    },
    {
      "cell_type": "markdown",
      "metadata": {
        "id": "zRxjWItxJjzT"
      },
      "source": [
        "**INSIGHT**     \n",
        "-- Data diatas ada 15420 row dan 33 kolom        \n",
        "-- Tidak ditemukan missing value, Sehingga kita tidak perlu handling missing value      \n",
        "-- Ditemukan nilai yang tidak jelas di kolom `Age`:0, `DayOfWeekClaimed`:0, `MonthClaimed` :0\n",
        "\n",
        "Selanjutnya akan kita cek duplicated data dan handle nilai yang tidak jelas tadi"
      ]
    },
    {
      "cell_type": "code",
      "execution_count": 7,
      "metadata": {
        "colab": {
          "base_uri": "https://localhost:8080/"
        },
        "id": "GvlomYkVAUKb",
        "outputId": "940244af-cf02-4860-948c-bbf5cfe840ee"
      },
      "outputs": [
        {
          "name": "stdout",
          "output_type": "stream",
          "text": [
            "Duplicated Data:\n",
            "Empty DataFrame\n",
            "Columns: [Month, WeekOfMonth, DayOfWeek, Brand, AccidentArea, DayOfWeekClaimed, MonthClaimed, WeekOfMonthClaimed, Gender, MaritalStatus, Age, Fault, Type_Polis, VehicleCategory, VehiclePrice, isfraud, No_Polis, RepNumber, Deductible, DriverRating, Days_Policy_Accident, Days_Policy_Claim, PastNumberOfClaims, AgeOfVehicle, AgeOfPolicyHolder, PoliceReportFiled, WitnessPresent, AgentType, NumberOfSuppliments, AddressChange_Claim, NumberOfCars, Year, TypeInsurance]\n",
            "Index: []\n",
            "\n",
            "[0 rows x 33 columns]\n"
          ]
        }
      ],
      "source": [
        "# Cek terlebih dahulu duplicated value\n",
        "duplicated = df1[df1.duplicated()]\n",
        "\n",
        "print(\"Duplicated Data:\")\n",
        "print(duplicated)"
      ]
    },
    {
      "cell_type": "markdown",
      "metadata": {
        "id": "G8RXArXoAUKc"
      },
      "source": [
        "Tidak ditemukan adanya duplicated value. Selanjutnya handling value yang tidak jelas tadi"
      ]
    },
    {
      "cell_type": "code",
      "execution_count": 8,
      "metadata": {
        "colab": {
          "base_uri": "https://localhost:8080/"
        },
        "id": "SUH_S2LbAUKd",
        "outputId": "1f52ac1e-de89-4ca2-d017-48ec567f7f0d"
      },
      "outputs": [
        {
          "name": "stdout",
          "output_type": "stream",
          "text": [
            "[21 34 47 65 27 20 36  0 30 42 71 52 28 61 38 41 32 40 63 31 45 60 39 55\n",
            " 35 44 72 29 37 59 49 50 26 48 64 33 74 23 25 56 16 68 18 51 22 53 46 43\n",
            " 57 54 69 67 19 78 77 75 80 58 73 24 76 62 79 70 17 66]\n",
            "\n",
            "['Jan' 'Nov' 'Jul' 'Feb' 'Mar' 'Dec' 'Apr' 'Aug' 'May' 'Jun' 'Sep' 'Oct'\n",
            " '0']\n",
            "\n",
            "['Tuesday' 'Monday' 'Thursday' 'Friday' 'Wednesday' 'Saturday' 'Sunday'\n",
            " '0']\n"
          ]
        }
      ],
      "source": [
        "age1 = df1.Age.unique()\n",
        "mc1 = df1.MonthClaimed.unique()\n",
        "doc = df1.DayOfWeekClaimed.unique()\n",
        "\n",
        "print(age1)\n",
        "print()\n",
        "print(mc1)\n",
        "print()\n",
        "print(doc)"
      ]
    },
    {
      "cell_type": "markdown",
      "metadata": {
        "id": "a2mEZaSTAUKe"
      },
      "source": [
        "ada 3 kolom yang mengandung value yang aneh bisa berpengaruh terhadap analisis selanjutnya sehingga untuk `DayOfWeekClaimed` dan `MonthClaimed` tidak diketahui asal usul nilai 0 sehingga harus didrop, Sedangkan untuk `Age` bisa menggunakan imputasi mean/median"
      ]
    },
    {
      "cell_type": "code",
      "execution_count": 9,
      "metadata": {
        "id": "-KFUKf4oAUKe"
      },
      "outputs": [],
      "source": [
        "df1 = df1[df1['MonthClaimed'] != '0']\n",
        "df1 = df1[df1['DayOfWeekClaimed'] != '0']"
      ]
    },
    {
      "cell_type": "code",
      "execution_count": 10,
      "metadata": {
        "colab": {
          "base_uri": "https://localhost:8080/"
        },
        "id": "0GfaLSMOAUKf",
        "outputId": "d60696ae-187f-407b-c0d9-c0f8ed1e9895"
      },
      "outputs": [
        {
          "data": {
            "text/plain": [
              "MonthClaimed\n",
              "Jan    1446\n",
              "May    1411\n",
              "Mar    1348\n",
              "Oct    1339\n",
              "Jun    1293\n",
              "Feb    1287\n",
              "Nov    1285\n",
              "Apr    1271\n",
              "Sep    1242\n",
              "Jul    1225\n",
              "Dec    1146\n",
              "Aug    1126\n",
              "Name: count, dtype: int64"
            ]
          },
          "execution_count": 10,
          "metadata": {},
          "output_type": "execute_result"
        }
      ],
      "source": [
        "# Cek setiap kolom\n",
        "df1['MonthClaimed'].value_counts()"
      ]
    },
    {
      "cell_type": "code",
      "execution_count": 11,
      "metadata": {
        "colab": {
          "base_uri": "https://localhost:8080/"
        },
        "id": "wygX_m-mAUKf",
        "outputId": "477d9aac-28e8-48a2-b0a7-cb5b3674ac83"
      },
      "outputs": [
        {
          "data": {
            "text/plain": [
              "DayOfWeekClaimed\n",
              "Monday       3757\n",
              "Tuesday      3375\n",
              "Wednesday    2951\n",
              "Thursday     2660\n",
              "Friday       2497\n",
              "Saturday      127\n",
              "Sunday         52\n",
              "Name: count, dtype: int64"
            ]
          },
          "execution_count": 11,
          "metadata": {},
          "output_type": "execute_result"
        }
      ],
      "source": [
        "df1['DayOfWeekClaimed'].value_counts()"
      ]
    },
    {
      "cell_type": "code",
      "execution_count": 12,
      "metadata": {
        "id": "qHq4syf0AUKf"
      },
      "outputs": [],
      "source": [
        "# Mengganti nilai age berisi 0 dengan median\n",
        "median = df1[df1['Age'] != 0]['Age'].median()\n",
        "df1['Age'] = df1['Age'].replace(0, median)"
      ]
    },
    {
      "cell_type": "code",
      "execution_count": 13,
      "metadata": {
        "colab": {
          "base_uri": "https://localhost:8080/"
        },
        "id": "dFYESbe2AUKi",
        "outputId": "23c19796-64ea-4d7a-dd21-2a08e6dd1834"
      },
      "outputs": [
        {
          "data": {
            "text/plain": [
              "array([21, 34, 47, 65, 27, 20, 36, 39, 30, 42, 71, 52, 28, 61, 38, 41, 32,\n",
              "       40, 63, 31, 45, 60, 55, 35, 44, 72, 29, 37, 59, 49, 50, 26, 48, 64,\n",
              "       33, 74, 23, 25, 56, 16, 68, 18, 51, 22, 53, 46, 43, 57, 54, 69, 67,\n",
              "       19, 78, 77, 75, 80, 58, 73, 24, 76, 62, 79, 70, 17, 66],\n",
              "      dtype=int64)"
            ]
          },
          "execution_count": 13,
          "metadata": {},
          "output_type": "execute_result"
        }
      ],
      "source": [
        "df1.Age.unique()"
      ]
    },
    {
      "cell_type": "code",
      "execution_count": 14,
      "metadata": {
        "colab": {
          "base_uri": "https://localhost:8080/"
        },
        "id": "T2FJP-9hAUKi",
        "outputId": "35a088d8-3585-41c3-d0f9-5bfb9ab105e5"
      },
      "outputs": [
        {
          "name": "stdout",
          "output_type": "stream",
          "text": [
            "<class 'pandas.core.frame.DataFrame'>\n",
            "Index: 15419 entries, 0 to 15419\n",
            "Data columns (total 33 columns):\n",
            " #   Column                Non-Null Count  Dtype \n",
            "---  ------                --------------  ----- \n",
            " 0   Month                 15419 non-null  object\n",
            " 1   WeekOfMonth           15419 non-null  int64 \n",
            " 2   DayOfWeek             15419 non-null  object\n",
            " 3   Brand                 15419 non-null  object\n",
            " 4   AccidentArea          15419 non-null  object\n",
            " 5   DayOfWeekClaimed      15419 non-null  object\n",
            " 6   MonthClaimed          15419 non-null  object\n",
            " 7   WeekOfMonthClaimed    15419 non-null  int64 \n",
            " 8   Gender                15419 non-null  object\n",
            " 9   MaritalStatus         15419 non-null  object\n",
            " 10  Age                   15419 non-null  int64 \n",
            " 11  Fault                 15419 non-null  object\n",
            " 12  Type_Polis            15419 non-null  object\n",
            " 13  VehicleCategory       15419 non-null  object\n",
            " 14  VehiclePrice          15419 non-null  object\n",
            " 15  isfraud               15419 non-null  int64 \n",
            " 16  No_Polis              15419 non-null  int64 \n",
            " 17  RepNumber             15419 non-null  int64 \n",
            " 18  Deductible            15419 non-null  int64 \n",
            " 19  DriverRating          15419 non-null  int64 \n",
            " 20  Days_Policy_Accident  15419 non-null  object\n",
            " 21  Days_Policy_Claim     15419 non-null  object\n",
            " 22  PastNumberOfClaims    15419 non-null  object\n",
            " 23  AgeOfVehicle          15419 non-null  object\n",
            " 24  AgeOfPolicyHolder     15419 non-null  object\n",
            " 25  PoliceReportFiled     15419 non-null  object\n",
            " 26  WitnessPresent        15419 non-null  object\n",
            " 27  AgentType             15419 non-null  object\n",
            " 28  NumberOfSuppliments   15419 non-null  object\n",
            " 29  AddressChange_Claim   15419 non-null  object\n",
            " 30  NumberOfCars          15419 non-null  object\n",
            " 31  Year                  15419 non-null  int64 \n",
            " 32  TypeInsurance         15419 non-null  object\n",
            "dtypes: int64(9), object(24)\n",
            "memory usage: 4.0+ MB\n"
          ]
        }
      ],
      "source": [
        "# cek informasi\n",
        "df1.info()"
      ]
    },
    {
      "cell_type": "markdown",
      "metadata": {
        "id": "kOElRIXlAUKk"
      },
      "source": [
        "Hasil data diatas sudah bersih hanya berkurang 2 data dan tidak terlalu banyak dari 15419\n",
        "\n",
        "Kemudian cek seluruh isi value dari setiap column"
      ]
    },
    {
      "cell_type": "code",
      "execution_count": 15,
      "metadata": {},
      "outputs": [
        {
          "name": "stdout",
          "output_type": "stream",
          "text": [
            "Column: Month\n",
            "Month\n",
            "Jan    1411\n",
            "May    1367\n",
            "Mar    1360\n",
            "Jun    1321\n",
            "Oct    1305\n",
            "Dec    1285\n",
            "Apr    1280\n",
            "Feb    1266\n",
            "Jul    1256\n",
            "Sep    1240\n",
            "Nov    1201\n",
            "Aug    1127\n",
            "Name: count, dtype: int64\n",
            "\n",
            "Column: WeekOfMonth\n",
            "WeekOfMonth\n",
            "3    3640\n",
            "2    3557\n",
            "4    3398\n",
            "1    3187\n",
            "5    1637\n",
            "Name: count, dtype: int64\n",
            "\n",
            "Column: DayOfWeek\n",
            "DayOfWeek\n",
            "Monday       2615\n",
            "Friday       2445\n",
            "Tuesday      2300\n",
            "Thursday     2173\n",
            "Wednesday    2159\n",
            "Saturday     1982\n",
            "Sunday       1745\n",
            "Name: count, dtype: int64\n",
            "\n",
            "Column: Brand\n",
            "Brand\n",
            "Pontiac      3837\n",
            "Toyota       3121\n",
            "Honda        2800\n",
            "Mazda        2354\n",
            "Chevrolet    1681\n",
            "Accura        472\n",
            "Ford          450\n",
            "VW            283\n",
            "Dodge         109\n",
            "Saab          108\n",
            "Mercury        83\n",
            "Saturn         58\n",
            "Nisson         30\n",
            "BMW            15\n",
            "Jaguar          6\n",
            "Porche          5\n",
            "Mecedes         4\n",
            "Ferrari         2\n",
            "Lexus           1\n",
            "Name: count, dtype: int64\n",
            "\n",
            "Column: AccidentArea\n",
            "AccidentArea\n",
            "Urban    13822\n",
            "Rural     1597\n",
            "Name: count, dtype: int64\n",
            "\n",
            "Column: DayOfWeekClaimed\n",
            "DayOfWeekClaimed\n",
            "Monday       3757\n",
            "Tuesday      3375\n",
            "Wednesday    2951\n",
            "Thursday     2660\n",
            "Friday       2497\n",
            "Saturday      127\n",
            "Sunday         52\n",
            "Name: count, dtype: int64\n",
            "\n",
            "Column: MonthClaimed\n",
            "MonthClaimed\n",
            "Jan    1446\n",
            "May    1411\n",
            "Mar    1348\n",
            "Oct    1339\n",
            "Jun    1293\n",
            "Feb    1287\n",
            "Nov    1285\n",
            "Apr    1271\n",
            "Sep    1242\n",
            "Jul    1225\n",
            "Dec    1146\n",
            "Aug    1126\n",
            "Name: count, dtype: int64\n",
            "\n",
            "Column: WeekOfMonthClaimed\n",
            "WeekOfMonthClaimed\n",
            "2    3720\n",
            "3    3583\n",
            "1    3449\n",
            "4    3433\n",
            "5    1234\n",
            "Name: count, dtype: int64\n",
            "\n",
            "Column: Gender\n",
            "Gender\n",
            "Male      12999\n",
            "Female     2420\n",
            "Name: count, dtype: int64\n",
            "\n",
            "Column: MaritalStatus\n",
            "MaritalStatus\n",
            "Married     10625\n",
            "Single       4683\n",
            "Divorced       76\n",
            "Widow          35\n",
            "Name: count, dtype: int64\n",
            "\n",
            "Column: Age\n",
            "Age\n",
            "39    754\n",
            "30    596\n",
            "33    574\n",
            "34    573\n",
            "35    569\n",
            "     ... \n",
            "20     28\n",
            "70     27\n",
            "79     20\n",
            "16      9\n",
            "17      6\n",
            "Name: count, Length: 65, dtype: int64\n",
            "\n",
            "Column: Fault\n",
            "Fault\n",
            "Policy Holder    11229\n",
            "Third Party       4190\n",
            "Name: count, dtype: int64\n",
            "\n",
            "Column: Type_Polis\n",
            "Type_Polis\n",
            "Sedan - Collision       5584\n",
            "Sedan - Liability       4987\n",
            "Sedan - All Perils      4086\n",
            "Sport - Collision        348\n",
            "Utility - All Perils     340\n",
            "Utility - Collision       30\n",
            "Sport - All Perils        22\n",
            "Utility - Liability       21\n",
            "Sport - Liability          1\n",
            "Name: count, dtype: int64\n",
            "\n",
            "Column: VehicleCategory\n",
            "VehicleCategory\n",
            "Sedan      9670\n",
            "Sport      5358\n",
            "Utility     391\n",
            "Name: count, dtype: int64\n",
            "\n",
            "Column: VehiclePrice\n",
            "VehiclePrice\n",
            "20000 to 29000     8079\n",
            "30000 to 39000     3533\n",
            "more than 69000    2163\n",
            "less than 20000    1096\n",
            "40000 to 59000      461\n",
            "60000 to 69000       87\n",
            "Name: count, dtype: int64\n",
            "\n",
            "Column: isfraud\n",
            "isfraud\n",
            "0    14496\n",
            "1      923\n",
            "Name: count, dtype: int64\n",
            "\n",
            "Column: No_Polis\n",
            "No_Polis\n",
            "1        1\n",
            "10361    1\n",
            "10273    1\n",
            "10274    1\n",
            "10275    1\n",
            "        ..\n",
            "5146     1\n",
            "5147     1\n",
            "5148     1\n",
            "5149     1\n",
            "15420    1\n",
            "Name: count, Length: 15419, dtype: int64\n",
            "\n",
            "Column: RepNumber\n",
            "RepNumber\n",
            "7     1069\n",
            "9      999\n",
            "1      987\n",
            "5      987\n",
            "10     986\n",
            "12     977\n",
            "15     976\n",
            "16     967\n",
            "2      956\n",
            "3      949\n",
            "11     948\n",
            "6      942\n",
            "14     941\n",
            "8      931\n",
            "4      912\n",
            "13     892\n",
            "Name: count, dtype: int64\n",
            "\n",
            "Column: Deductible\n",
            "Deductible\n",
            "400    14837\n",
            "700      311\n",
            "500      263\n",
            "300        8\n",
            "Name: count, dtype: int64\n",
            "\n",
            "Column: DriverRating\n",
            "DriverRating\n",
            "1    3944\n",
            "3    3884\n",
            "2    3800\n",
            "4    3791\n",
            "Name: count, dtype: int64\n",
            "\n",
            "Column: Days_Policy_Accident\n",
            "Days_Policy_Accident\n",
            "more than 30    15246\n",
            "none               55\n",
            "8 to 15            55\n",
            "15 to 30           49\n",
            "1 to 7             14\n",
            "Name: count, dtype: int64\n",
            "\n",
            "Column: Days_Policy_Claim\n",
            "Days_Policy_Claim\n",
            "more than 30    15342\n",
            "15 to 30           56\n",
            "8 to 15            21\n",
            "Name: count, dtype: int64\n",
            "\n",
            "Column: PastNumberOfClaims\n",
            "PastNumberOfClaims\n",
            "2 to 4         5485\n",
            "none           4351\n",
            "1              3573\n",
            "more than 4    2010\n",
            "Name: count, dtype: int64\n",
            "\n",
            "Column: AgeOfVehicle\n",
            "AgeOfVehicle\n",
            "7 years        5807\n",
            "more than 7    3981\n",
            "6 years        3448\n",
            "5 years        1357\n",
            "new             372\n",
            "4 years         229\n",
            "3 years         152\n",
            "2 years          73\n",
            "Name: count, dtype: int64\n",
            "\n",
            "Column: AgeOfPolicyHolder\n",
            "AgeOfPolicyHolder\n",
            "31 to 35    5593\n",
            "36 to 40    4043\n",
            "41 to 50    2828\n",
            "51 to 65    1392\n",
            "26 to 30     613\n",
            "over 65      508\n",
            "16 to 17     319\n",
            "21 to 25     108\n",
            "18 to 20      15\n",
            "Name: count, dtype: int64\n",
            "\n",
            "Column: PoliceReportFiled\n",
            "PoliceReportFiled\n",
            "No     14991\n",
            "Yes      428\n",
            "Name: count, dtype: int64\n",
            "\n",
            "Column: WitnessPresent\n",
            "WitnessPresent\n",
            "No     15332\n",
            "Yes       87\n",
            "Name: count, dtype: int64\n",
            "\n",
            "Column: AgentType\n",
            "AgentType\n",
            "External    15178\n",
            "Internal      241\n",
            "Name: count, dtype: int64\n",
            "\n",
            "Column: NumberOfSuppliments\n",
            "NumberOfSuppliments\n",
            "none           7046\n",
            "more than 5    3867\n",
            "1 to 2         2489\n",
            "3 to 5         2017\n",
            "Name: count, dtype: int64\n",
            "\n",
            "Column: AddressChange_Claim\n",
            "AddressChange_Claim\n",
            "no change         14323\n",
            "4 to 8 years        631\n",
            "2 to 3 years        291\n",
            "1 year              170\n",
            "under 6 months        4\n",
            "Name: count, dtype: int64\n",
            "\n",
            "Column: NumberOfCars\n",
            "NumberOfCars\n",
            "1 vehicle      14315\n",
            "2 vehicles       709\n",
            "3 to 4           372\n",
            "5 to 8            21\n",
            "more than 8        2\n",
            "Name: count, dtype: int64\n",
            "\n",
            "Column: Year\n",
            "Year\n",
            "1994    6141\n",
            "1995    5195\n",
            "1996    4083\n",
            "Name: count, dtype: int64\n",
            "\n",
            "Column: TypeInsurance\n",
            "TypeInsurance\n",
            "Collision     5962\n",
            "Liability     5009\n",
            "All Perils    4448\n",
            "Name: count, dtype: int64\n",
            "\n"
          ]
        }
      ],
      "source": [
        "for column in df1.columns:\n",
        "    print(\"Column:\", column)\n",
        "    print(df1[column].value_counts())\n",
        "    print()"
      ]
    },
    {
      "cell_type": "markdown",
      "metadata": {},
      "source": [
        "Dari pengecekan value setiap column diatas terdapat nilai yang sangat sedikit dan akan menyulitkan untuk dilakukan analisis mendalam yaitu :        \t\n",
        "Column: Type_Polis, dengan value Sport - Liability = 1\n",
        "Column: Brand, dengan value Lexus = 1\n",
        "\n",
        "Sehingga untuk column type_polis dengan value Sport - Liability = 1 akan di drop dan         \n",
        "Column: Brand, dengan value Lexus = 1 akan dikategorikan sebagai Others bersama dengan value lain dibawah 10"
      ]
    },
    {
      "cell_type": "code",
      "execution_count": 16,
      "metadata": {},
      "outputs": [
        {
          "name": "stdout",
          "output_type": "stream",
          "text": [
            "Brand\n",
            "Pontiac      3837\n",
            "Toyota       3121\n",
            "Honda        2800\n",
            "Mazda        2354\n",
            "Chevrolet    1681\n",
            "Accura        472\n",
            "Ford          450\n",
            "VW            283\n",
            "Dodge         109\n",
            "Saab          108\n",
            "Mercury        83\n",
            "Saturn         58\n",
            "Nisson         30\n",
            "Other          18\n",
            "BMW            15\n",
            "Name: count, dtype: int64\n"
          ]
        }
      ],
      "source": [
        "# Group Other di column brand\n",
        "Others1 = ['Jaguar', 'Porche', 'Mecedes', 'Ferrari', 'Lexus']\n",
        "df1['Brand'].replace(Others1, 'Other', inplace=True)\n",
        "\n",
        "print(df1['Brand'].value_counts())"
      ]
    },
    {
      "cell_type": "code",
      "execution_count": 17,
      "metadata": {},
      "outputs": [
        {
          "data": {
            "text/plain": [
              "Type_Polis\n",
              "Sedan - Collision       5584\n",
              "Sedan - Liability       4987\n",
              "Sedan - All Perils      4086\n",
              "Sport - Collision        348\n",
              "Utility - All Perils     340\n",
              "Utility - Collision       30\n",
              "Sport - All Perils        22\n",
              "Utility - Liability       21\n",
              "Name: count, dtype: int64"
            ]
          },
          "execution_count": 17,
          "metadata": {},
          "output_type": "execute_result"
        }
      ],
      "source": [
        "# Drop value Sport - Liability = 1 untuk kolom Type_polis\n",
        "df1 = df1[~((df1['Type_Polis'] == 'Sport - Liability') & (df1['Type_Polis'].value_counts()['Sport - Liability'] == 1))]\n",
        "\n",
        "df1.Type_Polis.value_counts()"
      ]
    },
    {
      "cell_type": "code",
      "execution_count": 18,
      "metadata": {
        "id": "6ibu_V2BAUKl"
      },
      "outputs": [],
      "source": [
        "# Membuat copy dari df1 yang sudah dilakukan pembersihan untuk selanjutnya digunakan sebagai EDA\n",
        "df2 = df1.copy()"
      ]
    },
    {
      "cell_type": "markdown",
      "metadata": {
        "id": "W4fnPK08GDEl"
      },
      "source": [
        "### **Exploratory Data Analysis (EDA)**"
      ]
    },
    {
      "cell_type": "code",
      "execution_count": 19,
      "metadata": {
        "colab": {
          "base_uri": "https://localhost:8080/",
          "height": 0
        },
        "id": "byS1A2zFAUKl",
        "outputId": "ab0b5f15-7e77-4e99-f6d3-65e30008617c"
      },
      "outputs": [
        {
          "data": {
            "text/html": [
              "<div>\n",
              "<style scoped>\n",
              "    .dataframe tbody tr th:only-of-type {\n",
              "        vertical-align: middle;\n",
              "    }\n",
              "\n",
              "    .dataframe tbody tr th {\n",
              "        vertical-align: top;\n",
              "    }\n",
              "\n",
              "    .dataframe thead th {\n",
              "        text-align: right;\n",
              "    }\n",
              "</style>\n",
              "<table border=\"1\" class=\"dataframe\">\n",
              "  <thead>\n",
              "    <tr style=\"text-align: right;\">\n",
              "      <th></th>\n",
              "      <th>Month</th>\n",
              "      <th>WeekOfMonth</th>\n",
              "      <th>DayOfWeek</th>\n",
              "      <th>Brand</th>\n",
              "      <th>AccidentArea</th>\n",
              "      <th>DayOfWeekClaimed</th>\n",
              "      <th>MonthClaimed</th>\n",
              "      <th>WeekOfMonthClaimed</th>\n",
              "      <th>Gender</th>\n",
              "      <th>MaritalStatus</th>\n",
              "      <th>...</th>\n",
              "      <th>AgeOfVehicle</th>\n",
              "      <th>AgeOfPolicyHolder</th>\n",
              "      <th>PoliceReportFiled</th>\n",
              "      <th>WitnessPresent</th>\n",
              "      <th>AgentType</th>\n",
              "      <th>NumberOfSuppliments</th>\n",
              "      <th>AddressChange_Claim</th>\n",
              "      <th>NumberOfCars</th>\n",
              "      <th>Year</th>\n",
              "      <th>TypeInsurance</th>\n",
              "    </tr>\n",
              "  </thead>\n",
              "  <tbody>\n",
              "    <tr>\n",
              "      <th>1</th>\n",
              "      <td>Jan</td>\n",
              "      <td>3</td>\n",
              "      <td>Wednesday</td>\n",
              "      <td>Honda</td>\n",
              "      <td>Urban</td>\n",
              "      <td>Monday</td>\n",
              "      <td>Jan</td>\n",
              "      <td>4</td>\n",
              "      <td>Male</td>\n",
              "      <td>Single</td>\n",
              "      <td>...</td>\n",
              "      <td>6 years</td>\n",
              "      <td>31 to 35</td>\n",
              "      <td>Yes</td>\n",
              "      <td>No</td>\n",
              "      <td>External</td>\n",
              "      <td>none</td>\n",
              "      <td>no change</td>\n",
              "      <td>1 vehicle</td>\n",
              "      <td>1994</td>\n",
              "      <td>Collision</td>\n",
              "    </tr>\n",
              "    <tr>\n",
              "      <th>2</th>\n",
              "      <td>Oct</td>\n",
              "      <td>5</td>\n",
              "      <td>Friday</td>\n",
              "      <td>Honda</td>\n",
              "      <td>Urban</td>\n",
              "      <td>Thursday</td>\n",
              "      <td>Nov</td>\n",
              "      <td>2</td>\n",
              "      <td>Male</td>\n",
              "      <td>Married</td>\n",
              "      <td>...</td>\n",
              "      <td>7 years</td>\n",
              "      <td>41 to 50</td>\n",
              "      <td>No</td>\n",
              "      <td>No</td>\n",
              "      <td>External</td>\n",
              "      <td>none</td>\n",
              "      <td>no change</td>\n",
              "      <td>1 vehicle</td>\n",
              "      <td>1994</td>\n",
              "      <td>Collision</td>\n",
              "    </tr>\n",
              "    <tr>\n",
              "      <th>3</th>\n",
              "      <td>Jun</td>\n",
              "      <td>2</td>\n",
              "      <td>Saturday</td>\n",
              "      <td>Toyota</td>\n",
              "      <td>Rural</td>\n",
              "      <td>Friday</td>\n",
              "      <td>Jul</td>\n",
              "      <td>1</td>\n",
              "      <td>Male</td>\n",
              "      <td>Married</td>\n",
              "      <td>...</td>\n",
              "      <td>more than 7</td>\n",
              "      <td>51 to 65</td>\n",
              "      <td>Yes</td>\n",
              "      <td>No</td>\n",
              "      <td>External</td>\n",
              "      <td>more than 5</td>\n",
              "      <td>no change</td>\n",
              "      <td>1 vehicle</td>\n",
              "      <td>1994</td>\n",
              "      <td>Liability</td>\n",
              "    </tr>\n",
              "    <tr>\n",
              "      <th>4</th>\n",
              "      <td>Jan</td>\n",
              "      <td>5</td>\n",
              "      <td>Monday</td>\n",
              "      <td>Honda</td>\n",
              "      <td>Urban</td>\n",
              "      <td>Tuesday</td>\n",
              "      <td>Feb</td>\n",
              "      <td>2</td>\n",
              "      <td>Female</td>\n",
              "      <td>Single</td>\n",
              "      <td>...</td>\n",
              "      <td>5 years</td>\n",
              "      <td>31 to 35</td>\n",
              "      <td>No</td>\n",
              "      <td>No</td>\n",
              "      <td>External</td>\n",
              "      <td>none</td>\n",
              "      <td>no change</td>\n",
              "      <td>1 vehicle</td>\n",
              "      <td>1994</td>\n",
              "      <td>Collision</td>\n",
              "    </tr>\n",
              "    <tr>\n",
              "      <th>5</th>\n",
              "      <td>Oct</td>\n",
              "      <td>4</td>\n",
              "      <td>Friday</td>\n",
              "      <td>Honda</td>\n",
              "      <td>Urban</td>\n",
              "      <td>Wednesday</td>\n",
              "      <td>Nov</td>\n",
              "      <td>1</td>\n",
              "      <td>Male</td>\n",
              "      <td>Single</td>\n",
              "      <td>...</td>\n",
              "      <td>5 years</td>\n",
              "      <td>21 to 25</td>\n",
              "      <td>No</td>\n",
              "      <td>No</td>\n",
              "      <td>External</td>\n",
              "      <td>3 to 5</td>\n",
              "      <td>no change</td>\n",
              "      <td>1 vehicle</td>\n",
              "      <td>1994</td>\n",
              "      <td>Collision</td>\n",
              "    </tr>\n",
              "  </tbody>\n",
              "</table>\n",
              "<p>5 rows × 33 columns</p>\n",
              "</div>"
            ],
            "text/plain": [
              "  Month  WeekOfMonth  DayOfWeek   Brand AccidentArea DayOfWeekClaimed  \\\n",
              "1   Jan            3  Wednesday   Honda        Urban           Monday   \n",
              "2   Oct            5     Friday   Honda        Urban         Thursday   \n",
              "3   Jun            2   Saturday  Toyota        Rural           Friday   \n",
              "4   Jan            5     Monday   Honda        Urban          Tuesday   \n",
              "5   Oct            4     Friday   Honda        Urban        Wednesday   \n",
              "\n",
              "  MonthClaimed  WeekOfMonthClaimed  Gender MaritalStatus  ...  AgeOfVehicle  \\\n",
              "1          Jan                   4    Male        Single  ...       6 years   \n",
              "2          Nov                   2    Male       Married  ...       7 years   \n",
              "3          Jul                   1    Male       Married  ...   more than 7   \n",
              "4          Feb                   2  Female        Single  ...       5 years   \n",
              "5          Nov                   1    Male        Single  ...       5 years   \n",
              "\n",
              "  AgeOfPolicyHolder PoliceReportFiled WitnessPresent AgentType  \\\n",
              "1          31 to 35               Yes             No  External   \n",
              "2          41 to 50                No             No  External   \n",
              "3          51 to 65               Yes             No  External   \n",
              "4          31 to 35                No             No  External   \n",
              "5          21 to 25                No             No  External   \n",
              "\n",
              "   NumberOfSuppliments  AddressChange_Claim  NumberOfCars  Year  TypeInsurance  \n",
              "1                 none            no change     1 vehicle  1994      Collision  \n",
              "2                 none            no change     1 vehicle  1994      Collision  \n",
              "3          more than 5            no change     1 vehicle  1994      Liability  \n",
              "4                 none            no change     1 vehicle  1994      Collision  \n",
              "5               3 to 5            no change     1 vehicle  1994      Collision  \n",
              "\n",
              "[5 rows x 33 columns]"
            ]
          },
          "execution_count": 19,
          "metadata": {},
          "output_type": "execute_result"
        }
      ],
      "source": [
        "df2.head(5)"
      ]
    },
    {
      "cell_type": "code",
      "execution_count": 20,
      "metadata": {
        "colab": {
          "base_uri": "https://localhost:8080/",
          "height": 0
        },
        "id": "DmRNQ5GLAUKm",
        "outputId": "45b195a3-df87-45b8-b59c-9c8245b8ab90"
      },
      "outputs": [
        {
          "data": {
            "text/html": [
              "<div>\n",
              "<style scoped>\n",
              "    .dataframe tbody tr th:only-of-type {\n",
              "        vertical-align: middle;\n",
              "    }\n",
              "\n",
              "    .dataframe tbody tr th {\n",
              "        vertical-align: top;\n",
              "    }\n",
              "\n",
              "    .dataframe thead th {\n",
              "        text-align: right;\n",
              "    }\n",
              "</style>\n",
              "<table border=\"1\" class=\"dataframe\">\n",
              "  <thead>\n",
              "    <tr style=\"text-align: right;\">\n",
              "      <th></th>\n",
              "      <th>Month</th>\n",
              "      <th>WeekOfMonth</th>\n",
              "      <th>DayOfWeek</th>\n",
              "      <th>Brand</th>\n",
              "      <th>AccidentArea</th>\n",
              "      <th>DayOfWeekClaimed</th>\n",
              "      <th>MonthClaimed</th>\n",
              "      <th>WeekOfMonthClaimed</th>\n",
              "      <th>Gender</th>\n",
              "      <th>MaritalStatus</th>\n",
              "      <th>...</th>\n",
              "      <th>AgeOfVehicle</th>\n",
              "      <th>AgeOfPolicyHolder</th>\n",
              "      <th>PoliceReportFiled</th>\n",
              "      <th>WitnessPresent</th>\n",
              "      <th>AgentType</th>\n",
              "      <th>NumberOfSuppliments</th>\n",
              "      <th>AddressChange_Claim</th>\n",
              "      <th>NumberOfCars</th>\n",
              "      <th>Year</th>\n",
              "      <th>TypeInsurance</th>\n",
              "    </tr>\n",
              "  </thead>\n",
              "  <tbody>\n",
              "    <tr>\n",
              "      <th>1</th>\n",
              "      <td>Jan</td>\n",
              "      <td>3</td>\n",
              "      <td>Wednesday</td>\n",
              "      <td>Honda</td>\n",
              "      <td>Urban</td>\n",
              "      <td>Monday</td>\n",
              "      <td>Jan</td>\n",
              "      <td>4</td>\n",
              "      <td>Male</td>\n",
              "      <td>Single</td>\n",
              "      <td>...</td>\n",
              "      <td>6 years</td>\n",
              "      <td>31 to 35</td>\n",
              "      <td>Yes</td>\n",
              "      <td>No</td>\n",
              "      <td>External</td>\n",
              "      <td>none</td>\n",
              "      <td>no change</td>\n",
              "      <td>1 vehicle</td>\n",
              "      <td>1994</td>\n",
              "      <td>Collision</td>\n",
              "    </tr>\n",
              "    <tr>\n",
              "      <th>2</th>\n",
              "      <td>Oct</td>\n",
              "      <td>5</td>\n",
              "      <td>Friday</td>\n",
              "      <td>Honda</td>\n",
              "      <td>Urban</td>\n",
              "      <td>Thursday</td>\n",
              "      <td>Nov</td>\n",
              "      <td>2</td>\n",
              "      <td>Male</td>\n",
              "      <td>Married</td>\n",
              "      <td>...</td>\n",
              "      <td>7 years</td>\n",
              "      <td>41 to 50</td>\n",
              "      <td>No</td>\n",
              "      <td>No</td>\n",
              "      <td>External</td>\n",
              "      <td>none</td>\n",
              "      <td>no change</td>\n",
              "      <td>1 vehicle</td>\n",
              "      <td>1994</td>\n",
              "      <td>Collision</td>\n",
              "    </tr>\n",
              "    <tr>\n",
              "      <th>3</th>\n",
              "      <td>Jun</td>\n",
              "      <td>2</td>\n",
              "      <td>Saturday</td>\n",
              "      <td>Toyota</td>\n",
              "      <td>Rural</td>\n",
              "      <td>Friday</td>\n",
              "      <td>Jul</td>\n",
              "      <td>1</td>\n",
              "      <td>Male</td>\n",
              "      <td>Married</td>\n",
              "      <td>...</td>\n",
              "      <td>more than 7</td>\n",
              "      <td>51 to 65</td>\n",
              "      <td>Yes</td>\n",
              "      <td>No</td>\n",
              "      <td>External</td>\n",
              "      <td>more than 5</td>\n",
              "      <td>no change</td>\n",
              "      <td>1 vehicle</td>\n",
              "      <td>1994</td>\n",
              "      <td>Liability</td>\n",
              "    </tr>\n",
              "    <tr>\n",
              "      <th>4</th>\n",
              "      <td>Jan</td>\n",
              "      <td>5</td>\n",
              "      <td>Monday</td>\n",
              "      <td>Honda</td>\n",
              "      <td>Urban</td>\n",
              "      <td>Tuesday</td>\n",
              "      <td>Feb</td>\n",
              "      <td>2</td>\n",
              "      <td>Female</td>\n",
              "      <td>Single</td>\n",
              "      <td>...</td>\n",
              "      <td>5 years</td>\n",
              "      <td>31 to 35</td>\n",
              "      <td>No</td>\n",
              "      <td>No</td>\n",
              "      <td>External</td>\n",
              "      <td>none</td>\n",
              "      <td>no change</td>\n",
              "      <td>1 vehicle</td>\n",
              "      <td>1994</td>\n",
              "      <td>Collision</td>\n",
              "    </tr>\n",
              "    <tr>\n",
              "      <th>5</th>\n",
              "      <td>Oct</td>\n",
              "      <td>4</td>\n",
              "      <td>Friday</td>\n",
              "      <td>Honda</td>\n",
              "      <td>Urban</td>\n",
              "      <td>Wednesday</td>\n",
              "      <td>Nov</td>\n",
              "      <td>1</td>\n",
              "      <td>Male</td>\n",
              "      <td>Single</td>\n",
              "      <td>...</td>\n",
              "      <td>5 years</td>\n",
              "      <td>21 to 25</td>\n",
              "      <td>No</td>\n",
              "      <td>No</td>\n",
              "      <td>External</td>\n",
              "      <td>3 to 5</td>\n",
              "      <td>no change</td>\n",
              "      <td>1 vehicle</td>\n",
              "      <td>1994</td>\n",
              "      <td>Collision</td>\n",
              "    </tr>\n",
              "    <tr>\n",
              "      <th>...</th>\n",
              "      <td>...</td>\n",
              "      <td>...</td>\n",
              "      <td>...</td>\n",
              "      <td>...</td>\n",
              "      <td>...</td>\n",
              "      <td>...</td>\n",
              "      <td>...</td>\n",
              "      <td>...</td>\n",
              "      <td>...</td>\n",
              "      <td>...</td>\n",
              "      <td>...</td>\n",
              "      <td>...</td>\n",
              "      <td>...</td>\n",
              "      <td>...</td>\n",
              "      <td>...</td>\n",
              "      <td>...</td>\n",
              "      <td>...</td>\n",
              "      <td>...</td>\n",
              "      <td>...</td>\n",
              "      <td>...</td>\n",
              "      <td>...</td>\n",
              "    </tr>\n",
              "    <tr>\n",
              "      <th>15415</th>\n",
              "      <td>Nov</td>\n",
              "      <td>4</td>\n",
              "      <td>Friday</td>\n",
              "      <td>Toyota</td>\n",
              "      <td>Urban</td>\n",
              "      <td>Tuesday</td>\n",
              "      <td>Nov</td>\n",
              "      <td>5</td>\n",
              "      <td>Male</td>\n",
              "      <td>Married</td>\n",
              "      <td>...</td>\n",
              "      <td>6 years</td>\n",
              "      <td>31 to 35</td>\n",
              "      <td>No</td>\n",
              "      <td>No</td>\n",
              "      <td>External</td>\n",
              "      <td>none</td>\n",
              "      <td>no change</td>\n",
              "      <td>1 vehicle</td>\n",
              "      <td>1996</td>\n",
              "      <td>Collision</td>\n",
              "    </tr>\n",
              "    <tr>\n",
              "      <th>15416</th>\n",
              "      <td>Nov</td>\n",
              "      <td>5</td>\n",
              "      <td>Thursday</td>\n",
              "      <td>Pontiac</td>\n",
              "      <td>Urban</td>\n",
              "      <td>Friday</td>\n",
              "      <td>Dec</td>\n",
              "      <td>1</td>\n",
              "      <td>Male</td>\n",
              "      <td>Married</td>\n",
              "      <td>...</td>\n",
              "      <td>6 years</td>\n",
              "      <td>31 to 35</td>\n",
              "      <td>No</td>\n",
              "      <td>No</td>\n",
              "      <td>External</td>\n",
              "      <td>more than 5</td>\n",
              "      <td>no change</td>\n",
              "      <td>3 to 4</td>\n",
              "      <td>1996</td>\n",
              "      <td>Liability</td>\n",
              "    </tr>\n",
              "    <tr>\n",
              "      <th>15417</th>\n",
              "      <td>Nov</td>\n",
              "      <td>5</td>\n",
              "      <td>Thursday</td>\n",
              "      <td>Toyota</td>\n",
              "      <td>Rural</td>\n",
              "      <td>Friday</td>\n",
              "      <td>Dec</td>\n",
              "      <td>1</td>\n",
              "      <td>Male</td>\n",
              "      <td>Single</td>\n",
              "      <td>...</td>\n",
              "      <td>5 years</td>\n",
              "      <td>26 to 30</td>\n",
              "      <td>No</td>\n",
              "      <td>No</td>\n",
              "      <td>External</td>\n",
              "      <td>1 to 2</td>\n",
              "      <td>no change</td>\n",
              "      <td>1 vehicle</td>\n",
              "      <td>1996</td>\n",
              "      <td>Collision</td>\n",
              "    </tr>\n",
              "    <tr>\n",
              "      <th>15418</th>\n",
              "      <td>Dec</td>\n",
              "      <td>1</td>\n",
              "      <td>Monday</td>\n",
              "      <td>Toyota</td>\n",
              "      <td>Urban</td>\n",
              "      <td>Thursday</td>\n",
              "      <td>Dec</td>\n",
              "      <td>2</td>\n",
              "      <td>Female</td>\n",
              "      <td>Married</td>\n",
              "      <td>...</td>\n",
              "      <td>2 years</td>\n",
              "      <td>31 to 35</td>\n",
              "      <td>No</td>\n",
              "      <td>No</td>\n",
              "      <td>External</td>\n",
              "      <td>more than 5</td>\n",
              "      <td>no change</td>\n",
              "      <td>1 vehicle</td>\n",
              "      <td>1996</td>\n",
              "      <td>All Perils</td>\n",
              "    </tr>\n",
              "    <tr>\n",
              "      <th>15419</th>\n",
              "      <td>Dec</td>\n",
              "      <td>2</td>\n",
              "      <td>Wednesday</td>\n",
              "      <td>Toyota</td>\n",
              "      <td>Urban</td>\n",
              "      <td>Thursday</td>\n",
              "      <td>Dec</td>\n",
              "      <td>3</td>\n",
              "      <td>Male</td>\n",
              "      <td>Single</td>\n",
              "      <td>...</td>\n",
              "      <td>5 years</td>\n",
              "      <td>26 to 30</td>\n",
              "      <td>No</td>\n",
              "      <td>No</td>\n",
              "      <td>External</td>\n",
              "      <td>1 to 2</td>\n",
              "      <td>no change</td>\n",
              "      <td>1 vehicle</td>\n",
              "      <td>1996</td>\n",
              "      <td>Collision</td>\n",
              "    </tr>\n",
              "  </tbody>\n",
              "</table>\n",
              "<p>15418 rows × 33 columns</p>\n",
              "</div>"
            ],
            "text/plain": [
              "      Month  WeekOfMonth  DayOfWeek    Brand AccidentArea DayOfWeekClaimed  \\\n",
              "1       Jan            3  Wednesday    Honda        Urban           Monday   \n",
              "2       Oct            5     Friday    Honda        Urban         Thursday   \n",
              "3       Jun            2   Saturday   Toyota        Rural           Friday   \n",
              "4       Jan            5     Monday    Honda        Urban          Tuesday   \n",
              "5       Oct            4     Friday    Honda        Urban        Wednesday   \n",
              "...     ...          ...        ...      ...          ...              ...   \n",
              "15415   Nov            4     Friday   Toyota        Urban          Tuesday   \n",
              "15416   Nov            5   Thursday  Pontiac        Urban           Friday   \n",
              "15417   Nov            5   Thursday   Toyota        Rural           Friday   \n",
              "15418   Dec            1     Monday   Toyota        Urban         Thursday   \n",
              "15419   Dec            2  Wednesday   Toyota        Urban         Thursday   \n",
              "\n",
              "      MonthClaimed  WeekOfMonthClaimed  Gender MaritalStatus  ...  \\\n",
              "1              Jan                   4    Male        Single  ...   \n",
              "2              Nov                   2    Male       Married  ...   \n",
              "3              Jul                   1    Male       Married  ...   \n",
              "4              Feb                   2  Female        Single  ...   \n",
              "5              Nov                   1    Male        Single  ...   \n",
              "...            ...                 ...     ...           ...  ...   \n",
              "15415          Nov                   5    Male       Married  ...   \n",
              "15416          Dec                   1    Male       Married  ...   \n",
              "15417          Dec                   1    Male        Single  ...   \n",
              "15418          Dec                   2  Female       Married  ...   \n",
              "15419          Dec                   3    Male        Single  ...   \n",
              "\n",
              "       AgeOfVehicle AgeOfPolicyHolder PoliceReportFiled WitnessPresent  \\\n",
              "1           6 years          31 to 35               Yes             No   \n",
              "2           7 years          41 to 50                No             No   \n",
              "3       more than 7          51 to 65               Yes             No   \n",
              "4           5 years          31 to 35                No             No   \n",
              "5           5 years          21 to 25                No             No   \n",
              "...             ...               ...               ...            ...   \n",
              "15415       6 years          31 to 35                No             No   \n",
              "15416       6 years          31 to 35                No             No   \n",
              "15417       5 years          26 to 30                No             No   \n",
              "15418       2 years          31 to 35                No             No   \n",
              "15419       5 years          26 to 30                No             No   \n",
              "\n",
              "      AgentType  NumberOfSuppliments  AddressChange_Claim  NumberOfCars  Year  \\\n",
              "1      External                 none            no change     1 vehicle  1994   \n",
              "2      External                 none            no change     1 vehicle  1994   \n",
              "3      External          more than 5            no change     1 vehicle  1994   \n",
              "4      External                 none            no change     1 vehicle  1994   \n",
              "5      External               3 to 5            no change     1 vehicle  1994   \n",
              "...         ...                  ...                  ...           ...   ...   \n",
              "15415  External                 none            no change     1 vehicle  1996   \n",
              "15416  External          more than 5            no change        3 to 4  1996   \n",
              "15417  External               1 to 2            no change     1 vehicle  1996   \n",
              "15418  External          more than 5            no change     1 vehicle  1996   \n",
              "15419  External               1 to 2            no change     1 vehicle  1996   \n",
              "\n",
              "       TypeInsurance  \n",
              "1          Collision  \n",
              "2          Collision  \n",
              "3          Liability  \n",
              "4          Collision  \n",
              "5          Collision  \n",
              "...              ...  \n",
              "15415      Collision  \n",
              "15416      Liability  \n",
              "15417      Collision  \n",
              "15418     All Perils  \n",
              "15419      Collision  \n",
              "\n",
              "[15418 rows x 33 columns]"
            ]
          },
          "execution_count": 20,
          "metadata": {},
          "output_type": "execute_result"
        }
      ],
      "source": [
        "df2"
      ]
    },
    {
      "cell_type": "markdown",
      "metadata": {
        "id": "J72_zMtoAUKm"
      },
      "source": [
        "#### Bulan apa ditemukan tingkat Fraud tertinggi?"
      ]
    },
    {
      "cell_type": "code",
      "execution_count": 21,
      "metadata": {
        "id": "uvULrfz-AUKn"
      },
      "outputs": [],
      "source": [
        "# Fraud 1 = Yes, 0 = tidak. Sehingga kita gunakan filter 1 untuk menemukan fraud\n",
        "fraud_df = df2[df2['isfraud'] == 1]\n",
        "\n",
        "# Group by berdasarkan bulan dan fraudFound_P\n",
        "fraud_by_month = fraud_df.groupby('Month')['isfraud'].count().reset_index()"
      ]
    },
    {
      "cell_type": "code",
      "execution_count": 22,
      "metadata": {
        "colab": {
          "base_uri": "https://localhost:8080/",
          "height": 0
        },
        "id": "FnLxWLI8AUKn",
        "outputId": "fe43fa35-6b90-43fd-b190-72514ef2784d"
      },
      "outputs": [
        {
          "data": {
            "image/png": "[encoded data removed]",
            "text/plain": [
              "<Figure size 700x500 with 1 Axes>"
            ]
          },
          "metadata": {},
          "output_type": "display_data"
        }
      ],
      "source": [
        "# Visualisasi berdasarkan data diatas\n",
        "plt.figure(figsize=(7, 5))\n",
        "plt.bar(fraud_by_month['Month'], fraud_by_month['isfraud'], color='skyblue')\n",
        "plt.xlabel('Bulan')\n",
        "plt.ylabel('Fraud Rate : Yes')\n",
        "plt.title('Fraud Rate berdasarkan Bulan')\n",
        "plt.show()"
      ]
    },
    {
      "cell_type": "markdown",
      "metadata": {
        "id": "i4xwaMr-AUKn"
      },
      "source": [
        "Berdasarkan data diatas ditemukan tingkat fraud atau penyimpangan untuk mendapatkan claim asuransi mobil terbanyak di bulan Maret."
      ]
    },
    {
      "cell_type": "markdown",
      "metadata": {
        "id": "xuuEQyW9AUKn"
      },
      "source": [
        "#### Persentase claim terdeteksi fraud dengan keseluruhan data"
      ]
    },
    {
      "cell_type": "code",
      "execution_count": 23,
      "metadata": {
        "colab": {
          "base_uri": "https://localhost:8080/",
          "height": 0
        },
        "id": "trLvgOnCAUKo",
        "outputId": "9a90b815-f61c-4024-9f32-727f1eaa815b"
      },
      "outputs": [
        {
          "data": {
            "image/png": "[encoded data removed]",
            "text/plain": [
              "<Figure size 800x600 with 1 Axes>"
            ]
          },
          "metadata": {},
          "output_type": "display_data"
        },
        {
          "name": "stdout",
          "output_type": "stream",
          "text": [
            "isfraud\n",
            "0    94.013491\n",
            "1     5.986509\n",
            "Name: proportion, dtype: float64\n"
          ]
        }
      ],
      "source": [
        "# Cek persentase claim terdeteksi fraud\n",
        "percentage_distribution = df2['isfraud'].value_counts(normalize=True) * 100\n",
        "\n",
        "plt.figure(figsize=(8, 6))\n",
        "plt.pie(percentage_distribution, labels=percentage_distribution.index, autopct='%1.1f%%', colors=['skyblue', 'orange'])\n",
        "plt.title('Persentase temuan fraud')\n",
        "plt.show()\n",
        "\n",
        "print(percentage_distribution)"
      ]
    },
    {
      "cell_type": "markdown",
      "metadata": {
        "id": "n_ZJFhnKAUKo"
      },
      "source": [
        "Hampir 94 % dinyatakan claim normal dan hanya 5,9 % dinyatakan claim yang menyimpang (fraud), selanjutnya akan dianalsis mengenai 6 % claim yang menyimpang (fraud)."
      ]
    },
    {
      "cell_type": "markdown",
      "metadata": {
        "id": "YTWiExyvAUKo"
      },
      "source": [
        "#### Area mana yang mempunyai tingkat fraud tertinggi pada bulan Maret?"
      ]
    },
    {
      "cell_type": "code",
      "execution_count": 24,
      "metadata": {
        "colab": {
          "base_uri": "https://localhost:8080/",
          "height": 0
        },
        "id": "n7w5F9JjAUKo",
        "outputId": "55fb3429-b635-4a2e-b6d9-7411d6192801"
      },
      "outputs": [
        {
          "data": {
            "image/png": "[encoded data removed]",
            "text/plain": [
              "<Figure size 500x400 with 1 Axes>"
            ]
          },
          "metadata": {},
          "output_type": "display_data"
        }
      ],
      "source": [
        "# Berdasarkan bulan tertinggi ditemukan kasus fraud adalah Maret\n",
        "# Selanjutnya adalah pada bulan maret area mana yang mendominasi tingkat fraud dalam claim asuransi\n",
        "\n",
        "maret_fraud = df2[(df2['Month'] == 'Mar') & (df2['isfraud'] == 1)]\n",
        "\n",
        "# Count the number of fraud cases by accident area\n",
        "fraud_by_area = maret_fraud['AccidentArea'].value_counts()\n",
        "\n",
        "# Plotting the bar chart\n",
        "plt.figure(figsize=(5, 4))\n",
        "fraud_by_area.plot(kind='bar', color='skyblue')\n",
        "plt.xlabel('Lokasi Urban=Kota, Rural=Pedesaan')\n",
        "plt.ylabel('Total Temuan fraud (Yes)')\n",
        "plt.title('Jumlah Fraud berdasarkan lokasi accident')\n",
        "plt.xticks(rotation=45)\n",
        "plt.show()"
      ]
    },
    {
      "cell_type": "markdown",
      "metadata": {
        "id": "a1VwGHyBAUKp"
      },
      "source": [
        "Insight =       \n",
        "-- Tingkat penyimpangan untuk claim asuransi (fraud) tertinggi pada bulan maret dan berasal dari area perkotaan (urban)"
      ]
    },
    {
      "cell_type": "markdown",
      "metadata": {
        "id": "jE0TUF-pAUKp"
      },
      "source": [
        "#### Berapa tipe agen asuransi terlibat pengurusan claim yang terindikasi fraud?"
      ]
    },
    {
      "cell_type": "code",
      "execution_count": 25,
      "metadata": {
        "colab": {
          "base_uri": "https://localhost:8080/",
          "height": 0
        },
        "id": "wTdzO08AAUKv",
        "outputId": "e39543c1-a310-416a-862f-bebbfd467945"
      },
      "outputs": [
        {
          "data": {
            "image/png": "[encoded data removed]",
            "text/plain": [
              "<Figure size 500x500 with 1 Axes>"
            ]
          },
          "metadata": {},
          "output_type": "display_data"
        },
        {
          "name": "stdout",
          "output_type": "stream",
          "text": [
            "Type agent mengurus claim terindikasi fraud:\n",
            "AgentType\n",
            "External    919\n",
            "Internal      4\n",
            "Name: count, dtype: int64\n"
          ]
        }
      ],
      "source": [
        "# Menentukan kateegori fraud=1 yang artinya Yes, terlebih dahulu\n",
        "fraud_data = df2[df2['isfraud'] == 1]\n",
        "\n",
        "# Menentukan agent type yang terdeteksi / terlibat dalam fraud berdasarkan data\n",
        "agent_type = fraud_data['AgentType'].value_counts()\n",
        "\n",
        "# Plot visualisasi\n",
        "plt.figure(figsize=(5, 5))\n",
        "plt.pie(agent_type, labels=agent_type.index, autopct='%1.1f%%', colors=['skyblue', 'orange'])\n",
        "plt.title('Type agent mengurus claim terindikasi fraud')\n",
        "plt.show()\n",
        "\n",
        "print(\"Type agent mengurus claim terindikasi fraud:\")\n",
        "print(agent_type)"
      ]
    },
    {
      "cell_type": "markdown",
      "metadata": {
        "id": "_22sAlGXAUKv"
      },
      "source": [
        "Dari data diatas menunjukan banyaknya claim yang terindikasi fraud terbanyak berasal dari type agent External dengan jumlah 919 agen dan agen asuransi internal 4 orang yang mana. apabila dipersentasekan dari total temuan fraud adalah 99,6 % agen External dan 0,4 agen internal"
      ]
    },
    {
      "cell_type": "markdown",
      "metadata": {
        "id": "KlQEurVJAUKy"
      },
      "source": [
        "#### Apakah marital status mempengaruhi probabilitas terjadinya fraud claim?"
      ]
    },
    {
      "cell_type": "code",
      "execution_count": 26,
      "metadata": {
        "colab": {
          "base_uri": "https://localhost:8080/",
          "height": 0
        },
        "id": "9uaiSlbzAUKy",
        "outputId": "bef71223-f84f-45f3-e7f1-5aa4141069ef"
      },
      "outputs": [
        {
          "data": {
            "image/png": "[encoded data removed]",
            "text/plain": [
              "<Figure size 500x500 with 1 Axes>"
            ]
          },
          "metadata": {},
          "output_type": "display_data"
        }
      ],
      "source": [
        "# Apakah marital status bisa menjadi penyebab terjadinya fraud claim?\n",
        "marital_status_count = df2.groupby(['MaritalStatus', 'isfraud']).size().unstack()\n",
        "\n",
        "plt.figure(figsize=(5, 5))\n",
        "sns.barplot(x=marital_status_count.index, y=marital_status_count[1], color='red', label='fraud claim')\n",
        "sns.barplot(x=marital_status_count.index, y=marital_status_count[0], color='blue', bottom=marital_status_count[1], label='Not fraud')\n",
        "\n",
        "plt.xlabel('\\n Marital Status')\n",
        "plt.ylabel('Jumlag Claim')\n",
        "plt.title('Marital Status vs fraud insurance claim \\n')\n",
        "plt.legend()\n",
        "plt.xticks(rotation=0)\n",
        "plt.tight_layout()\n",
        "plt.show()"
      ]
    },
    {
      "cell_type": "markdown",
      "metadata": {
        "id": "m27tifpdAUKy"
      },
      "source": [
        "Data diatas menunjukan bahwa status marital married ternyata berpotensi dengan claim yang berindikasi fraud"
      ]
    },
    {
      "cell_type": "code",
      "execution_count": 27,
      "metadata": {
        "id": "OrmO5lF6AUKz"
      },
      "outputs": [],
      "source": [
        "# Copy dataframe\n",
        "df3 = df2.copy()"
      ]
    },
    {
      "cell_type": "markdown",
      "metadata": {
        "id": "ufM43_kgGEjs"
      },
      "source": [
        "### **Feature Engineering**"
      ]
    },
    {
      "cell_type": "markdown",
      "metadata": {
        "id": "VhO38dknAUK0"
      },
      "source": [
        "#### Mengganti String dengan angka untuk beberapa kolom Waktu"
      ]
    },
    {
      "cell_type": "code",
      "execution_count": 28,
      "metadata": {
        "id": "2dDe_BOhAUK0"
      },
      "outputs": [],
      "source": [
        "# Mengganti value string kolom bulan dengan angka\n",
        "df3[['Month']] = df3[['Month']].replace( {\n",
        "    'Jan' : 1,\n",
        "    'Feb' : 2,\n",
        "    'Mar' :3,\n",
        "    'Apr' : 4,\n",
        "    'May': 5,\n",
        "    'Jun': 6,\n",
        "    'Jul': 7,\n",
        "    'Aug' : 8,\n",
        "    'Sep': 9,\n",
        "    'Oct' : 10,\n",
        "    'Nov' : 11,\n",
        "    'Dec' : 12\n",
        "    })\n",
        "\n",
        "# Mengganti value string kolom week dengan angka\n",
        "df3[['DayOfWeek']] = df3[['DayOfWeek']].replace( {\n",
        "    'Monday': 1,\n",
        "    'Tuesday': 2,\n",
        "    'Wednesday': 3,\n",
        "    'Thursday': 4,\n",
        "    'Friday': 5,\n",
        "    'Saturday': 6,\n",
        "    'Sunday' : 7\n",
        "    })\n",
        "\n",
        "# Mengganti value string kolom week dengan angka\n",
        "df3[['DayOfWeekClaimed']] = df3[['DayOfWeekClaimed']].replace( {\n",
        "    'Monday': 1,\n",
        "    'Tuesday': 2,\n",
        "    'Wednesday': 3,\n",
        "    'Thursday': 4,\n",
        "    'Friday': 5,\n",
        "    'Saturday': 6,\n",
        "    'Sunday' : 7\n",
        "    })\n",
        "\n",
        "df3[['MonthClaimed']] = df3[['MonthClaimed']].replace( {\n",
        "    'Jan' : 1,\n",
        "    'Feb' : 2,\n",
        "    'Mar' :3,\n",
        "    'Apr' : 4,\n",
        "    'May': 5,\n",
        "    'Jun': 6,\n",
        "    'Jul': 7,\n",
        "    'Aug' : 8,\n",
        "    'Sep': 9,\n",
        "    'Oct' : 10,\n",
        "    'Nov' : 11,\n",
        "    'Dec' : 12\n",
        "    })"
      ]
    },
    {
      "cell_type": "markdown",
      "metadata": {},
      "source": [
        "Setelah dilakukan pengecekan lebih lanjut untuk deductible bukanlah sebuah numerical data maka akan diubah tipedata dari numeric menjadi kategorical"
      ]
    },
    {
      "cell_type": "code",
      "execution_count": 29,
      "metadata": {
        "colab": {
          "base_uri": "https://localhost:8080/",
          "height": 617
        },
        "id": "OmfkBPi0AUK0",
        "outputId": "16a62ff0-b75c-4f80-8bd9-0924ba6cba67"
      },
      "outputs": [],
      "source": [
        "# Mengubah Deductible column sebagai data categorical\n",
        "df3['Deductible'] = df3['Deductible'].astype('category')"
      ]
    },
    {
      "cell_type": "code",
      "execution_count": 30,
      "metadata": {},
      "outputs": [
        {
          "name": "stdout",
          "output_type": "stream",
          "text": [
            "<class 'pandas.core.frame.DataFrame'>\n",
            "Index: 15418 entries, 1 to 15419\n",
            "Data columns (total 33 columns):\n",
            " #   Column                Non-Null Count  Dtype   \n",
            "---  ------                --------------  -----   \n",
            " 0   Month                 15418 non-null  int64   \n",
            " 1   WeekOfMonth           15418 non-null  int64   \n",
            " 2   DayOfWeek             15418 non-null  int64   \n",
            " 3   Brand                 15418 non-null  object  \n",
            " 4   AccidentArea          15418 non-null  object  \n",
            " 5   DayOfWeekClaimed      15418 non-null  int64   \n",
            " 6   MonthClaimed          15418 non-null  int64   \n",
            " 7   WeekOfMonthClaimed    15418 non-null  int64   \n",
            " 8   Gender                15418 non-null  object  \n",
            " 9   MaritalStatus         15418 non-null  object  \n",
            " 10  Age                   15418 non-null  int64   \n",
            " 11  Fault                 15418 non-null  object  \n",
            " 12  Type_Polis            15418 non-null  object  \n",
            " 13  VehicleCategory       15418 non-null  object  \n",
            " 14  VehiclePrice          15418 non-null  object  \n",
            " 15  isfraud               15418 non-null  int64   \n",
            " 16  No_Polis              15418 non-null  int64   \n",
            " 17  RepNumber             15418 non-null  int64   \n",
            " 18  Deductible            15418 non-null  category\n",
            " 19  DriverRating          15418 non-null  int64   \n",
            " 20  Days_Policy_Accident  15418 non-null  object  \n",
            " 21  Days_Policy_Claim     15418 non-null  object  \n",
            " 22  PastNumberOfClaims    15418 non-null  object  \n",
            " 23  AgeOfVehicle          15418 non-null  object  \n",
            " 24  AgeOfPolicyHolder     15418 non-null  object  \n",
            " 25  PoliceReportFiled     15418 non-null  object  \n",
            " 26  WitnessPresent        15418 non-null  object  \n",
            " 27  AgentType             15418 non-null  object  \n",
            " 28  NumberOfSuppliments   15418 non-null  object  \n",
            " 29  AddressChange_Claim   15418 non-null  object  \n",
            " 30  NumberOfCars          15418 non-null  object  \n",
            " 31  Year                  15418 non-null  int64   \n",
            " 32  TypeInsurance         15418 non-null  object  \n",
            "dtypes: category(1), int64(12), object(20)\n",
            "memory usage: 3.9+ MB\n"
          ]
        }
      ],
      "source": [
        "df3.info()"
      ]
    },
    {
      "cell_type": "markdown",
      "metadata": {
        "id": "VimMqWf6AUK1"
      },
      "source": [
        "#### Split Train-Test Data"
      ]
    },
    {
      "cell_type": "code",
      "execution_count": 31,
      "metadata": {
        "colab": {
          "base_uri": "https://localhost:8080/",
          "height": 313
        },
        "id": "1Be0usNxAUK1",
        "outputId": "dcd7b1e9-6bfe-4401-f1e4-5fd0c4e3a84e"
      },
      "outputs": [
        {
          "data": {
            "text/html": [
              "<div>\n",
              "<style scoped>\n",
              "    .dataframe tbody tr th:only-of-type {\n",
              "        vertical-align: middle;\n",
              "    }\n",
              "\n",
              "    .dataframe tbody tr th {\n",
              "        vertical-align: top;\n",
              "    }\n",
              "\n",
              "    .dataframe thead th {\n",
              "        text-align: right;\n",
              "    }\n",
              "</style>\n",
              "<table border=\"1\" class=\"dataframe\">\n",
              "  <thead>\n",
              "    <tr style=\"text-align: right;\">\n",
              "      <th></th>\n",
              "      <th>Month</th>\n",
              "      <th>WeekOfMonth</th>\n",
              "      <th>DayOfWeek</th>\n",
              "      <th>Brand</th>\n",
              "      <th>AccidentArea</th>\n",
              "      <th>DayOfWeekClaimed</th>\n",
              "      <th>MonthClaimed</th>\n",
              "      <th>WeekOfMonthClaimed</th>\n",
              "      <th>Gender</th>\n",
              "      <th>MaritalStatus</th>\n",
              "      <th>...</th>\n",
              "      <th>AgeOfVehicle</th>\n",
              "      <th>AgeOfPolicyHolder</th>\n",
              "      <th>PoliceReportFiled</th>\n",
              "      <th>WitnessPresent</th>\n",
              "      <th>AgentType</th>\n",
              "      <th>NumberOfSuppliments</th>\n",
              "      <th>AddressChange_Claim</th>\n",
              "      <th>NumberOfCars</th>\n",
              "      <th>Year</th>\n",
              "      <th>TypeInsurance</th>\n",
              "    </tr>\n",
              "  </thead>\n",
              "  <tbody>\n",
              "    <tr>\n",
              "      <th>1</th>\n",
              "      <td>1</td>\n",
              "      <td>3</td>\n",
              "      <td>3</td>\n",
              "      <td>Honda</td>\n",
              "      <td>Urban</td>\n",
              "      <td>1</td>\n",
              "      <td>1</td>\n",
              "      <td>4</td>\n",
              "      <td>Male</td>\n",
              "      <td>Single</td>\n",
              "      <td>...</td>\n",
              "      <td>6 years</td>\n",
              "      <td>31 to 35</td>\n",
              "      <td>Yes</td>\n",
              "      <td>No</td>\n",
              "      <td>External</td>\n",
              "      <td>none</td>\n",
              "      <td>no change</td>\n",
              "      <td>1 vehicle</td>\n",
              "      <td>1994</td>\n",
              "      <td>Collision</td>\n",
              "    </tr>\n",
              "    <tr>\n",
              "      <th>2</th>\n",
              "      <td>10</td>\n",
              "      <td>5</td>\n",
              "      <td>5</td>\n",
              "      <td>Honda</td>\n",
              "      <td>Urban</td>\n",
              "      <td>4</td>\n",
              "      <td>11</td>\n",
              "      <td>2</td>\n",
              "      <td>Male</td>\n",
              "      <td>Married</td>\n",
              "      <td>...</td>\n",
              "      <td>7 years</td>\n",
              "      <td>41 to 50</td>\n",
              "      <td>No</td>\n",
              "      <td>No</td>\n",
              "      <td>External</td>\n",
              "      <td>none</td>\n",
              "      <td>no change</td>\n",
              "      <td>1 vehicle</td>\n",
              "      <td>1994</td>\n",
              "      <td>Collision</td>\n",
              "    </tr>\n",
              "    <tr>\n",
              "      <th>3</th>\n",
              "      <td>6</td>\n",
              "      <td>2</td>\n",
              "      <td>6</td>\n",
              "      <td>Toyota</td>\n",
              "      <td>Rural</td>\n",
              "      <td>5</td>\n",
              "      <td>7</td>\n",
              "      <td>1</td>\n",
              "      <td>Male</td>\n",
              "      <td>Married</td>\n",
              "      <td>...</td>\n",
              "      <td>more than 7</td>\n",
              "      <td>51 to 65</td>\n",
              "      <td>Yes</td>\n",
              "      <td>No</td>\n",
              "      <td>External</td>\n",
              "      <td>more than 5</td>\n",
              "      <td>no change</td>\n",
              "      <td>1 vehicle</td>\n",
              "      <td>1994</td>\n",
              "      <td>Liability</td>\n",
              "    </tr>\n",
              "    <tr>\n",
              "      <th>4</th>\n",
              "      <td>1</td>\n",
              "      <td>5</td>\n",
              "      <td>1</td>\n",
              "      <td>Honda</td>\n",
              "      <td>Urban</td>\n",
              "      <td>2</td>\n",
              "      <td>2</td>\n",
              "      <td>2</td>\n",
              "      <td>Female</td>\n",
              "      <td>Single</td>\n",
              "      <td>...</td>\n",
              "      <td>5 years</td>\n",
              "      <td>31 to 35</td>\n",
              "      <td>No</td>\n",
              "      <td>No</td>\n",
              "      <td>External</td>\n",
              "      <td>none</td>\n",
              "      <td>no change</td>\n",
              "      <td>1 vehicle</td>\n",
              "      <td>1994</td>\n",
              "      <td>Collision</td>\n",
              "    </tr>\n",
              "    <tr>\n",
              "      <th>5</th>\n",
              "      <td>10</td>\n",
              "      <td>4</td>\n",
              "      <td>5</td>\n",
              "      <td>Honda</td>\n",
              "      <td>Urban</td>\n",
              "      <td>3</td>\n",
              "      <td>11</td>\n",
              "      <td>1</td>\n",
              "      <td>Male</td>\n",
              "      <td>Single</td>\n",
              "      <td>...</td>\n",
              "      <td>5 years</td>\n",
              "      <td>21 to 25</td>\n",
              "      <td>No</td>\n",
              "      <td>No</td>\n",
              "      <td>External</td>\n",
              "      <td>3 to 5</td>\n",
              "      <td>no change</td>\n",
              "      <td>1 vehicle</td>\n",
              "      <td>1994</td>\n",
              "      <td>Collision</td>\n",
              "    </tr>\n",
              "  </tbody>\n",
              "</table>\n",
              "<p>5 rows × 32 columns</p>\n",
              "</div>"
            ],
            "text/plain": [
              "   Month  WeekOfMonth  DayOfWeek   Brand AccidentArea  DayOfWeekClaimed  \\\n",
              "1      1            3          3   Honda        Urban                 1   \n",
              "2     10            5          5   Honda        Urban                 4   \n",
              "3      6            2          6  Toyota        Rural                 5   \n",
              "4      1            5          1   Honda        Urban                 2   \n",
              "5     10            4          5   Honda        Urban                 3   \n",
              "\n",
              "   MonthClaimed  WeekOfMonthClaimed  Gender MaritalStatus  ...  AgeOfVehicle  \\\n",
              "1             1                   4    Male        Single  ...       6 years   \n",
              "2            11                   2    Male       Married  ...       7 years   \n",
              "3             7                   1    Male       Married  ...   more than 7   \n",
              "4             2                   2  Female        Single  ...       5 years   \n",
              "5            11                   1    Male        Single  ...       5 years   \n",
              "\n",
              "  AgeOfPolicyHolder PoliceReportFiled WitnessPresent AgentType  \\\n",
              "1          31 to 35               Yes             No  External   \n",
              "2          41 to 50                No             No  External   \n",
              "3          51 to 65               Yes             No  External   \n",
              "4          31 to 35                No             No  External   \n",
              "5          21 to 25                No             No  External   \n",
              "\n",
              "   NumberOfSuppliments  AddressChange_Claim NumberOfCars  Year TypeInsurance  \n",
              "1                 none            no change    1 vehicle  1994     Collision  \n",
              "2                 none            no change    1 vehicle  1994     Collision  \n",
              "3          more than 5            no change    1 vehicle  1994     Liability  \n",
              "4                 none            no change    1 vehicle  1994     Collision  \n",
              "5               3 to 5            no change    1 vehicle  1994     Collision  \n",
              "\n",
              "[5 rows x 32 columns]"
            ]
          },
          "execution_count": 31,
          "metadata": {},
          "output_type": "execute_result"
        }
      ],
      "source": [
        "# menentukan y target dan memisahkan x dan y\n",
        "X = df3.drop('isfraud', axis=1)\n",
        "y = df3['isfraud']\n",
        "X.head()"
      ]
    },
    {
      "cell_type": "code",
      "execution_count": 32,
      "metadata": {
        "colab": {
          "base_uri": "https://localhost:8080/"
        },
        "id": "vSM1CvykAUK2",
        "outputId": "d281d78e-e069-415d-c332-cfade5fe14fd"
      },
      "outputs": [
        {
          "name": "stdout",
          "output_type": "stream",
          "text": [
            "X Train Size : (12334, 32)\n",
            "X Test Size : (3084, 32)\n",
            "y Train Size : (12334,)\n",
            "y Test Size : (3084,)\n"
          ]
        }
      ],
      "source": [
        "# Split Train-Set dan Test-Set 0.2 (20% test, 80% train)\n",
        "X_train, X_test, y_train, y_test = train_test_split(X, y, test_size=0.20, random_state=26)\n",
        "\n",
        "print('X Train Size :', X_train.shape)\n",
        "print('X Test Size :', X_test.shape)\n",
        "print('y Train Size :', y_train.shape)\n",
        "print('y Test Size :', y_test.shape)"
      ]
    },
    {
      "cell_type": "markdown",
      "metadata": {
        "id": "H3nKCVcxAUK2"
      },
      "source": [
        "#### Outlier Checking dan Handling"
      ]
    },
    {
      "cell_type": "code",
      "execution_count": 33,
      "metadata": {
        "colab": {
          "base_uri": "https://localhost:8080/"
        },
        "id": "zv5O_WJ_AUK2",
        "outputId": "2a081260-b02c-436d-9461-c5a0444f76af"
      },
      "outputs": [
        {
          "name": "stdout",
          "output_type": "stream",
          "text": [
            "['Month', 'WeekOfMonth', 'DayOfWeek', 'DayOfWeekClaimed', 'MonthClaimed', 'WeekOfMonthClaimed', 'Age', 'No_Polis', 'RepNumber', 'DriverRating', 'Year']\n"
          ]
        }
      ],
      "source": [
        "numeric_col = X_train.select_dtypes(include='number')\n",
        "numeric_list= numeric_col.columns.tolist()\n",
        "\n",
        "print(numeric_list)"
      ]
    },
    {
      "cell_type": "code",
      "execution_count": 34,
      "metadata": {
        "colab": {
          "base_uri": "https://localhost:8080/"
        },
        "id": "P2F97afcAUK2",
        "outputId": "68efcba5-5f42-4cb9-e269-f41ef4f87a58"
      },
      "outputs": [
        {
          "name": "stdout",
          "output_type": "stream",
          "text": [
            "Distribusi fitur Month  :  0.05071609784984338\n",
            "Distribusi fitur WeekOfMonth  :  0.10624652440467346\n",
            "Distribusi fitur DayOfWeek  :  0.0731375874792794\n",
            "Distribusi fitur DayOfWeekClaimed  :  0.2756263893427169\n",
            "Distribusi fitur MonthClaimed  :  0.04547057108739381\n",
            "Distribusi fitur WeekOfMonthClaimed  :  0.16107410354105672\n",
            "Distribusi fitur Age  :  0.7418982359203872\n",
            "Distribusi fitur No_Polis  :  0.004962914597066491\n",
            "Distribusi fitur RepNumber  :  0.0027842124643234836\n",
            "Distribusi fitur DriverRating  :  0.0028644247180143268\n",
            "Distribusi fitur Year  :  0.24935042578271874\n"
          ]
        }
      ],
      "source": [
        "#Cek skewness\n",
        "print('Distribusi fitur Month  : ', X_train['Month'].skew())\n",
        "print('Distribusi fitur WeekOfMonth  : ', X_train['WeekOfMonth'].skew())\n",
        "print('Distribusi fitur DayOfWeek  : ', X_train['DayOfWeek'].skew())\n",
        "print('Distribusi fitur DayOfWeekClaimed  : ', X_train['DayOfWeekClaimed'].skew())\n",
        "print('Distribusi fitur MonthClaimed  : ', X_train['MonthClaimed'].skew())\n",
        "print('Distribusi fitur WeekOfMonthClaimed  : ', X_train['WeekOfMonthClaimed'].skew())\n",
        "print('Distribusi fitur Age  : ', X_train['Age'].skew())\n",
        "print('Distribusi fitur No_Polis  : ', X_train['No_Polis'].skew())\n",
        "print('Distribusi fitur RepNumber  : ', X_train['RepNumber'].skew())\n",
        "print('Distribusi fitur DriverRating  : ', X_train['DriverRating'].skew())\n",
        "print('Distribusi fitur Year  : ', X_train['Year'].skew())"
      ]
    },
    {
      "cell_type": "markdown",
      "metadata": {
        "id": "MNgF5s9UAUK3"
      },
      "source": [
        "Berdasarkan pengecekan distribusi diatas yang tergolong normal -0.5-0.5 adalah fitur       \n",
        "`Month`, `WeekOfMonth`, `DayOfWeek`, `DayOfWeekClaimed`, `MonthClaimed`, `WeekOfMonthClaimed`, `Age`, `No_Polis`, `RepNumber`, `DriverRating`, `Year`\n",
        "\n",
        "Skewness diatas -0.5-0.5 adalah skew yaitu `Age`"
      ]
    },
    {
      "cell_type": "markdown",
      "metadata": {},
      "source": [
        "Selanjutnya akan dilakukan cek dan normalisasi nilai untuk fitur distribusi normal menggunakan z-score"
      ]
    },
    {
      "cell_type": "code",
      "execution_count": 35,
      "metadata": {},
      "outputs": [
        {
          "name": "stdout",
          "output_type": "stream",
          "text": [
            "Column: Month\n",
            "Upper boundary: 16.790919900631586\n",
            "Lower boundary: -4.011610674103289\n",
            "Jumlah Outliers: 0\n",
            "Persentase outliers: 0.00%\n",
            "\n",
            "Column: WeekOfMonth\n",
            "Upper boundary: 6.637986590255422\n",
            "Lower boundary: -1.0542343606462117\n",
            "Jumlah Outliers: 0\n",
            "Persentase outliers: 0.00%\n",
            "\n",
            "Column: DayOfWeek\n",
            "Upper boundary: 9.744092635307739\n",
            "Lower boundary: -2.1138023807269057\n",
            "Jumlah Outliers: 0\n",
            "Persentase outliers: 0.00%\n",
            "\n",
            "Column: DayOfWeekClaimed\n",
            "Upper boundary: 7.167611837562863\n",
            "Lower boundary: -1.5319705208772771\n",
            "Jumlah Outliers: 0\n",
            "Persentase outliers: 0.00%\n",
            "\n",
            "Column: MonthClaimed\n",
            "Upper boundary: 16.739476177128495\n",
            "Lower boundary: -4.01011019691121\n",
            "Jumlah Outliers: 0\n",
            "Persentase outliers: 0.00%\n",
            "\n",
            "Column: WeekOfMonthClaimed\n",
            "Upper boundary: 6.472268385192511\n",
            "Lower boundary: -1.0811543913543407\n",
            "Jumlah Outliers: 0\n",
            "Persentase outliers: 0.00%\n",
            "\n",
            "Column: No_Polis\n",
            "Upper boundary: 21031.248542818255\n",
            "Lower boundary: -5622.393507955274\n",
            "Jumlah Outliers: 0\n",
            "Persentase outliers: 0.00%\n",
            "\n",
            "Column: RepNumber\n",
            "Upper boundary: 22.293199139656707\n",
            "Lower boundary: -5.288983151331751\n",
            "Jumlah Outliers: 0\n",
            "Persentase outliers: 0.00%\n",
            "\n",
            "Column: DriverRating\n",
            "Upper boundary: 5.848212489266933\n",
            "Lower boundary: -0.867833050317687\n",
            "Jumlah Outliers: 0\n",
            "Persentase outliers: 0.00%\n",
            "\n",
            "Column: Year\n",
            "Upper boundary: 1997.2679046218661\n",
            "Lower boundary: 1992.4604884379685\n",
            "Jumlah Outliers: 0\n",
            "Persentase outliers: 0.00%\n",
            "\n"
          ]
        }
      ],
      "source": [
        "# Untuk data distribusi normal memakai Z-Score\n",
        "def find_normal_boundaries(X_train, variable):\n",
        "    upper_boundary = X_train[variable].mean() + 3 * X_train[variable].std()\n",
        "    lower_boundary = X_train[variable].mean() - 3 * X_train[variable].std()\n",
        "\n",
        "    return upper_boundary, lower_boundary\n",
        "\n",
        "column_check = ['Month', 'WeekOfMonth', 'DayOfWeek', 'DayOfWeekClaimed', \n",
        "                    'MonthClaimed', 'WeekOfMonthClaimed', 'No_Polis', \n",
        "                    'RepNumber', 'DriverRating', 'Year']\n",
        "\n",
        "# Mencari boundary untuk menentukan outlier\n",
        "for column in column_check:\n",
        "    upper_boundary, lower_boundary = find_normal_boundaries(X_train, column)\n",
        "    outlier = X_train[column][(X_train[column] < lower_boundary) | (X_train[column]>upper_boundary)]\n",
        "    no_outliers = X_train[column][(X_train[column] >= lower_boundary) & (X_train[column] <= upper_boundary)]\n",
        "    percentage_outliers = len(outlier) * 100 / len(X_train[column])\n",
        "    jumlah_outliers = len(outlier)\n",
        "\n",
        "    print(f\"Column: {column}\")\n",
        "    print(f\"Upper boundary: {upper_boundary}\")\n",
        "    print(f\"Lower boundary: {lower_boundary}\")\n",
        "    print(f\"Jumlah Outliers: {jumlah_outliers}\")\n",
        "    print(f\"Persentase outliers: {percentage_outliers:.2f}%\")\n",
        "    print()"
      ]
    },
    {
      "cell_type": "markdown",
      "metadata": {},
      "source": [
        "Hasilnya dari data numerikal diatas tidak ditemukan adanya outlier untuk data dengan normal distribusi.\n",
        "\n",
        "Selanjutnya untuk distribusi skew yaitu `Age` akan dilakukan normalisasi outlier methode IQR *1.5"
      ]
    },
    {
      "cell_type": "code",
      "execution_count": 36,
      "metadata": {
        "colab": {
          "base_uri": "https://localhost:8080/",
          "height": 919
        },
        "id": "2EUTJEnYAUK3",
        "outputId": "ec759a32-464c-43a2-8880-b640320c6450"
      },
      "outputs": [
        {
          "data": {
            "image/png": "[encoded data removed]",
            "text/plain": [
              "<Figure size 500x500 with 1 Axes>"
            ]
          },
          "metadata": {},
          "output_type": "display_data"
        }
      ],
      "source": [
        "# visualisasi boxplot outlier Age\n",
        "plt.figure(figsize=(5, 5))\n",
        "plt.boxplot(X_train['Age'])\n",
        "plt.title('Box Plot \"Age\" Sebelum Outlier Handling')\n",
        "plt.ylabel('Age')\n",
        "plt.show()"
      ]
    },
    {
      "cell_type": "code",
      "execution_count": 37,
      "metadata": {},
      "outputs": [
        {
          "name": "stdout",
          "output_type": "stream",
          "text": [
            "Jumlah Outlier Age : 185\n",
            "Persentase Outlier Age: 1.50%\n",
            "\n"
          ]
        }
      ],
      "source": [
        "# Cek Outlier dengan IQR 1.5\n",
        "# Outlier checking menggunakan IQR Tukey rule 1.5 Karena data skew untuk kolom Age\n",
        "Q1_age = X_train['Age'].quantile(0.25)\n",
        "Q3_age = X_train['Age'].quantile(0.75)\n",
        "IQR_age = Q3_age - Q1_age\n",
        "lower_age = Q1_age - 1.5 * IQR_age\n",
        "upper_age = Q3_age + 1.5 * IQR_age\n",
        "outliers_age = X_train[(X_train['Age'] < lower_age) | (X_train['Age'] > upper_age)]\n",
        "persentase_outliers_age = (len(outliers_age) / len(X_train)) * 100\n",
        "\n",
        "print(\"Jumlah Outlier Age :\", len(outliers_age))\n",
        "print(\"Persentase Outlier Age: {:.2f}%\".format(persentase_outliers_age))\n",
        "print()"
      ]
    },
    {
      "cell_type": "markdown",
      "metadata": {},
      "source": [
        "Hasilnya ditemukan adanya outlier untuk data distribusi skew `Age` sebanyak 183 atau secara keseluruhan 1.48 %      \n",
        "Selanjutnya akan dilakukan normalisasi outlier methode trimming karena persentase outlier dibawah 5 %"
      ]
    },
    {
      "cell_type": "code",
      "execution_count": 38,
      "metadata": {},
      "outputs": [
        {
          "name": "stdout",
          "output_type": "stream",
          "text": [
            "Before trimming:\n",
            "X_train shape: (12334, 32)\n",
            "Y_train shape: (12334,)\n",
            "\n",
            "After trimming:\n",
            "X_train shape (trim): (12149, 32)\n",
            "Y_train shape (trim): (12149,)\n"
          ]
        }
      ],
      "source": [
        "# Opsi 3\n",
        "X_train_trim = X_train[(X_train['Age'] >= lower_age) & (X_train['Age'] <= upper_age)]\n",
        "y_train_trim = y_train.loc[X_train_trim.index]\n",
        "\n",
        "print(\"Before trimming:\")\n",
        "print(\"X_train shape:\", X_train.shape)\n",
        "print(\"Y_train shape:\", y_train.shape)\n",
        "print()\n",
        "\n",
        "print(\"After trimming:\")\n",
        "print(\"X_train shape (trim):\", X_train_trim.shape)\n",
        "print(\"Y_train shape (trim):\", y_train_trim.shape)"
      ]
    },
    {
      "cell_type": "markdown",
      "metadata": {},
      "source": [
        "Cek kembali nilai outlier untuk kolom age"
      ]
    },
    {
      "cell_type": "code",
      "execution_count": 39,
      "metadata": {},
      "outputs": [
        {
          "name": "stdout",
          "output_type": "stream",
          "text": [
            "Jumlah Outlier Age setelah handling : 0\n",
            "Persentase Outlier Age setelah handling : 0.00%\n",
            "\n"
          ]
        },
        {
          "data": {
            "image/png": "[encoded data removed]",
            "text/plain": [
              "<Figure size 640x480 with 1 Axes>"
            ]
          },
          "metadata": {},
          "output_type": "display_data"
        }
      ],
      "source": [
        "plt.boxplot(X_train_trim['Age'])\n",
        "\n",
        "outliers_age1 = X_train_trim[(X_train_trim['Age'] < lower_age) | (X_train_trim['Age'] > upper_age)]\n",
        "persentase_outliers_age1 = (len(outliers_age1) / len(X_train_trim)) * 100\n",
        "\n",
        "print(\"Jumlah Outlier Age setelah handling :\", len(outliers_age1))\n",
        "print(\"Persentase Outlier Age setelah handling : {:.2f}%\".format(persentase_outliers_age1))\n",
        "print()"
      ]
    },
    {
      "cell_type": "markdown",
      "metadata": {},
      "source": [
        "Hasilnya data di kolom age sudah dinormalisasi dan tidak terdapat outlier."
      ]
    },
    {
      "cell_type": "code",
      "execution_count": 40,
      "metadata": {
        "colab": {
          "base_uri": "https://localhost:8080/"
        },
        "id": "xk2F7o8hAUK6",
        "outputId": "8af402fa-6dc3-440a-c7d0-6c433b4d8756"
      },
      "outputs": [
        {
          "name": "stdout",
          "output_type": "stream",
          "text": [
            "Data size of X_train before trimming: (12334, 32)\n",
            "Data size of y_train before trimming: (12334,)\n",
            "Data size of X_train after trimming : (12149, 32)\n",
            "Data size of y_train after trimming : (12149,)\n"
          ]
        }
      ],
      "source": [
        "# Print X_train and y_train sebelum dan sesudah trimming\n",
        "print('Data size of X_train before trimming:', X_train.shape)\n",
        "print('Data size of y_train before trimming:', y_train.shape)\n",
        "print('Data size of X_train after trimming :', X_train_trim.shape)\n",
        "print('Data size of y_train after trimming :', y_train_trim.shape)"
      ]
    },
    {
      "cell_type": "markdown",
      "metadata": {},
      "source": [
        "Setelah dilakukan pengecekan outlier untuk data numerical diatas ternyata data X_train menjadi berkurang karena dilakukan trim tetapi tidak terlalu banyak"
      ]
    },
    {
      "cell_type": "markdown",
      "metadata": {
        "id": "ARLiaq6PAUK6"
      },
      "source": [
        "#### Missing Value Checking and Handling"
      ]
    },
    {
      "cell_type": "code",
      "execution_count": 41,
      "metadata": {},
      "outputs": [
        {
          "data": {
            "text/plain": [
              "Month                   0\n",
              "WeekOfMonth             0\n",
              "DayOfWeek               0\n",
              "Brand                   0\n",
              "AccidentArea            0\n",
              "DayOfWeekClaimed        0\n",
              "MonthClaimed            0\n",
              "WeekOfMonthClaimed      0\n",
              "Gender                  0\n",
              "MaritalStatus           0\n",
              "Age                     0\n",
              "Fault                   0\n",
              "Type_Polis              0\n",
              "VehicleCategory         0\n",
              "VehiclePrice            0\n",
              "No_Polis                0\n",
              "RepNumber               0\n",
              "Deductible              0\n",
              "DriverRating            0\n",
              "Days_Policy_Accident    0\n",
              "Days_Policy_Claim       0\n",
              "PastNumberOfClaims      0\n",
              "AgeOfVehicle            0\n",
              "AgeOfPolicyHolder       0\n",
              "PoliceReportFiled       0\n",
              "WitnessPresent          0\n",
              "AgentType               0\n",
              "NumberOfSuppliments     0\n",
              "AddressChange_Claim     0\n",
              "NumberOfCars            0\n",
              "Year                    0\n",
              "TypeInsurance           0\n",
              "dtype: int64"
            ]
          },
          "execution_count": 41,
          "metadata": {},
          "output_type": "execute_result"
        }
      ],
      "source": [
        "X_train_trim.isnull().sum()"
      ]
    },
    {
      "cell_type": "code",
      "execution_count": 42,
      "metadata": {},
      "outputs": [
        {
          "data": {
            "text/plain": [
              "Month                   0\n",
              "WeekOfMonth             0\n",
              "DayOfWeek               0\n",
              "Brand                   0\n",
              "AccidentArea            0\n",
              "DayOfWeekClaimed        0\n",
              "MonthClaimed            0\n",
              "WeekOfMonthClaimed      0\n",
              "Gender                  0\n",
              "MaritalStatus           0\n",
              "Age                     0\n",
              "Fault                   0\n",
              "Type_Polis              0\n",
              "VehicleCategory         0\n",
              "VehiclePrice            0\n",
              "No_Polis                0\n",
              "RepNumber               0\n",
              "Deductible              0\n",
              "DriverRating            0\n",
              "Days_Policy_Accident    0\n",
              "Days_Policy_Claim       0\n",
              "PastNumberOfClaims      0\n",
              "AgeOfVehicle            0\n",
              "AgeOfPolicyHolder       0\n",
              "PoliceReportFiled       0\n",
              "WitnessPresent          0\n",
              "AgentType               0\n",
              "NumberOfSuppliments     0\n",
              "AddressChange_Claim     0\n",
              "NumberOfCars            0\n",
              "Year                    0\n",
              "TypeInsurance           0\n",
              "dtype: int64"
            ]
          },
          "execution_count": 42,
          "metadata": {},
          "output_type": "execute_result"
        }
      ],
      "source": [
        "X_test.isnull().sum()"
      ]
    },
    {
      "cell_type": "code",
      "execution_count": 43,
      "metadata": {},
      "outputs": [
        {
          "data": {
            "text/plain": [
              "0"
            ]
          },
          "execution_count": 43,
          "metadata": {},
          "output_type": "execute_result"
        }
      ],
      "source": [
        "y_test.isnull().sum()"
      ]
    },
    {
      "cell_type": "code",
      "execution_count": 44,
      "metadata": {},
      "outputs": [
        {
          "data": {
            "text/plain": [
              "0"
            ]
          },
          "execution_count": 44,
          "metadata": {},
          "output_type": "execute_result"
        }
      ],
      "source": [
        "y_train_trim.isnull().sum()"
      ]
    },
    {
      "cell_type": "code",
      "execution_count": 45,
      "metadata": {
        "colab": {
          "base_uri": "https://localhost:8080/"
        },
        "id": "jQ1obqBVAUK7",
        "outputId": "cf18abf3-f84a-4577-cfc8-5eb9018279d7"
      },
      "outputs": [
        {
          "name": "stdout",
          "output_type": "stream",
          "text": [
            "X Train Size: (12149, 32)\n",
            "X Test Size: (3084, 32)\n",
            "y Train Size: (12149,)\n",
            "y Test Size: (3084,)\n"
          ]
        }
      ],
      "source": [
        "# Missing value checking and handling di y_train dan drop jika ada menggunakan dropna\n",
        "Missingvalue_y_train = y_train_trim[y_train_trim.isnull()].index\n",
        "X_train_cleaned = X_train_trim.drop(Missingvalue_y_train)\n",
        "y_train_cleaned = y_train_trim.dropna()\n",
        "\n",
        "# Missing value checking and handling di y_test dan drop jika ada menggunakan dropna\n",
        "Missingvalue_y_test = y_test[y_test.isnull()].index\n",
        "X_test_cleaned = X_test.drop(Missingvalue_y_test)\n",
        "y_test_cleaned = y_test.dropna()\n",
        "\n",
        "# Print info and shape\n",
        "print('X Train Size:', X_train_cleaned.shape)\n",
        "print('X Test Size:', X_test_cleaned.shape)\n",
        "print('y Train Size:', y_train_cleaned.shape)\n",
        "print('y Test Size:', y_test_cleaned.shape)"
      ]
    },
    {
      "cell_type": "markdown",
      "metadata": {
        "id": "e52IWPSjAUK7"
      },
      "source": [
        "Tidak ditemukan missing value (0) maka selanjutnya langsung ke fitur selection"
      ]
    },
    {
      "cell_type": "markdown",
      "metadata": {
        "id": "hrhxdgxLAUK7"
      },
      "source": [
        "#### Feature Selection"
      ]
    },
    {
      "cell_type": "code",
      "execution_count": 46,
      "metadata": {
        "colab": {
          "base_uri": "https://localhost:8080/"
        },
        "id": "WWhEGWyxAUK7",
        "outputId": "7317f3ef-f1e5-49b8-8afe-5d25394f7bda"
      },
      "outputs": [
        {
          "name": "stdout",
          "output_type": "stream",
          "text": [
            "(12149, 33)\n",
            "(3084, 33)\n"
          ]
        }
      ],
      "source": [
        "# Menggabungkan data (Concatenate)\n",
        "train_new = pd.concat([X_train_cleaned, y_train_cleaned], axis = 1)\n",
        "test_new = pd.concat([X_test_cleaned, y_test_cleaned], axis = 1)\n",
        "\n",
        "print(train_new.shape)\n",
        "print(test_new.shape)"
      ]
    },
    {
      "cell_type": "code",
      "execution_count": 47,
      "metadata": {
        "colab": {
          "base_uri": "https://localhost:8080/",
          "height": 313
        },
        "id": "FHWousQHAUK8",
        "outputId": "e09b4999-91dd-48f2-817a-dca712cb4015"
      },
      "outputs": [
        {
          "data": {
            "text/html": [
              "<div>\n",
              "<style scoped>\n",
              "    .dataframe tbody tr th:only-of-type {\n",
              "        vertical-align: middle;\n",
              "    }\n",
              "\n",
              "    .dataframe tbody tr th {\n",
              "        vertical-align: top;\n",
              "    }\n",
              "\n",
              "    .dataframe thead th {\n",
              "        text-align: right;\n",
              "    }\n",
              "</style>\n",
              "<table border=\"1\" class=\"dataframe\">\n",
              "  <thead>\n",
              "    <tr style=\"text-align: right;\">\n",
              "      <th></th>\n",
              "      <th>Month</th>\n",
              "      <th>WeekOfMonth</th>\n",
              "      <th>DayOfWeek</th>\n",
              "      <th>Brand</th>\n",
              "      <th>AccidentArea</th>\n",
              "      <th>DayOfWeekClaimed</th>\n",
              "      <th>MonthClaimed</th>\n",
              "      <th>WeekOfMonthClaimed</th>\n",
              "      <th>Gender</th>\n",
              "      <th>MaritalStatus</th>\n",
              "      <th>...</th>\n",
              "      <th>AgeOfPolicyHolder</th>\n",
              "      <th>PoliceReportFiled</th>\n",
              "      <th>WitnessPresent</th>\n",
              "      <th>AgentType</th>\n",
              "      <th>NumberOfSuppliments</th>\n",
              "      <th>AddressChange_Claim</th>\n",
              "      <th>NumberOfCars</th>\n",
              "      <th>Year</th>\n",
              "      <th>TypeInsurance</th>\n",
              "      <th>isfraud</th>\n",
              "    </tr>\n",
              "  </thead>\n",
              "  <tbody>\n",
              "    <tr>\n",
              "      <th>5247</th>\n",
              "      <td>9</td>\n",
              "      <td>4</td>\n",
              "      <td>4</td>\n",
              "      <td>Pontiac</td>\n",
              "      <td>Urban</td>\n",
              "      <td>2</td>\n",
              "      <td>9</td>\n",
              "      <td>3</td>\n",
              "      <td>Male</td>\n",
              "      <td>Married</td>\n",
              "      <td>...</td>\n",
              "      <td>41 to 50</td>\n",
              "      <td>No</td>\n",
              "      <td>No</td>\n",
              "      <td>External</td>\n",
              "      <td>none</td>\n",
              "      <td>no change</td>\n",
              "      <td>1 vehicle</td>\n",
              "      <td>1994</td>\n",
              "      <td>All Perils</td>\n",
              "      <td>0</td>\n",
              "    </tr>\n",
              "    <tr>\n",
              "      <th>7567</th>\n",
              "      <td>10</td>\n",
              "      <td>5</td>\n",
              "      <td>6</td>\n",
              "      <td>Pontiac</td>\n",
              "      <td>Urban</td>\n",
              "      <td>3</td>\n",
              "      <td>11</td>\n",
              "      <td>1</td>\n",
              "      <td>Female</td>\n",
              "      <td>Married</td>\n",
              "      <td>...</td>\n",
              "      <td>31 to 35</td>\n",
              "      <td>No</td>\n",
              "      <td>No</td>\n",
              "      <td>External</td>\n",
              "      <td>none</td>\n",
              "      <td>no change</td>\n",
              "      <td>1 vehicle</td>\n",
              "      <td>1995</td>\n",
              "      <td>All Perils</td>\n",
              "      <td>1</td>\n",
              "    </tr>\n",
              "    <tr>\n",
              "      <th>8988</th>\n",
              "      <td>3</td>\n",
              "      <td>3</td>\n",
              "      <td>7</td>\n",
              "      <td>Mazda</td>\n",
              "      <td>Urban</td>\n",
              "      <td>3</td>\n",
              "      <td>3</td>\n",
              "      <td>4</td>\n",
              "      <td>Male</td>\n",
              "      <td>Married</td>\n",
              "      <td>...</td>\n",
              "      <td>41 to 50</td>\n",
              "      <td>No</td>\n",
              "      <td>No</td>\n",
              "      <td>External</td>\n",
              "      <td>1 to 2</td>\n",
              "      <td>4 to 8 years</td>\n",
              "      <td>2 vehicles</td>\n",
              "      <td>1995</td>\n",
              "      <td>All Perils</td>\n",
              "      <td>0</td>\n",
              "    </tr>\n",
              "    <tr>\n",
              "      <th>13049</th>\n",
              "      <td>7</td>\n",
              "      <td>1</td>\n",
              "      <td>2</td>\n",
              "      <td>Mazda</td>\n",
              "      <td>Urban</td>\n",
              "      <td>3</td>\n",
              "      <td>7</td>\n",
              "      <td>1</td>\n",
              "      <td>Male</td>\n",
              "      <td>Single</td>\n",
              "      <td>...</td>\n",
              "      <td>51 to 65</td>\n",
              "      <td>No</td>\n",
              "      <td>No</td>\n",
              "      <td>External</td>\n",
              "      <td>more than 5</td>\n",
              "      <td>no change</td>\n",
              "      <td>1 vehicle</td>\n",
              "      <td>1996</td>\n",
              "      <td>All Perils</td>\n",
              "      <td>0</td>\n",
              "    </tr>\n",
              "    <tr>\n",
              "      <th>3211</th>\n",
              "      <td>5</td>\n",
              "      <td>3</td>\n",
              "      <td>6</td>\n",
              "      <td>Pontiac</td>\n",
              "      <td>Urban</td>\n",
              "      <td>1</td>\n",
              "      <td>5</td>\n",
              "      <td>4</td>\n",
              "      <td>Male</td>\n",
              "      <td>Married</td>\n",
              "      <td>...</td>\n",
              "      <td>41 to 50</td>\n",
              "      <td>No</td>\n",
              "      <td>No</td>\n",
              "      <td>External</td>\n",
              "      <td>more than 5</td>\n",
              "      <td>no change</td>\n",
              "      <td>1 vehicle</td>\n",
              "      <td>1994</td>\n",
              "      <td>Liability</td>\n",
              "      <td>0</td>\n",
              "    </tr>\n",
              "  </tbody>\n",
              "</table>\n",
              "<p>5 rows × 33 columns</p>\n",
              "</div>"
            ],
            "text/plain": [
              "       Month  WeekOfMonth  DayOfWeek    Brand AccidentArea  DayOfWeekClaimed  \\\n",
              "5247       9            4          4  Pontiac        Urban                 2   \n",
              "7567      10            5          6  Pontiac        Urban                 3   \n",
              "8988       3            3          7    Mazda        Urban                 3   \n",
              "13049      7            1          2    Mazda        Urban                 3   \n",
              "3211       5            3          6  Pontiac        Urban                 1   \n",
              "\n",
              "       MonthClaimed  WeekOfMonthClaimed  Gender MaritalStatus  ...  \\\n",
              "5247              9                   3    Male       Married  ...   \n",
              "7567             11                   1  Female       Married  ...   \n",
              "8988              3                   4    Male       Married  ...   \n",
              "13049             7                   1    Male        Single  ...   \n",
              "3211              5                   4    Male       Married  ...   \n",
              "\n",
              "       AgeOfPolicyHolder PoliceReportFiled WitnessPresent AgentType  \\\n",
              "5247            41 to 50                No             No  External   \n",
              "7567            31 to 35                No             No  External   \n",
              "8988            41 to 50                No             No  External   \n",
              "13049           51 to 65                No             No  External   \n",
              "3211            41 to 50                No             No  External   \n",
              "\n",
              "      NumberOfSuppliments  AddressChange_Claim  NumberOfCars  Year  \\\n",
              "5247                 none            no change     1 vehicle  1994   \n",
              "7567                 none            no change     1 vehicle  1995   \n",
              "8988               1 to 2         4 to 8 years    2 vehicles  1995   \n",
              "13049         more than 5            no change     1 vehicle  1996   \n",
              "3211          more than 5            no change     1 vehicle  1994   \n",
              "\n",
              "       TypeInsurance isfraud  \n",
              "5247      All Perils       0  \n",
              "7567      All Perils       1  \n",
              "8988      All Perils       0  \n",
              "13049     All Perils       0  \n",
              "3211       Liability       0  \n",
              "\n",
              "[5 rows x 33 columns]"
            ]
          },
          "execution_count": 47,
          "metadata": {},
          "output_type": "execute_result"
        }
      ],
      "source": [
        "train_new.head(5)"
      ]
    },
    {
      "cell_type": "code",
      "execution_count": 48,
      "metadata": {
        "colab": {
          "base_uri": "https://localhost:8080/",
          "height": 313
        },
        "id": "zjsBlWuyAUK8",
        "outputId": "4847a4cd-77d2-48a7-eaf7-622fce227b00"
      },
      "outputs": [
        {
          "data": {
            "text/html": [
              "<div>\n",
              "<style scoped>\n",
              "    .dataframe tbody tr th:only-of-type {\n",
              "        vertical-align: middle;\n",
              "    }\n",
              "\n",
              "    .dataframe tbody tr th {\n",
              "        vertical-align: top;\n",
              "    }\n",
              "\n",
              "    .dataframe thead th {\n",
              "        text-align: right;\n",
              "    }\n",
              "</style>\n",
              "<table border=\"1\" class=\"dataframe\">\n",
              "  <thead>\n",
              "    <tr style=\"text-align: right;\">\n",
              "      <th></th>\n",
              "      <th>Month</th>\n",
              "      <th>WeekOfMonth</th>\n",
              "      <th>DayOfWeek</th>\n",
              "      <th>Brand</th>\n",
              "      <th>AccidentArea</th>\n",
              "      <th>DayOfWeekClaimed</th>\n",
              "      <th>MonthClaimed</th>\n",
              "      <th>WeekOfMonthClaimed</th>\n",
              "      <th>Gender</th>\n",
              "      <th>MaritalStatus</th>\n",
              "      <th>...</th>\n",
              "      <th>AgeOfPolicyHolder</th>\n",
              "      <th>PoliceReportFiled</th>\n",
              "      <th>WitnessPresent</th>\n",
              "      <th>AgentType</th>\n",
              "      <th>NumberOfSuppliments</th>\n",
              "      <th>AddressChange_Claim</th>\n",
              "      <th>NumberOfCars</th>\n",
              "      <th>Year</th>\n",
              "      <th>TypeInsurance</th>\n",
              "      <th>isfraud</th>\n",
              "    </tr>\n",
              "  </thead>\n",
              "  <tbody>\n",
              "    <tr>\n",
              "      <th>14402</th>\n",
              "      <td>2</td>\n",
              "      <td>2</td>\n",
              "      <td>7</td>\n",
              "      <td>Pontiac</td>\n",
              "      <td>Urban</td>\n",
              "      <td>1</td>\n",
              "      <td>2</td>\n",
              "      <td>3</td>\n",
              "      <td>Male</td>\n",
              "      <td>Married</td>\n",
              "      <td>...</td>\n",
              "      <td>36 to 40</td>\n",
              "      <td>No</td>\n",
              "      <td>No</td>\n",
              "      <td>External</td>\n",
              "      <td>none</td>\n",
              "      <td>no change</td>\n",
              "      <td>1 vehicle</td>\n",
              "      <td>1996</td>\n",
              "      <td>All Perils</td>\n",
              "      <td>0</td>\n",
              "    </tr>\n",
              "    <tr>\n",
              "      <th>10554</th>\n",
              "      <td>3</td>\n",
              "      <td>5</td>\n",
              "      <td>1</td>\n",
              "      <td>Toyota</td>\n",
              "      <td>Urban</td>\n",
              "      <td>3</td>\n",
              "      <td>4</td>\n",
              "      <td>1</td>\n",
              "      <td>Male</td>\n",
              "      <td>Married</td>\n",
              "      <td>...</td>\n",
              "      <td>31 to 35</td>\n",
              "      <td>No</td>\n",
              "      <td>No</td>\n",
              "      <td>External</td>\n",
              "      <td>none</td>\n",
              "      <td>no change</td>\n",
              "      <td>1 vehicle</td>\n",
              "      <td>1995</td>\n",
              "      <td>Collision</td>\n",
              "      <td>0</td>\n",
              "    </tr>\n",
              "    <tr>\n",
              "      <th>7288</th>\n",
              "      <td>4</td>\n",
              "      <td>1</td>\n",
              "      <td>1</td>\n",
              "      <td>Toyota</td>\n",
              "      <td>Urban</td>\n",
              "      <td>1</td>\n",
              "      <td>4</td>\n",
              "      <td>1</td>\n",
              "      <td>Male</td>\n",
              "      <td>Married</td>\n",
              "      <td>...</td>\n",
              "      <td>36 to 40</td>\n",
              "      <td>No</td>\n",
              "      <td>No</td>\n",
              "      <td>External</td>\n",
              "      <td>more than 5</td>\n",
              "      <td>no change</td>\n",
              "      <td>1 vehicle</td>\n",
              "      <td>1995</td>\n",
              "      <td>Liability</td>\n",
              "      <td>0</td>\n",
              "    </tr>\n",
              "    <tr>\n",
              "      <th>7823</th>\n",
              "      <td>11</td>\n",
              "      <td>2</td>\n",
              "      <td>6</td>\n",
              "      <td>Pontiac</td>\n",
              "      <td>Urban</td>\n",
              "      <td>4</td>\n",
              "      <td>12</td>\n",
              "      <td>3</td>\n",
              "      <td>Female</td>\n",
              "      <td>Single</td>\n",
              "      <td>...</td>\n",
              "      <td>31 to 35</td>\n",
              "      <td>No</td>\n",
              "      <td>No</td>\n",
              "      <td>External</td>\n",
              "      <td>none</td>\n",
              "      <td>no change</td>\n",
              "      <td>1 vehicle</td>\n",
              "      <td>1995</td>\n",
              "      <td>Liability</td>\n",
              "      <td>0</td>\n",
              "    </tr>\n",
              "    <tr>\n",
              "      <th>14121</th>\n",
              "      <td>3</td>\n",
              "      <td>5</td>\n",
              "      <td>1</td>\n",
              "      <td>Pontiac</td>\n",
              "      <td>Urban</td>\n",
              "      <td>1</td>\n",
              "      <td>4</td>\n",
              "      <td>1</td>\n",
              "      <td>Male</td>\n",
              "      <td>Married</td>\n",
              "      <td>...</td>\n",
              "      <td>over 65</td>\n",
              "      <td>No</td>\n",
              "      <td>No</td>\n",
              "      <td>External</td>\n",
              "      <td>none</td>\n",
              "      <td>no change</td>\n",
              "      <td>1 vehicle</td>\n",
              "      <td>1996</td>\n",
              "      <td>Collision</td>\n",
              "      <td>0</td>\n",
              "    </tr>\n",
              "  </tbody>\n",
              "</table>\n",
              "<p>5 rows × 33 columns</p>\n",
              "</div>"
            ],
            "text/plain": [
              "       Month  WeekOfMonth  DayOfWeek    Brand AccidentArea  DayOfWeekClaimed  \\\n",
              "14402      2            2          7  Pontiac        Urban                 1   \n",
              "10554      3            5          1   Toyota        Urban                 3   \n",
              "7288       4            1          1   Toyota        Urban                 1   \n",
              "7823      11            2          6  Pontiac        Urban                 4   \n",
              "14121      3            5          1  Pontiac        Urban                 1   \n",
              "\n",
              "       MonthClaimed  WeekOfMonthClaimed  Gender MaritalStatus  ...  \\\n",
              "14402             2                   3    Male       Married  ...   \n",
              "10554             4                   1    Male       Married  ...   \n",
              "7288              4                   1    Male       Married  ...   \n",
              "7823             12                   3  Female        Single  ...   \n",
              "14121             4                   1    Male       Married  ...   \n",
              "\n",
              "       AgeOfPolicyHolder PoliceReportFiled WitnessPresent AgentType  \\\n",
              "14402           36 to 40                No             No  External   \n",
              "10554           31 to 35                No             No  External   \n",
              "7288            36 to 40                No             No  External   \n",
              "7823            31 to 35                No             No  External   \n",
              "14121            over 65                No             No  External   \n",
              "\n",
              "      NumberOfSuppliments  AddressChange_Claim  NumberOfCars  Year  \\\n",
              "14402                none            no change     1 vehicle  1996   \n",
              "10554                none            no change     1 vehicle  1995   \n",
              "7288          more than 5            no change     1 vehicle  1995   \n",
              "7823                 none            no change     1 vehicle  1995   \n",
              "14121                none            no change     1 vehicle  1996   \n",
              "\n",
              "       TypeInsurance isfraud  \n",
              "14402     All Perils       0  \n",
              "10554      Collision       0  \n",
              "7288       Liability       0  \n",
              "7823       Liability       0  \n",
              "14121      Collision       0  \n",
              "\n",
              "[5 rows x 33 columns]"
            ]
          },
          "execution_count": 48,
          "metadata": {},
          "output_type": "execute_result"
        }
      ],
      "source": [
        "test_new.tail(5)"
      ]
    },
    {
      "cell_type": "code",
      "execution_count": 49,
      "metadata": {
        "colab": {
          "base_uri": "https://localhost:8080/"
        },
        "id": "VTp59muhAUK8",
        "outputId": "cc025f2a-59df-47ef-d541-be8c53dec6de"
      },
      "outputs": [
        {
          "name": "stdout",
          "output_type": "stream",
          "text": [
            "<class 'pandas.core.frame.DataFrame'>\n",
            "Index: 12149 entries, 5247 to 4919\n",
            "Data columns (total 33 columns):\n",
            " #   Column                Non-Null Count  Dtype   \n",
            "---  ------                --------------  -----   \n",
            " 0   Month                 12149 non-null  int64   \n",
            " 1   WeekOfMonth           12149 non-null  int64   \n",
            " 2   DayOfWeek             12149 non-null  int64   \n",
            " 3   Brand                 12149 non-null  object  \n",
            " 4   AccidentArea          12149 non-null  object  \n",
            " 5   DayOfWeekClaimed      12149 non-null  int64   \n",
            " 6   MonthClaimed          12149 non-null  int64   \n",
            " 7   WeekOfMonthClaimed    12149 non-null  int64   \n",
            " 8   Gender                12149 non-null  object  \n",
            " 9   MaritalStatus         12149 non-null  object  \n",
            " 10  Age                   12149 non-null  int64   \n",
            " 11  Fault                 12149 non-null  object  \n",
            " 12  Type_Polis            12149 non-null  object  \n",
            " 13  VehicleCategory       12149 non-null  object  \n",
            " 14  VehiclePrice          12149 non-null  object  \n",
            " 15  No_Polis              12149 non-null  int64   \n",
            " 16  RepNumber             12149 non-null  int64   \n",
            " 17  Deductible            12149 non-null  category\n",
            " 18  DriverRating          12149 non-null  int64   \n",
            " 19  Days_Policy_Accident  12149 non-null  object  \n",
            " 20  Days_Policy_Claim     12149 non-null  object  \n",
            " 21  PastNumberOfClaims    12149 non-null  object  \n",
            " 22  AgeOfVehicle          12149 non-null  object  \n",
            " 23  AgeOfPolicyHolder     12149 non-null  object  \n",
            " 24  PoliceReportFiled     12149 non-null  object  \n",
            " 25  WitnessPresent        12149 non-null  object  \n",
            " 26  AgentType             12149 non-null  object  \n",
            " 27  NumberOfSuppliments   12149 non-null  object  \n",
            " 28  AddressChange_Claim   12149 non-null  object  \n",
            " 29  NumberOfCars          12149 non-null  object  \n",
            " 30  Year                  12149 non-null  int64   \n",
            " 31  TypeInsurance         12149 non-null  object  \n",
            " 32  isfraud               12149 non-null  int64   \n",
            "dtypes: category(1), int64(12), object(20)\n",
            "memory usage: 3.1+ MB\n"
          ]
        }
      ],
      "source": [
        "train_new.info()"
      ]
    },
    {
      "cell_type": "markdown",
      "metadata": {},
      "source": [
        "Cek korelasi untuk numeric fitur"
      ]
    },
    {
      "cell_type": "code",
      "execution_count": 50,
      "metadata": {},
      "outputs": [
        {
          "data": {
            "text/plain": [
              "isfraud               1.000000\n",
              "DayOfWeekClaimed      0.009622\n",
              "DayOfWeek             0.009023\n",
              "DriverRating          0.007760\n",
              "WeekOfMonthClaimed    0.000834\n",
              "WeekOfMonth          -0.006151\n",
              "RepNumber            -0.006156\n",
              "No_Polis             -0.014610\n",
              "Age                  -0.016711\n",
              "Year                 -0.019053\n",
              "Month                -0.023971\n",
              "MonthClaimed         -0.025569\n",
              "Name: isfraud, dtype: float64"
            ]
          },
          "execution_count": 50,
          "metadata": {},
          "output_type": "execute_result"
        }
      ],
      "source": [
        "numeric_train_new = train_new.select_dtypes(include=['int64', 'float64'])\n",
        "\n",
        "corr_numeric = numeric_train_new.corr()['isfraud'].sort_values(ascending=False)\n",
        "corr_numeric"
      ]
    },
    {
      "cell_type": "markdown",
      "metadata": {},
      "source": [
        "Untuk Kolom Numerik =    \n",
        "Berdasarkan korelasi diatas variabel independen yang mendekati (1 dan -1) dengan `isfraud` adalah       \n",
        "`DayOfWeek`, `DriverRating`, `DayOfWeekClaimed`, `MonthClaimed`,`Age` dan `Month`.\n",
        "\n",
        "Selanjutnya cek korelasi secara keseluruhan dengan fitur kategorikal"
      ]
    },
    {
      "cell_type": "code",
      "execution_count": 51,
      "metadata": {},
      "outputs": [
        {
          "name": "stdout",
          "output_type": "stream",
          "text": [
            "interval columns not set, guessing: ['Month', 'WeekOfMonth', 'DayOfWeek', 'DayOfWeekClaimed', 'MonthClaimed', 'WeekOfMonthClaimed', 'Age', 'No_Polis', 'RepNumber', 'DriverRating', 'Year', 'isfraud']\n"
          ]
        },
        {
          "data": {
            "text/plain": [
              "isfraud                 1.000000\n",
              "Type_Polis              0.223198\n",
              "Fault                   0.213034\n",
              "Deductible              0.102696\n",
              "TypeInsurance           0.098633\n",
              "PastNumberOfClaims      0.086789\n",
              "VehiclePrice            0.086383\n",
              "VehicleCategory         0.084578\n",
              "MonthClaimed            0.065946\n",
              "Brand                   0.065721\n",
              "AddressChange_Claim     0.062310\n",
              "Gender                  0.055524\n",
              "AccidentArea            0.050557\n",
              "Month                   0.049758\n",
              "NumberOfSuppliments     0.047626\n",
              "AgeOfPolicyHolder       0.037169\n",
              "AgentType               0.031593\n",
              "AgeOfVehicle            0.030308\n",
              "No_Polis                0.020001\n",
              "Days_Policy_Accident    0.018257\n",
              "Days_Policy_Claim       0.014588\n",
              "PoliceReportFiled       0.011515\n",
              "Year                    0.009140\n",
              "DayOfWeek               0.000681\n",
              "NumberOfCars            0.000000\n",
              "DayOfWeekClaimed        0.000000\n",
              "Age                     0.000000\n",
              "WitnessPresent          0.000000\n",
              "WeekOfMonthClaimed      0.000000\n",
              "DriverRating            0.000000\n",
              "MaritalStatus           0.000000\n",
              "WeekOfMonth             0.000000\n",
              "RepNumber               0.000000\n",
              "Name: isfraud, dtype: float64"
            ]
          },
          "execution_count": 51,
          "metadata": {},
          "output_type": "execute_result"
        }
      ],
      "source": [
        "phik_corr_matrix = phik_matrix(train_new)\n",
        "isfraud_corr = phik_corr_matrix['isfraud']\n",
        "isfraud_corr_sorted = isfraud_corr.sort_values(ascending=False)\n",
        "isfraud_corr_sorted"
      ]
    },
    {
      "cell_type": "markdown",
      "metadata": {},
      "source": [
        "Berdasarkan hasil cek phix_matrix diatas fitur dengan korelasi tertinggi setelah `isfraud` adalah       \n",
        "                \n",
        "`Type_Polis`,`Fault`, `PastNumberOfClaims`, `Deductible`, `TypeInsurance`, `VehiclePrice`, `VehicleCategory`, `MonthClaimed`,`AddressChange_Claim`, `AgeOfVehicle`, `Brand`, `AgeOfPolicyHolder`, `AccidentArea`, `Month`, dan `PoliceReportFiled`\n",
        "\n",
        "Selain kolom diatas akan di drop"
      ]
    },
    {
      "cell_type": "code",
      "execution_count": 52,
      "metadata": {},
      "outputs": [],
      "source": [
        "# drop column yang nilai korelasi phix matrix tidak terlalu kuat\n",
        "X_train_cleaned.drop(['NumberOfSuppliments', 'Gender', 'AgentType', 'Age','Days_Policy_Accident','No_Polis','DayOfWeek','DriverRating',\n",
        "               'Year','NumberOfCars', 'Days_Policy_Claim', 'DayOfWeekClaimed', 'WeekOfMonth', 'WeekOfMonthClaimed',\n",
        "                'WitnessPresent', 'MaritalStatus', 'RepNumber' ],axis=1,inplace=True)\n",
        "X_test_cleaned.drop(['NumberOfSuppliments', 'Gender', 'AgentType', 'Age','Days_Policy_Accident','No_Polis','DayOfWeek','DriverRating',\n",
        "               'Year','NumberOfCars', 'Days_Policy_Claim', 'DayOfWeekClaimed', 'WeekOfMonth', 'WeekOfMonthClaimed',\n",
        "                'WitnessPresent', 'MaritalStatus', 'RepNumber' ],axis=1,inplace=True)"
      ]
    },
    {
      "cell_type": "markdown",
      "metadata": {
        "id": "cCGtMbQrAULB"
      },
      "source": [
        "#### Split Kategorical dan Numerik Value"
      ]
    },
    {
      "cell_type": "code",
      "execution_count": 53,
      "metadata": {
        "colab": {
          "base_uri": "https://localhost:8080/"
        },
        "id": "nLT0esRTAULC",
        "outputId": "a848aecd-e86f-452d-e7c7-dbd9011b640a"
      },
      "outputs": [
        {
          "name": "stdout",
          "output_type": "stream",
          "text": [
            "Numerical column: ['MonthClaimed', 'Month']\n",
            "Categorical ordinal column: ['PastNumberOfClaims', 'Fault', 'Type_Polis', 'Deductible', 'TypeInsurance', 'VehiclePrice', 'AddressChange_Claim', 'AgeOfVehicle', 'AgeOfPolicyHolder', 'PoliceReportFiled']\n",
            "Categorical nominal column: ['VehicleCategory', 'Brand', 'AccidentArea']\n"
          ]
        }
      ],
      "source": [
        "# Split kategorical dan numerik di X_train dan testnya\n",
        "num_col = ['MonthClaimed','Month']\n",
        "cat_col_ord = ['PastNumberOfClaims', 'Fault', 'Type_Polis', 'Deductible', 'TypeInsurance', 'VehiclePrice', \n",
        "               'AddressChange_Claim', 'AgeOfVehicle', 'AgeOfPolicyHolder', 'PoliceReportFiled']\n",
        "cat_col_nom = ['VehicleCategory', 'Brand', 'AccidentArea']\n",
        "\n",
        "print('Numerical column:',num_col)\n",
        "print('Categorical ordinal column:',cat_col_ord)\n",
        "print('Categorical nominal column:',cat_col_nom)"
      ]
    },
    {
      "cell_type": "markdown",
      "metadata": {
        "id": "37rI3ChlAULC"
      },
      "source": [
        "### **Final Data**"
      ]
    },
    {
      "cell_type": "code",
      "execution_count": 54,
      "metadata": {},
      "outputs": [],
      "source": [
        "# Feature scaling menggunakan StandardScaler\n",
        "num_transformer = StandardScaler()\n",
        "cat_ord_transformer = OrdinalEncoder()\n",
        "cat_nom_transformer = OneHotEncoder(handle_unknown='ignore')"
      ]
    },
    {
      "cell_type": "code",
      "execution_count": 55,
      "metadata": {
        "id": "In7njDcsAULD"
      },
      "outputs": [],
      "source": [
        "# menyiapkan data untuk pipeline\n",
        "preprocessdata = ColumnTransformer(\n",
        "    transformers = [\n",
        "        ('num',num_transformer,num_col),\n",
        "        ('cat_ord',cat_ord_transformer,cat_col_ord),\n",
        "        ('cat_nom',cat_nom_transformer,cat_col_nom)])"
      ]
    },
    {
      "cell_type": "markdown",
      "metadata": {
        "id": "j3OmAfuDAULD"
      },
      "source": [
        "Untuk Scaler diatas menggunakan fitur scaling yang digunakan adalah StandardScaler, kemudian untuk categorical data karena berisikan data bertingkat maka menggunakan OrdinalEncoder dan categorical data nominal (tidak mempunyai hirarki) menggunakan Onehotencoder selanjutnya diolah ke permodelan menggunakan pipeline"
      ]
    },
    {
      "cell_type": "markdown",
      "metadata": {
        "id": "FPAwoLe6GRLs"
      },
      "source": [
        "### **Model Definition**"
      ]
    },
    {
      "cell_type": "markdown",
      "metadata": {
        "id": "espicPj0AULE"
      },
      "source": [
        "Jelaskan latar belakang adanya bagging dan cara kerja bagging !\n",
        "Bagging membantu mengurangi overfitting. Karena setiap model dasar yang dilatih sedikit berbeda, model tersebut menangkap pola dasar data yang berbeda. Model ini cenderung memberikan prediksi yang lebih akurat.\n",
        "\n",
        "Jelaskan perbedaan cara kerja algoritma Random Forest dengan algoritma boosting yang Anda pilih !\n",
        "Random forest dan adaboost salah satu dari algoritma yang saya gunakan termasuk ensemble method : Random Forest dirancang untuk mengurangi overfitting sedangkan adaboost bagus digunakan untuk klasifikasi untuk data yang sulit digunakan untuk klasifikasi\n",
        "\n",
        "Jelaskan apa yang dimaksud dengan Cross Validation !\n",
        "Cross-validation merupakan teknik machine learning untuk mengevaluasi permodelan berdasarkan pengukuran kinerja seperti mean dan standar deviasi. mean untuk menunjukan secara rata-rata seberapa baik model bekerja dan standar deviasi digunakan untuk membuat confidence interval berdasarkan praktek."
      ]
    },
    {
      "cell_type": "markdown",
      "metadata": {
        "id": "Qovf-m6uAULE"
      },
      "source": [
        "### **Model Definition memakai pipeline**"
      ]
    },
    {
      "cell_type": "code",
      "execution_count": 56,
      "metadata": {
        "id": "_Vu-uaCLAULE"
      },
      "outputs": [],
      "source": [
        "#Menggunakan pipeline\n",
        "pipe_logreg = make_pipeline(preprocessdata,LogisticRegression(max_iter=1000000))\n",
        "pipe_svc = make_pipeline(preprocessdata,SVC())\n",
        "pipe_knn = make_pipeline(preprocessdata,KNeighborsClassifier())\n",
        "pipe_dt = make_pipeline(preprocessdata,DecisionTreeClassifier(random_state=10))\n",
        "pipe_rf = make_pipeline(preprocessdata,RandomForestClassifier(random_state=10))\n",
        "pipe_ada = make_pipeline(preprocessdata,AdaBoostClassifier())"
      ]
    },
    {
      "cell_type": "code",
      "execution_count": 57,
      "metadata": {
        "id": "H3Z0Lz-QAULF"
      },
      "outputs": [],
      "source": [
        "# skfold : adalah kelipatan\n",
        "skfold = StratifiedKFold(n_splits = 5)"
      ]
    },
    {
      "cell_type": "code",
      "execution_count": 58,
      "metadata": {
        "id": "uenBS59SAULF"
      },
      "outputs": [],
      "source": [
        "# Menggunakan Cross Validation di setiap model klasifikasi\n",
        "cv_Logreg_model = cross_val_score(pipe_logreg, X_train_cleaned, y_train_cleaned, cv = skfold, scoring='f1', n_jobs=-1)\n",
        "cv_svm_model = cross_val_score(pipe_svc, X_train_cleaned, y_train_cleaned, cv = skfold, scoring='f1', n_jobs=-1)\n",
        "cv_knn_model = cross_val_score(pipe_knn, X_train_cleaned, y_train_cleaned, cv = skfold, scoring='f1', n_jobs=-1)\n",
        "cv_dt_model = cross_val_score(pipe_dt, X_train_cleaned, y_train_cleaned, cv = skfold, scoring='f1', n_jobs=-1)\n",
        "cv_rf_model = cross_val_score(pipe_rf, X_train_cleaned, y_train_cleaned, cv = skfold, scoring='f1', n_jobs=-1)\n",
        "cv_ada_model = cross_val_score(pipe_ada, X_train_cleaned, y_train_cleaned, cv = skfold, scoring='f1', n_jobs=-1)\n"
      ]
    },
    {
      "cell_type": "code",
      "execution_count": 59,
      "metadata": {
        "colab": {
          "base_uri": "https://localhost:8080/"
        },
        "id": "sHLiPlgxAULF",
        "outputId": "4a038301-193e-4b48-8532-d1f881bd7cca"
      },
      "outputs": [
        {
          "name": "stdout",
          "output_type": "stream",
          "text": [
            "Logreg_model\n",
            "f1score - All - Cross Validation : [0. 0. 0. 0. 0.]\n",
            "f1score - Mean - Cross Validation : 0.0\n",
            "f1score - std - Cross Validation : 0.0\n",
            "f1score - Range of Test Set : 0.0 - 0.0\n",
            "--------------------------------------------------\n",
            "svm_model\n",
            "f1score - All - Cross Validation : [0. 0. 0. 0. 0.]\n",
            "f1score - Mean - Cross Validation : 0.0\n",
            "f1score - std - Cross Validation : 0.0\n",
            "f1score - Range of Test Set : 0.0 - 0.0\n",
            "--------------------------------------------------\n",
            "knn_model\n",
            "f1score - All - Cross Validation : [0.03614458 0.04651163 0.12359551 0.03614458 0.09142857]\n",
            "f1score - Mean - Cross Validation : 0.06676497231600634\n",
            "f1score - std - Cross Validation : 0.034995478719658205\n",
            "f1score - Range of Test Set : 0.03176949359634813 - 0.10176045103566454\n",
            "--------------------------------------------------\n",
            "decisiontree_model\n",
            "f1score - All - Cross Validation : [0.21118012 0.19631902 0.21671827 0.16918429 0.24773414]\n",
            "f1score - Mean - Cross Validation : 0.20822716757708032\n",
            "f1score - std - Cross Validation : 0.02572069129088368\n",
            "f1score - Range of Test Set : 0.18250647628619665 - 0.233947858867964\n",
            "--------------------------------------------------\n",
            "randomforest_model\n",
            "f1score - All - Cross Validation : [0.06557377 0.05714286 0.13259669 0.06629834 0.05555556]\n",
            "f1score - Mean - Cross Validation : 0.07543344216290507\n",
            "f1score - std - Cross Validation : 0.028906661474592962\n",
            "f1score - Range of Test Set : 0.046526780688312105 - 0.10434010363749803\n",
            "--------------------------------------------------\n",
            "adaboost_model\n",
            "f1score - All - Cross Validation : [0.03592814 0.03370787 0.03636364 0.0239521  0.03658537]\n",
            "f1score - Mean - Cross Validation : 0.03330742138135846\n",
            "f1score - std - Cross Validation : 0.004788236153778858\n",
            "f1score - Range of Test Set : 0.028519185227579603 - 0.03809565753513732\n",
            "--------------------------------------------------\n",
            "\n",
            "Best Model: decisiontree_model\n",
            "Cross Val Mean from Best Model: 0.20822716757708032\n"
          ]
        }
      ],
      "source": [
        "# Mencari model terbaik berdasarkan Cross_Val_Score (mean)\n",
        "name_model = []\n",
        "cv_scores=0\n",
        "for cv,name in zip([cv_Logreg_model,cv_svm_model,cv_knn_model,cv_dt_model,cv_rf_model,cv_ada_model],\n",
        "                    ['Logreg_model','svm_model','knn_model','decisiontree_model','randomforest_model','adaboost_model']):\n",
        "    print(name)\n",
        "    print('f1score - All - Cross Validation :', cv)\n",
        "    print('f1score - Mean - Cross Validation :', cv.mean())\n",
        "    print('f1score - std - Cross Validation :', cv.std())\n",
        "    print('f1score - Range of Test Set :', (cv.mean()-cv.std()), '-' , (cv.mean()+cv.std()))\n",
        "    print('-'*50)\n",
        "    if cv.mean() > cv_scores:\n",
        "        cv_scores = cv.mean()\n",
        "        name_model = name\n",
        "    else:\n",
        "        pass\n",
        "print()\n",
        "print('Best Model:', name_model)\n",
        "print('Cross Val Mean from Best Model:', cv_scores)"
      ]
    },
    {
      "cell_type": "markdown",
      "metadata": {
        "id": "3OGeS_16GR_d"
      },
      "source": [
        "### **Model Training**"
      ]
    },
    {
      "cell_type": "markdown",
      "metadata": {
        "id": "cBPaYvOpAULG"
      },
      "source": [
        "Berdasarkan hasil cross validasi sebelumnya best modelnya adalah **decision tree** maka kita lakukan fit dt di model trainingnya"
      ]
    },
    {
      "cell_type": "code",
      "execution_count": 60,
      "metadata": {
        "colab": {
          "base_uri": "https://localhost:8080/",
          "height": 250
        },
        "id": "4Q7r9zGVAULH",
        "outputId": "00759f77-7865-40e0-dc87-1b0c3b7c9d46"
      },
      "outputs": [
        {
          "data": {
            "text/html": [
              "<style>#sk-container-id-1 {\n",
              "  /* Definition of color scheme common for light and dark mode */\n",
              "  --sklearn-color-text: black;\n",
              "  --sklearn-color-line: gray;\n",
              "  /* Definition of color scheme for unfitted estimators */\n",
              "  --sklearn-color-unfitted-level-0: #fff5e6;\n",
              "  --sklearn-color-unfitted-level-1: #f6e4d2;\n",
              "  --sklearn-color-unfitted-level-2: #ffe0b3;\n",
              "  --sklearn-color-unfitted-level-3: chocolate;\n",
              "  /* Definition of color scheme for fitted estimators */\n",
              "  --sklearn-color-fitted-level-0: #f0f8ff;\n",
              "  --sklearn-color-fitted-level-1: #d4ebff;\n",
              "  --sklearn-color-fitted-level-2: #b3dbfd;\n",
              "  --sklearn-color-fitted-level-3: cornflowerblue;\n",
              "\n",
              "  /* Specific color for light theme */\n",
              "  --sklearn-color-text-on-default-background: var(--sg-text-color, var(--theme-code-foreground, var(--jp-content-font-color1, black)));\n",
              "  --sklearn-color-background: var(--sg-background-color, var(--theme-background, var(--jp-layout-color0, white)));\n",
              "  --sklearn-color-border-box: var(--sg-text-color, var(--theme-code-foreground, var(--jp-content-font-color1, black)));\n",
              "  --sklearn-color-icon: #696969;\n",
              "\n",
              "  @media (prefers-color-scheme: dark) {\n",
              "    /* Redefinition of color scheme for dark theme */\n",
              "    --sklearn-color-text-on-default-background: var(--sg-text-color, var(--theme-code-foreground, var(--jp-content-font-color1, white)));\n",
              "    --sklearn-color-background: var(--sg-background-color, var(--theme-background, var(--jp-layout-color0, #111)));\n",
              "    --sklearn-color-border-box: var(--sg-text-color, var(--theme-code-foreground, var(--jp-content-font-color1, white)));\n",
              "    --sklearn-color-icon: #878787;\n",
              "  }\n",
              "}\n",
              "\n",
              "#sk-container-id-1 {\n",
              "  color: var(--sklearn-color-text);\n",
              "}\n",
              "\n",
              "#sk-container-id-1 pre {\n",
              "  padding: 0;\n",
              "}\n",
              "\n",
              "#sk-container-id-1 input.sk-hidden--visually {\n",
              "  border: 0;\n",
              "  clip: rect(1px 1px 1px 1px);\n",
              "  clip: rect(1px, 1px, 1px, 1px);\n",
              "  height: 1px;\n",
              "  margin: -1px;\n",
              "  overflow: hidden;\n",
              "  padding: 0;\n",
              "  position: absolute;\n",
              "  width: 1px;\n",
              "}\n",
              "\n",
              "#sk-container-id-1 div.sk-dashed-wrapped {\n",
              "  border: 1px dashed var(--sklearn-color-line);\n",
              "  margin: 0 0.4em 0.5em 0.4em;\n",
              "  box-sizing: border-box;\n",
              "  padding-bottom: 0.4em;\n",
              "  background-color: var(--sklearn-color-background);\n",
              "}\n",
              "\n",
              "#sk-container-id-1 div.sk-container {\n",
              "  /* jupyter's `normalize.less` sets `[hidden] { display: none; }`\n",
              "     but bootstrap.min.css set `[hidden] { display: none !important; }`\n",
              "     so we also need the `!important` here to be able to override the\n",
              "     default hidden behavior on the sphinx rendered scikit-learn.org.\n",
              "     See: https://github.com/scikit-learn/scikit-learn/issues/21755 */\n",
              "  display: inline-block !important;\n",
              "  position: relative;\n",
              "}\n",
              "\n",
              "#sk-container-id-1 div.sk-text-repr-fallback {\n",
              "  display: none;\n",
              "}\n",
              "\n",
              "div.sk-parallel-item,\n",
              "div.sk-serial,\n",
              "div.sk-item {\n",
              "  /* draw centered vertical line to link estimators */\n",
              "  background-image: linear-gradient(var(--sklearn-color-text-on-default-background), var(--sklearn-color-text-on-default-background));\n",
              "  background-size: 2px 100%;\n",
              "  background-repeat: no-repeat;\n",
              "  background-position: center center;\n",
              "}\n",
              "\n",
              "/* Parallel-specific style estimator block */\n",
              "\n",
              "#sk-container-id-1 div.sk-parallel-item::after {\n",
              "  content: \"\";\n",
              "  width: 100%;\n",
              "  border-bottom: 2px solid var(--sklearn-color-text-on-default-background);\n",
              "  flex-grow: 1;\n",
              "}\n",
              "\n",
              "#sk-container-id-1 div.sk-parallel {\n",
              "  display: flex;\n",
              "  align-items: stretch;\n",
              "  justify-content: center;\n",
              "  background-color: var(--sklearn-color-background);\n",
              "  position: relative;\n",
              "}\n",
              "\n",
              "#sk-container-id-1 div.sk-parallel-item {\n",
              "  display: flex;\n",
              "  flex-direction: column;\n",
              "}\n",
              "\n",
              "#sk-container-id-1 div.sk-parallel-item:first-child::after {\n",
              "  align-self: flex-end;\n",
              "  width: 50%;\n",
              "}\n",
              "\n",
              "#sk-container-id-1 div.sk-parallel-item:last-child::after {\n",
              "  align-self: flex-start;\n",
              "  width: 50%;\n",
              "}\n",
              "\n",
              "#sk-container-id-1 div.sk-parallel-item:only-child::after {\n",
              "  width: 0;\n",
              "}\n",
              "\n",
              "/* Serial-specific style estimator block */\n",
              "\n",
              "#sk-container-id-1 div.sk-serial {\n",
              "  display: flex;\n",
              "  flex-direction: column;\n",
              "  align-items: center;\n",
              "  background-color: var(--sklearn-color-background);\n",
              "  padding-right: 1em;\n",
              "  padding-left: 1em;\n",
              "}\n",
              "\n",
              "\n",
              "/* Toggleable style: style used for estimator/Pipeline/ColumnTransformer box that is\n",
              "clickable and can be expanded/collapsed.\n",
              "- Pipeline and ColumnTransformer use this feature and define the default style\n",
              "- Estimators will overwrite some part of the style using the `sk-estimator` class\n",
              "*/\n",
              "\n",
              "/* Pipeline and ColumnTransformer style (default) */\n",
              "\n",
              "#sk-container-id-1 div.sk-toggleable {\n",
              "  /* Default theme specific background. It is overwritten whether we have a\n",
              "  specific estimator or a Pipeline/ColumnTransformer */\n",
              "  background-color: var(--sklearn-color-background);\n",
              "}\n",
              "\n",
              "/* Toggleable label */\n",
              "#sk-container-id-1 label.sk-toggleable__label {\n",
              "  cursor: pointer;\n",
              "  display: block;\n",
              "  width: 100%;\n",
              "  margin-bottom: 0;\n",
              "  padding: 0.5em;\n",
              "  box-sizing: border-box;\n",
              "  text-align: center;\n",
              "}\n",
              "\n",
              "#sk-container-id-1 label.sk-toggleable__label-arrow:before {\n",
              "  /* Arrow on the left of the label */\n",
              "  content: \"▸\";\n",
              "  float: left;\n",
              "  margin-right: 0.25em;\n",
              "  color: var(--sklearn-color-icon);\n",
              "}\n",
              "\n",
              "#sk-container-id-1 label.sk-toggleable__label-arrow:hover:before {\n",
              "  color: var(--sklearn-color-text);\n",
              "}\n",
              "\n",
              "/* Toggleable content - dropdown */\n",
              "\n",
              "#sk-container-id-1 div.sk-toggleable__content {\n",
              "  max-height: 0;\n",
              "  max-width: 0;\n",
              "  overflow: hidden;\n",
              "  text-align: left;\n",
              "  /* unfitted */\n",
              "  background-color: var(--sklearn-color-unfitted-level-0);\n",
              "}\n",
              "\n",
              "#sk-container-id-1 div.sk-toggleable__content.fitted {\n",
              "  /* fitted */\n",
              "  background-color: var(--sklearn-color-fitted-level-0);\n",
              "}\n",
              "\n",
              "#sk-container-id-1 div.sk-toggleable__content pre {\n",
              "  margin: 0.2em;\n",
              "  border-radius: 0.25em;\n",
              "  color: var(--sklearn-color-text);\n",
              "  /* unfitted */\n",
              "  background-color: var(--sklearn-color-unfitted-level-0);\n",
              "}\n",
              "\n",
              "#sk-container-id-1 div.sk-toggleable__content.fitted pre {\n",
              "  /* unfitted */\n",
              "  background-color: var(--sklearn-color-fitted-level-0);\n",
              "}\n",
              "\n",
              "#sk-container-id-1 input.sk-toggleable__control:checked~div.sk-toggleable__content {\n",
              "  /* Expand drop-down */\n",
              "  max-height: 200px;\n",
              "  max-width: 100%;\n",
              "  overflow: auto;\n",
              "}\n",
              "\n",
              "#sk-container-id-1 input.sk-toggleable__control:checked~label.sk-toggleable__label-arrow:before {\n",
              "  content: \"▾\";\n",
              "}\n",
              "\n",
              "/* Pipeline/ColumnTransformer-specific style */\n",
              "\n",
              "#sk-container-id-1 div.sk-label input.sk-toggleable__control:checked~label.sk-toggleable__label {\n",
              "  color: var(--sklearn-color-text);\n",
              "  background-color: var(--sklearn-color-unfitted-level-2);\n",
              "}\n",
              "\n",
              "#sk-container-id-1 div.sk-label.fitted input.sk-toggleable__control:checked~label.sk-toggleable__label {\n",
              "  background-color: var(--sklearn-color-fitted-level-2);\n",
              "}\n",
              "\n",
              "/* Estimator-specific style */\n",
              "\n",
              "/* Colorize estimator box */\n",
              "#sk-container-id-1 div.sk-estimator input.sk-toggleable__control:checked~label.sk-toggleable__label {\n",
              "  /* unfitted */\n",
              "  background-color: var(--sklearn-color-unfitted-level-2);\n",
              "}\n",
              "\n",
              "#sk-container-id-1 div.sk-estimator.fitted input.sk-toggleable__control:checked~label.sk-toggleable__label {\n",
              "  /* fitted */\n",
              "  background-color: var(--sklearn-color-fitted-level-2);\n",
              "}\n",
              "\n",
              "#sk-container-id-1 div.sk-label label.sk-toggleable__label,\n",
              "#sk-container-id-1 div.sk-label label {\n",
              "  /* The background is the default theme color */\n",
              "  color: var(--sklearn-color-text-on-default-background);\n",
              "}\n",
              "\n",
              "/* On hover, darken the color of the background */\n",
              "#sk-container-id-1 div.sk-label:hover label.sk-toggleable__label {\n",
              "  color: var(--sklearn-color-text);\n",
              "  background-color: var(--sklearn-color-unfitted-level-2);\n",
              "}\n",
              "\n",
              "/* Label box, darken color on hover, fitted */\n",
              "#sk-container-id-1 div.sk-label.fitted:hover label.sk-toggleable__label.fitted {\n",
              "  color: var(--sklearn-color-text);\n",
              "  background-color: var(--sklearn-color-fitted-level-2);\n",
              "}\n",
              "\n",
              "/* Estimator label */\n",
              "\n",
              "#sk-container-id-1 div.sk-label label {\n",
              "  font-family: monospace;\n",
              "  font-weight: bold;\n",
              "  display: inline-block;\n",
              "  line-height: 1.2em;\n",
              "}\n",
              "\n",
              "#sk-container-id-1 div.sk-label-container {\n",
              "  text-align: center;\n",
              "}\n",
              "\n",
              "/* Estimator-specific */\n",
              "#sk-container-id-1 div.sk-estimator {\n",
              "  font-family: monospace;\n",
              "  border: 1px dotted var(--sklearn-color-border-box);\n",
              "  border-radius: 0.25em;\n",
              "  box-sizing: border-box;\n",
              "  margin-bottom: 0.5em;\n",
              "  /* unfitted */\n",
              "  background-color: var(--sklearn-color-unfitted-level-0);\n",
              "}\n",
              "\n",
              "#sk-container-id-1 div.sk-estimator.fitted {\n",
              "  /* fitted */\n",
              "  background-color: var(--sklearn-color-fitted-level-0);\n",
              "}\n",
              "\n",
              "/* on hover */\n",
              "#sk-container-id-1 div.sk-estimator:hover {\n",
              "  /* unfitted */\n",
              "  background-color: var(--sklearn-color-unfitted-level-2);\n",
              "}\n",
              "\n",
              "#sk-container-id-1 div.sk-estimator.fitted:hover {\n",
              "  /* fitted */\n",
              "  background-color: var(--sklearn-color-fitted-level-2);\n",
              "}\n",
              "\n",
              "/* Specification for estimator info (e.g. \"i\" and \"?\") */\n",
              "\n",
              "/* Common style for \"i\" and \"?\" */\n",
              "\n",
              ".sk-estimator-doc-link,\n",
              "a:link.sk-estimator-doc-link,\n",
              "a:visited.sk-estimator-doc-link {\n",
              "  float: right;\n",
              "  font-size: smaller;\n",
              "  line-height: 1em;\n",
              "  font-family: monospace;\n",
              "  background-color: var(--sklearn-color-background);\n",
              "  border-radius: 1em;\n",
              "  height: 1em;\n",
              "  width: 1em;\n",
              "  text-decoration: none !important;\n",
              "  margin-left: 1ex;\n",
              "  /* unfitted */\n",
              "  border: var(--sklearn-color-unfitted-level-1) 1pt solid;\n",
              "  color: var(--sklearn-color-unfitted-level-1);\n",
              "}\n",
              "\n",
              ".sk-estimator-doc-link.fitted,\n",
              "a:link.sk-estimator-doc-link.fitted,\n",
              "a:visited.sk-estimator-doc-link.fitted {\n",
              "  /* fitted */\n",
              "  border: var(--sklearn-color-fitted-level-1) 1pt solid;\n",
              "  color: var(--sklearn-color-fitted-level-1);\n",
              "}\n",
              "\n",
              "/* On hover */\n",
              "div.sk-estimator:hover .sk-estimator-doc-link:hover,\n",
              ".sk-estimator-doc-link:hover,\n",
              "div.sk-label-container:hover .sk-estimator-doc-link:hover,\n",
              ".sk-estimator-doc-link:hover {\n",
              "  /* unfitted */\n",
              "  background-color: var(--sklearn-color-unfitted-level-3);\n",
              "  color: var(--sklearn-color-background);\n",
              "  text-decoration: none;\n",
              "}\n",
              "\n",
              "div.sk-estimator.fitted:hover .sk-estimator-doc-link.fitted:hover,\n",
              ".sk-estimator-doc-link.fitted:hover,\n",
              "div.sk-label-container:hover .sk-estimator-doc-link.fitted:hover,\n",
              ".sk-estimator-doc-link.fitted:hover {\n",
              "  /* fitted */\n",
              "  background-color: var(--sklearn-color-fitted-level-3);\n",
              "  color: var(--sklearn-color-background);\n",
              "  text-decoration: none;\n",
              "}\n",
              "\n",
              "/* Span, style for the box shown on hovering the info icon */\n",
              ".sk-estimator-doc-link span {\n",
              "  display: none;\n",
              "  z-index: 9999;\n",
              "  position: relative;\n",
              "  font-weight: normal;\n",
              "  right: .2ex;\n",
              "  padding: .5ex;\n",
              "  margin: .5ex;\n",
              "  width: min-content;\n",
              "  min-width: 20ex;\n",
              "  max-width: 50ex;\n",
              "  color: var(--sklearn-color-text);\n",
              "  box-shadow: 2pt 2pt 4pt #999;\n",
              "  /* unfitted */\n",
              "  background: var(--sklearn-color-unfitted-level-0);\n",
              "  border: .5pt solid var(--sklearn-color-unfitted-level-3);\n",
              "}\n",
              "\n",
              ".sk-estimator-doc-link.fitted span {\n",
              "  /* fitted */\n",
              "  background: var(--sklearn-color-fitted-level-0);\n",
              "  border: var(--sklearn-color-fitted-level-3);\n",
              "}\n",
              "\n",
              ".sk-estimator-doc-link:hover span {\n",
              "  display: block;\n",
              "}\n",
              "\n",
              "/* \"?\"-specific style due to the `<a>` HTML tag */\n",
              "\n",
              "#sk-container-id-1 a.estimator_doc_link {\n",
              "  float: right;\n",
              "  font-size: 1rem;\n",
              "  line-height: 1em;\n",
              "  font-family: monospace;\n",
              "  background-color: var(--sklearn-color-background);\n",
              "  border-radius: 1rem;\n",
              "  height: 1rem;\n",
              "  width: 1rem;\n",
              "  text-decoration: none;\n",
              "  /* unfitted */\n",
              "  color: var(--sklearn-color-unfitted-level-1);\n",
              "  border: var(--sklearn-color-unfitted-level-1) 1pt solid;\n",
              "}\n",
              "\n",
              "#sk-container-id-1 a.estimator_doc_link.fitted {\n",
              "  /* fitted */\n",
              "  border: var(--sklearn-color-fitted-level-1) 1pt solid;\n",
              "  color: var(--sklearn-color-fitted-level-1);\n",
              "}\n",
              "\n",
              "/* On hover */\n",
              "#sk-container-id-1 a.estimator_doc_link:hover {\n",
              "  /* unfitted */\n",
              "  background-color: var(--sklearn-color-unfitted-level-3);\n",
              "  color: var(--sklearn-color-background);\n",
              "  text-decoration: none;\n",
              "}\n",
              "\n",
              "#sk-container-id-1 a.estimator_doc_link.fitted:hover {\n",
              "  /* fitted */\n",
              "  background-color: var(--sklearn-color-fitted-level-3);\n",
              "}\n",
              "</style><div id=\"sk-container-id-1\" class=\"sk-top-container\"><div class=\"sk-text-repr-fallback\"><pre>Pipeline(steps=[(&#x27;columntransformer&#x27;,\n",
              "                 ColumnTransformer(transformers=[(&#x27;num&#x27;, StandardScaler(),\n",
              "                                                  [&#x27;MonthClaimed&#x27;, &#x27;Month&#x27;]),\n",
              "                                                 (&#x27;cat_ord&#x27;, OrdinalEncoder(),\n",
              "                                                  [&#x27;PastNumberOfClaims&#x27;,\n",
              "                                                   &#x27;Fault&#x27;, &#x27;Type_Polis&#x27;,\n",
              "                                                   &#x27;Deductible&#x27;,\n",
              "                                                   &#x27;TypeInsurance&#x27;,\n",
              "                                                   &#x27;VehiclePrice&#x27;,\n",
              "                                                   &#x27;AddressChange_Claim&#x27;,\n",
              "                                                   &#x27;AgeOfVehicle&#x27;,\n",
              "                                                   &#x27;AgeOfPolicyHolder&#x27;,\n",
              "                                                   &#x27;PoliceReportFiled&#x27;]),\n",
              "                                                 (&#x27;cat_nom&#x27;,\n",
              "                                                  OneHotEncoder(handle_unknown=&#x27;ignore&#x27;),\n",
              "                                                  [&#x27;VehicleCategory&#x27;, &#x27;Brand&#x27;,\n",
              "                                                   &#x27;AccidentArea&#x27;])])),\n",
              "                (&#x27;decisiontreeclassifier&#x27;,\n",
              "                 DecisionTreeClassifier(random_state=10))])</pre><b>In a Jupyter environment, please rerun this cell to show the HTML representation or trust the notebook. <br />On GitHub, the HTML representation is unable to render, please try loading this page with nbviewer.org.</b></div><div class=\"sk-container\" hidden><div class=\"sk-item sk-dashed-wrapped\"><div class=\"sk-label-container\"><div class=\"sk-label fitted sk-toggleable\"><input class=\"sk-toggleable__control sk-hidden--visually\" id=\"sk-estimator-id-1\" type=\"checkbox\" ><label for=\"sk-estimator-id-1\" class=\"sk-toggleable__label fitted sk-toggleable__label-arrow fitted\">&nbsp;&nbsp;Pipeline<a class=\"sk-estimator-doc-link fitted\" rel=\"noreferrer\" target=\"_blank\" href=\"https://scikit-learn.org/1.4/modules/generated/sklearn.pipeline.Pipeline.html\">?<span>Documentation for Pipeline</span></a><span class=\"sk-estimator-doc-link fitted\">i<span>Fitted</span></span></label><div class=\"sk-toggleable__content fitted\"><pre>Pipeline(steps=[(&#x27;columntransformer&#x27;,\n",
              "                 ColumnTransformer(transformers=[(&#x27;num&#x27;, StandardScaler(),\n",
              "                                                  [&#x27;MonthClaimed&#x27;, &#x27;Month&#x27;]),\n",
              "                                                 (&#x27;cat_ord&#x27;, OrdinalEncoder(),\n",
              "                                                  [&#x27;PastNumberOfClaims&#x27;,\n",
              "                                                   &#x27;Fault&#x27;, &#x27;Type_Polis&#x27;,\n",
              "                                                   &#x27;Deductible&#x27;,\n",
              "                                                   &#x27;TypeInsurance&#x27;,\n",
              "                                                   &#x27;VehiclePrice&#x27;,\n",
              "                                                   &#x27;AddressChange_Claim&#x27;,\n",
              "                                                   &#x27;AgeOfVehicle&#x27;,\n",
              "                                                   &#x27;AgeOfPolicyHolder&#x27;,\n",
              "                                                   &#x27;PoliceReportFiled&#x27;]),\n",
              "                                                 (&#x27;cat_nom&#x27;,\n",
              "                                                  OneHotEncoder(handle_unknown=&#x27;ignore&#x27;),\n",
              "                                                  [&#x27;VehicleCategory&#x27;, &#x27;Brand&#x27;,\n",
              "                                                   &#x27;AccidentArea&#x27;])])),\n",
              "                (&#x27;decisiontreeclassifier&#x27;,\n",
              "                 DecisionTreeClassifier(random_state=10))])</pre></div> </div></div><div class=\"sk-serial\"><div class=\"sk-item sk-dashed-wrapped\"><div class=\"sk-label-container\"><div class=\"sk-label fitted sk-toggleable\"><input class=\"sk-toggleable__control sk-hidden--visually\" id=\"sk-estimator-id-2\" type=\"checkbox\" ><label for=\"sk-estimator-id-2\" class=\"sk-toggleable__label fitted sk-toggleable__label-arrow fitted\">&nbsp;columntransformer: ColumnTransformer<a class=\"sk-estimator-doc-link fitted\" rel=\"noreferrer\" target=\"_blank\" href=\"https://scikit-learn.org/1.4/modules/generated/sklearn.compose.ColumnTransformer.html\">?<span>Documentation for columntransformer: ColumnTransformer</span></a></label><div class=\"sk-toggleable__content fitted\"><pre>ColumnTransformer(transformers=[(&#x27;num&#x27;, StandardScaler(),\n",
              "                                 [&#x27;MonthClaimed&#x27;, &#x27;Month&#x27;]),\n",
              "                                (&#x27;cat_ord&#x27;, OrdinalEncoder(),\n",
              "                                 [&#x27;PastNumberOfClaims&#x27;, &#x27;Fault&#x27;, &#x27;Type_Polis&#x27;,\n",
              "                                  &#x27;Deductible&#x27;, &#x27;TypeInsurance&#x27;, &#x27;VehiclePrice&#x27;,\n",
              "                                  &#x27;AddressChange_Claim&#x27;, &#x27;AgeOfVehicle&#x27;,\n",
              "                                  &#x27;AgeOfPolicyHolder&#x27;, &#x27;PoliceReportFiled&#x27;]),\n",
              "                                (&#x27;cat_nom&#x27;,\n",
              "                                 OneHotEncoder(handle_unknown=&#x27;ignore&#x27;),\n",
              "                                 [&#x27;VehicleCategory&#x27;, &#x27;Brand&#x27;, &#x27;AccidentArea&#x27;])])</pre></div> </div></div><div class=\"sk-parallel\"><div class=\"sk-parallel-item\"><div class=\"sk-item\"><div class=\"sk-label-container\"><div class=\"sk-label fitted sk-toggleable\"><input class=\"sk-toggleable__control sk-hidden--visually\" id=\"sk-estimator-id-3\" type=\"checkbox\" ><label for=\"sk-estimator-id-3\" class=\"sk-toggleable__label fitted sk-toggleable__label-arrow fitted\">num</label><div class=\"sk-toggleable__content fitted\"><pre>[&#x27;MonthClaimed&#x27;, &#x27;Month&#x27;]</pre></div> </div></div><div class=\"sk-serial\"><div class=\"sk-item\"><div class=\"sk-estimator fitted sk-toggleable\"><input class=\"sk-toggleable__control sk-hidden--visually\" id=\"sk-estimator-id-4\" type=\"checkbox\" ><label for=\"sk-estimator-id-4\" class=\"sk-toggleable__label fitted sk-toggleable__label-arrow fitted\">&nbsp;StandardScaler<a class=\"sk-estimator-doc-link fitted\" rel=\"noreferrer\" target=\"_blank\" href=\"https://scikit-learn.org/1.4/modules/generated/sklearn.preprocessing.StandardScaler.html\">?<span>Documentation for StandardScaler</span></a></label><div class=\"sk-toggleable__content fitted\"><pre>StandardScaler()</pre></div> </div></div></div></div></div><div class=\"sk-parallel-item\"><div class=\"sk-item\"><div class=\"sk-label-container\"><div class=\"sk-label fitted sk-toggleable\"><input class=\"sk-toggleable__control sk-hidden--visually\" id=\"sk-estimator-id-5\" type=\"checkbox\" ><label for=\"sk-estimator-id-5\" class=\"sk-toggleable__label fitted sk-toggleable__label-arrow fitted\">cat_ord</label><div class=\"sk-toggleable__content fitted\"><pre>[&#x27;PastNumberOfClaims&#x27;, &#x27;Fault&#x27;, &#x27;Type_Polis&#x27;, &#x27;Deductible&#x27;, &#x27;TypeInsurance&#x27;, &#x27;VehiclePrice&#x27;, &#x27;AddressChange_Claim&#x27;, &#x27;AgeOfVehicle&#x27;, &#x27;AgeOfPolicyHolder&#x27;, &#x27;PoliceReportFiled&#x27;]</pre></div> </div></div><div class=\"sk-serial\"><div class=\"sk-item\"><div class=\"sk-estimator fitted sk-toggleable\"><input class=\"sk-toggleable__control sk-hidden--visually\" id=\"sk-estimator-id-6\" type=\"checkbox\" ><label for=\"sk-estimator-id-6\" class=\"sk-toggleable__label fitted sk-toggleable__label-arrow fitted\">&nbsp;OrdinalEncoder<a class=\"sk-estimator-doc-link fitted\" rel=\"noreferrer\" target=\"_blank\" href=\"https://scikit-learn.org/1.4/modules/generated/sklearn.preprocessing.OrdinalEncoder.html\">?<span>Documentation for OrdinalEncoder</span></a></label><div class=\"sk-toggleable__content fitted\"><pre>OrdinalEncoder()</pre></div> </div></div></div></div></div><div class=\"sk-parallel-item\"><div class=\"sk-item\"><div class=\"sk-label-container\"><div class=\"sk-label fitted sk-toggleable\"><input class=\"sk-toggleable__control sk-hidden--visually\" id=\"sk-estimator-id-7\" type=\"checkbox\" ><label for=\"sk-estimator-id-7\" class=\"sk-toggleable__label fitted sk-toggleable__label-arrow fitted\">cat_nom</label><div class=\"sk-toggleable__content fitted\"><pre>[&#x27;VehicleCategory&#x27;, &#x27;Brand&#x27;, &#x27;AccidentArea&#x27;]</pre></div> </div></div><div class=\"sk-serial\"><div class=\"sk-item\"><div class=\"sk-estimator fitted sk-toggleable\"><input class=\"sk-toggleable__control sk-hidden--visually\" id=\"sk-estimator-id-8\" type=\"checkbox\" ><label for=\"sk-estimator-id-8\" class=\"sk-toggleable__label fitted sk-toggleable__label-arrow fitted\">&nbsp;OneHotEncoder<a class=\"sk-estimator-doc-link fitted\" rel=\"noreferrer\" target=\"_blank\" href=\"https://scikit-learn.org/1.4/modules/generated/sklearn.preprocessing.OneHotEncoder.html\">?<span>Documentation for OneHotEncoder</span></a></label><div class=\"sk-toggleable__content fitted\"><pre>OneHotEncoder(handle_unknown=&#x27;ignore&#x27;)</pre></div> </div></div></div></div></div></div></div><div class=\"sk-item\"><div class=\"sk-estimator fitted sk-toggleable\"><input class=\"sk-toggleable__control sk-hidden--visually\" id=\"sk-estimator-id-9\" type=\"checkbox\" ><label for=\"sk-estimator-id-9\" class=\"sk-toggleable__label fitted sk-toggleable__label-arrow fitted\">&nbsp;DecisionTreeClassifier<a class=\"sk-estimator-doc-link fitted\" rel=\"noreferrer\" target=\"_blank\" href=\"https://scikit-learn.org/1.4/modules/generated/sklearn.tree.DecisionTreeClassifier.html\">?<span>Documentation for DecisionTreeClassifier</span></a></label><div class=\"sk-toggleable__content fitted\"><pre>DecisionTreeClassifier(random_state=10)</pre></div> </div></div></div></div></div></div>"
            ],
            "text/plain": [
              "Pipeline(steps=[('columntransformer',\n",
              "                 ColumnTransformer(transformers=[('num', StandardScaler(),\n",
              "                                                  ['MonthClaimed', 'Month']),\n",
              "                                                 ('cat_ord', OrdinalEncoder(),\n",
              "                                                  ['PastNumberOfClaims',\n",
              "                                                   'Fault', 'Type_Polis',\n",
              "                                                   'Deductible',\n",
              "                                                   'TypeInsurance',\n",
              "                                                   'VehiclePrice',\n",
              "                                                   'AddressChange_Claim',\n",
              "                                                   'AgeOfVehicle',\n",
              "                                                   'AgeOfPolicyHolder',\n",
              "                                                   'PoliceReportFiled']),\n",
              "                                                 ('cat_nom',\n",
              "                                                  OneHotEncoder(handle_unknown='ignore'),\n",
              "                                                  ['VehicleCategory', 'Brand',\n",
              "                                                   'AccidentArea'])])),\n",
              "                ('decisiontreeclassifier',\n",
              "                 DecisionTreeClassifier(random_state=10))])"
            ]
          },
          "execution_count": 60,
          "metadata": {},
          "output_type": "execute_result"
        }
      ],
      "source": [
        "# fit model decision tree memakai pipeline\n",
        "pipe_dt.fit(X_train_cleaned, y_train_cleaned)"
      ]
    },
    {
      "cell_type": "code",
      "execution_count": 61,
      "metadata": {
        "id": "lXx8olxVAULH"
      },
      "outputs": [],
      "source": [
        "# Model prediction DT\n",
        "y_pred_train_before_tuning = pipe_dt.predict(X_train_cleaned)\n",
        "y_pred_test_before_tuning = pipe_dt.predict(X_test_cleaned)"
      ]
    },
    {
      "cell_type": "code",
      "execution_count": 62,
      "metadata": {
        "colab": {
          "base_uri": "https://localhost:8080/"
        },
        "id": "J3xdtdJSAULI",
        "outputId": "6da14130-6d11-4eda-9ca3-3cdad08d72de"
      },
      "outputs": [
        {
          "name": "stdout",
          "output_type": "stream",
          "text": [
            "F1 Score - Train Set  :  0.9303977272727273 \n",
            "\n",
            "Classification Report : \n",
            "               precision    recall  f1-score   support\n",
            "\n",
            "           0       0.99      1.00      1.00     11397\n",
            "           1       1.00      0.87      0.93       752\n",
            "\n",
            "    accuracy                           0.99     12149\n",
            "   macro avg       1.00      0.94      0.96     12149\n",
            "weighted avg       0.99      0.99      0.99     12149\n",
            " \n",
            "\n"
          ]
        }
      ],
      "source": [
        "# Report train set sebelum di tuning\n",
        "print('F1 Score - Train Set  : ', f1_score(y_train_cleaned, y_pred_train_before_tuning), '\\n')\n",
        "print('Classification Report : \\n', classification_report(y_train_cleaned, y_pred_train_before_tuning), '\\n')"
      ]
    },
    {
      "cell_type": "markdown",
      "metadata": {
        "id": "1715naA1AULJ"
      },
      "source": [
        "Selanjutnya adalah mencari hasil test-setnya"
      ]
    },
    {
      "cell_type": "code",
      "execution_count": 63,
      "metadata": {
        "colab": {
          "base_uri": "https://localhost:8080/"
        },
        "id": "Rtu93EAvAULK",
        "outputId": "5d6ac164-0186-48ab-cdff-5cb06356fdac"
      },
      "outputs": [
        {
          "name": "stdout",
          "output_type": "stream",
          "text": [
            "F1 Score - test Set  :  0.16062176165803108 \n",
            "\n",
            "Classification Report : \n",
            "               precision    recall  f1-score   support\n",
            "\n",
            "           0       0.95      0.93      0.94      2921\n",
            "           1       0.14      0.19      0.16       163\n",
            "\n",
            "    accuracy                           0.89      3084\n",
            "   macro avg       0.55      0.56      0.55      3084\n",
            "weighted avg       0.91      0.89      0.90      3084\n",
            " \n",
            "\n"
          ]
        }
      ],
      "source": [
        "# report test set before tuning\n",
        "print('F1 Score - test Set  : ', f1_score(y_test_cleaned, y_pred_test_before_tuning), '\\n')\n",
        "print('Classification Report : \\n', classification_report(y_test_cleaned, y_pred_test_before_tuning), '\\n')"
      ]
    },
    {
      "cell_type": "code",
      "execution_count": 64,
      "metadata": {
        "colab": {
          "base_uri": "https://localhost:8080/",
          "height": 112
        },
        "id": "6SIVVxIHAULK",
        "outputId": "8d341651-868f-4dc6-da74-aba55477c30d"
      },
      "outputs": [
        {
          "data": {
            "text/html": [
              "<div>\n",
              "<style scoped>\n",
              "    .dataframe tbody tr th:only-of-type {\n",
              "        vertical-align: middle;\n",
              "    }\n",
              "\n",
              "    .dataframe tbody tr th {\n",
              "        vertical-align: top;\n",
              "    }\n",
              "\n",
              "    .dataframe thead th {\n",
              "        text-align: right;\n",
              "    }\n",
              "</style>\n",
              "<table border=\"1\" class=\"dataframe\">\n",
              "  <thead>\n",
              "    <tr style=\"text-align: right;\">\n",
              "      <th></th>\n",
              "      <th>Baseline (Default non tuning)</th>\n",
              "    </tr>\n",
              "  </thead>\n",
              "  <tbody>\n",
              "    <tr>\n",
              "      <th>Test (y) - f1_score</th>\n",
              "      <td>0.160622</td>\n",
              "    </tr>\n",
              "    <tr>\n",
              "      <th>Train (y) - f1_score</th>\n",
              "      <td>0.930398</td>\n",
              "    </tr>\n",
              "  </tbody>\n",
              "</table>\n",
              "</div>"
            ],
            "text/plain": [
              "                      Baseline (Default non tuning)\n",
              "Test (y) - f1_score                        0.160622\n",
              "Train (y) - f1_score                       0.930398"
            ]
          },
          "execution_count": 64,
          "metadata": {},
          "output_type": "execute_result"
        }
      ],
      "source": [
        "# Save Classification Report into a Dictionary\n",
        "all_reports = {}\n",
        "def performance_report(all_reports, y_train, y_pred_train, y_test, y_pred_test, name):\n",
        "    score_reports = {\n",
        "        'Train (y) - f1_score' : f1_score(y_train, y_pred_train),\n",
        "        'Test (y) - f1_score' : f1_score(y_test, y_pred_test),\n",
        "    }\n",
        "    all_reports[name] = score_reports\n",
        "    return all_reports\n",
        "\n",
        "all_reports = performance_report(all_reports, y_train_cleaned, y_pred_train_before_tuning, y_test_cleaned, y_pred_test_before_tuning, 'Baseline (Default non tuning)')\n",
        "pd.DataFrame(all_reports)"
      ]
    },
    {
      "cell_type": "markdown",
      "metadata": {
        "id": "Xag6eW3rAULL"
      },
      "source": [
        "### **Hyperparameter Tuning**"
      ]
    },
    {
      "cell_type": "code",
      "execution_count": 65,
      "metadata": {
        "colab": {
          "base_uri": "https://localhost:8080/"
        },
        "id": "eXNAyoiqjAJ2",
        "outputId": "0ee58576-a0e4-4f54-8375-18411fe96737"
      },
      "outputs": [
        {
          "data": {
            "text/plain": [
              "{'decisiontreeclassifier__max_depth': [None, 10, 20, 30],\n",
              " 'decisiontreeclassifier__min_samples_split': [2, 5, 10],\n",
              " 'decisiontreeclassifier__min_samples_leaf': [1, 2, 4],\n",
              " 'decisiontreeclassifier__max_features': [None, 'sqrt', 'log2'],\n",
              " 'decisiontreeclassifier__criterion': ['gini', 'entropy']}"
            ]
          },
          "execution_count": 65,
          "metadata": {},
          "output_type": "execute_result"
        }
      ],
      "source": [
        "# set parameter decision tree untuk hyperparameter tuning\n",
        "grid_search_params = {\n",
        "    'decisiontreeclassifier__max_depth': [None, 10, 20, 30],\n",
        "    'decisiontreeclassifier__min_samples_split': [2, 5, 10],\n",
        "    'decisiontreeclassifier__min_samples_leaf': [1, 2, 4],\n",
        "    'decisiontreeclassifier__max_features': [None, 'sqrt', 'log2'],\n",
        "    'decisiontreeclassifier__criterion': ['gini', 'entropy']\n",
        "}\n",
        "grid_search_params"
      ]
    },
    {
      "cell_type": "code",
      "execution_count": 66,
      "metadata": {
        "colab": {
          "base_uri": "https://localhost:8080/",
          "height": 1000
        },
        "id": "pY4RgDcKhRcd",
        "outputId": "93ee0cb1-2fe0-4bbe-ef80-34b70e5e5a34"
      },
      "outputs": [
        {
          "data": {
            "text/html": [
              "<style>#sk-container-id-2 {\n",
              "  /* Definition of color scheme common for light and dark mode */\n",
              "  --sklearn-color-text: black;\n",
              "  --sklearn-color-line: gray;\n",
              "  /* Definition of color scheme for unfitted estimators */\n",
              "  --sklearn-color-unfitted-level-0: #fff5e6;\n",
              "  --sklearn-color-unfitted-level-1: #f6e4d2;\n",
              "  --sklearn-color-unfitted-level-2: #ffe0b3;\n",
              "  --sklearn-color-unfitted-level-3: chocolate;\n",
              "  /* Definition of color scheme for fitted estimators */\n",
              "  --sklearn-color-fitted-level-0: #f0f8ff;\n",
              "  --sklearn-color-fitted-level-1: #d4ebff;\n",
              "  --sklearn-color-fitted-level-2: #b3dbfd;\n",
              "  --sklearn-color-fitted-level-3: cornflowerblue;\n",
              "\n",
              "  /* Specific color for light theme */\n",
              "  --sklearn-color-text-on-default-background: var(--sg-text-color, var(--theme-code-foreground, var(--jp-content-font-color1, black)));\n",
              "  --sklearn-color-background: var(--sg-background-color, var(--theme-background, var(--jp-layout-color0, white)));\n",
              "  --sklearn-color-border-box: var(--sg-text-color, var(--theme-code-foreground, var(--jp-content-font-color1, black)));\n",
              "  --sklearn-color-icon: #696969;\n",
              "\n",
              "  @media (prefers-color-scheme: dark) {\n",
              "    /* Redefinition of color scheme for dark theme */\n",
              "    --sklearn-color-text-on-default-background: var(--sg-text-color, var(--theme-code-foreground, var(--jp-content-font-color1, white)));\n",
              "    --sklearn-color-background: var(--sg-background-color, var(--theme-background, var(--jp-layout-color0, #111)));\n",
              "    --sklearn-color-border-box: var(--sg-text-color, var(--theme-code-foreground, var(--jp-content-font-color1, white)));\n",
              "    --sklearn-color-icon: #878787;\n",
              "  }\n",
              "}\n",
              "\n",
              "#sk-container-id-2 {\n",
              "  color: var(--sklearn-color-text);\n",
              "}\n",
              "\n",
              "#sk-container-id-2 pre {\n",
              "  padding: 0;\n",
              "}\n",
              "\n",
              "#sk-container-id-2 input.sk-hidden--visually {\n",
              "  border: 0;\n",
              "  clip: rect(1px 1px 1px 1px);\n",
              "  clip: rect(1px, 1px, 1px, 1px);\n",
              "  height: 1px;\n",
              "  margin: -1px;\n",
              "  overflow: hidden;\n",
              "  padding: 0;\n",
              "  position: absolute;\n",
              "  width: 1px;\n",
              "}\n",
              "\n",
              "#sk-container-id-2 div.sk-dashed-wrapped {\n",
              "  border: 1px dashed var(--sklearn-color-line);\n",
              "  margin: 0 0.4em 0.5em 0.4em;\n",
              "  box-sizing: border-box;\n",
              "  padding-bottom: 0.4em;\n",
              "  background-color: var(--sklearn-color-background);\n",
              "}\n",
              "\n",
              "#sk-container-id-2 div.sk-container {\n",
              "  /* jupyter's `normalize.less` sets `[hidden] { display: none; }`\n",
              "     but bootstrap.min.css set `[hidden] { display: none !important; }`\n",
              "     so we also need the `!important` here to be able to override the\n",
              "     default hidden behavior on the sphinx rendered scikit-learn.org.\n",
              "     See: https://github.com/scikit-learn/scikit-learn/issues/21755 */\n",
              "  display: inline-block !important;\n",
              "  position: relative;\n",
              "}\n",
              "\n",
              "#sk-container-id-2 div.sk-text-repr-fallback {\n",
              "  display: none;\n",
              "}\n",
              "\n",
              "div.sk-parallel-item,\n",
              "div.sk-serial,\n",
              "div.sk-item {\n",
              "  /* draw centered vertical line to link estimators */\n",
              "  background-image: linear-gradient(var(--sklearn-color-text-on-default-background), var(--sklearn-color-text-on-default-background));\n",
              "  background-size: 2px 100%;\n",
              "  background-repeat: no-repeat;\n",
              "  background-position: center center;\n",
              "}\n",
              "\n",
              "/* Parallel-specific style estimator block */\n",
              "\n",
              "#sk-container-id-2 div.sk-parallel-item::after {\n",
              "  content: \"\";\n",
              "  width: 100%;\n",
              "  border-bottom: 2px solid var(--sklearn-color-text-on-default-background);\n",
              "  flex-grow: 1;\n",
              "}\n",
              "\n",
              "#sk-container-id-2 div.sk-parallel {\n",
              "  display: flex;\n",
              "  align-items: stretch;\n",
              "  justify-content: center;\n",
              "  background-color: var(--sklearn-color-background);\n",
              "  position: relative;\n",
              "}\n",
              "\n",
              "#sk-container-id-2 div.sk-parallel-item {\n",
              "  display: flex;\n",
              "  flex-direction: column;\n",
              "}\n",
              "\n",
              "#sk-container-id-2 div.sk-parallel-item:first-child::after {\n",
              "  align-self: flex-end;\n",
              "  width: 50%;\n",
              "}\n",
              "\n",
              "#sk-container-id-2 div.sk-parallel-item:last-child::after {\n",
              "  align-self: flex-start;\n",
              "  width: 50%;\n",
              "}\n",
              "\n",
              "#sk-container-id-2 div.sk-parallel-item:only-child::after {\n",
              "  width: 0;\n",
              "}\n",
              "\n",
              "/* Serial-specific style estimator block */\n",
              "\n",
              "#sk-container-id-2 div.sk-serial {\n",
              "  display: flex;\n",
              "  flex-direction: column;\n",
              "  align-items: center;\n",
              "  background-color: var(--sklearn-color-background);\n",
              "  padding-right: 1em;\n",
              "  padding-left: 1em;\n",
              "}\n",
              "\n",
              "\n",
              "/* Toggleable style: style used for estimator/Pipeline/ColumnTransformer box that is\n",
              "clickable and can be expanded/collapsed.\n",
              "- Pipeline and ColumnTransformer use this feature and define the default style\n",
              "- Estimators will overwrite some part of the style using the `sk-estimator` class\n",
              "*/\n",
              "\n",
              "/* Pipeline and ColumnTransformer style (default) */\n",
              "\n",
              "#sk-container-id-2 div.sk-toggleable {\n",
              "  /* Default theme specific background. It is overwritten whether we have a\n",
              "  specific estimator or a Pipeline/ColumnTransformer */\n",
              "  background-color: var(--sklearn-color-background);\n",
              "}\n",
              "\n",
              "/* Toggleable label */\n",
              "#sk-container-id-2 label.sk-toggleable__label {\n",
              "  cursor: pointer;\n",
              "  display: block;\n",
              "  width: 100%;\n",
              "  margin-bottom: 0;\n",
              "  padding: 0.5em;\n",
              "  box-sizing: border-box;\n",
              "  text-align: center;\n",
              "}\n",
              "\n",
              "#sk-container-id-2 label.sk-toggleable__label-arrow:before {\n",
              "  /* Arrow on the left of the label */\n",
              "  content: \"▸\";\n",
              "  float: left;\n",
              "  margin-right: 0.25em;\n",
              "  color: var(--sklearn-color-icon);\n",
              "}\n",
              "\n",
              "#sk-container-id-2 label.sk-toggleable__label-arrow:hover:before {\n",
              "  color: var(--sklearn-color-text);\n",
              "}\n",
              "\n",
              "/* Toggleable content - dropdown */\n",
              "\n",
              "#sk-container-id-2 div.sk-toggleable__content {\n",
              "  max-height: 0;\n",
              "  max-width: 0;\n",
              "  overflow: hidden;\n",
              "  text-align: left;\n",
              "  /* unfitted */\n",
              "  background-color: var(--sklearn-color-unfitted-level-0);\n",
              "}\n",
              "\n",
              "#sk-container-id-2 div.sk-toggleable__content.fitted {\n",
              "  /* fitted */\n",
              "  background-color: var(--sklearn-color-fitted-level-0);\n",
              "}\n",
              "\n",
              "#sk-container-id-2 div.sk-toggleable__content pre {\n",
              "  margin: 0.2em;\n",
              "  border-radius: 0.25em;\n",
              "  color: var(--sklearn-color-text);\n",
              "  /* unfitted */\n",
              "  background-color: var(--sklearn-color-unfitted-level-0);\n",
              "}\n",
              "\n",
              "#sk-container-id-2 div.sk-toggleable__content.fitted pre {\n",
              "  /* unfitted */\n",
              "  background-color: var(--sklearn-color-fitted-level-0);\n",
              "}\n",
              "\n",
              "#sk-container-id-2 input.sk-toggleable__control:checked~div.sk-toggleable__content {\n",
              "  /* Expand drop-down */\n",
              "  max-height: 200px;\n",
              "  max-width: 100%;\n",
              "  overflow: auto;\n",
              "}\n",
              "\n",
              "#sk-container-id-2 input.sk-toggleable__control:checked~label.sk-toggleable__label-arrow:before {\n",
              "  content: \"▾\";\n",
              "}\n",
              "\n",
              "/* Pipeline/ColumnTransformer-specific style */\n",
              "\n",
              "#sk-container-id-2 div.sk-label input.sk-toggleable__control:checked~label.sk-toggleable__label {\n",
              "  color: var(--sklearn-color-text);\n",
              "  background-color: var(--sklearn-color-unfitted-level-2);\n",
              "}\n",
              "\n",
              "#sk-container-id-2 div.sk-label.fitted input.sk-toggleable__control:checked~label.sk-toggleable__label {\n",
              "  background-color: var(--sklearn-color-fitted-level-2);\n",
              "}\n",
              "\n",
              "/* Estimator-specific style */\n",
              "\n",
              "/* Colorize estimator box */\n",
              "#sk-container-id-2 div.sk-estimator input.sk-toggleable__control:checked~label.sk-toggleable__label {\n",
              "  /* unfitted */\n",
              "  background-color: var(--sklearn-color-unfitted-level-2);\n",
              "}\n",
              "\n",
              "#sk-container-id-2 div.sk-estimator.fitted input.sk-toggleable__control:checked~label.sk-toggleable__label {\n",
              "  /* fitted */\n",
              "  background-color: var(--sklearn-color-fitted-level-2);\n",
              "}\n",
              "\n",
              "#sk-container-id-2 div.sk-label label.sk-toggleable__label,\n",
              "#sk-container-id-2 div.sk-label label {\n",
              "  /* The background is the default theme color */\n",
              "  color: var(--sklearn-color-text-on-default-background);\n",
              "}\n",
              "\n",
              "/* On hover, darken the color of the background */\n",
              "#sk-container-id-2 div.sk-label:hover label.sk-toggleable__label {\n",
              "  color: var(--sklearn-color-text);\n",
              "  background-color: var(--sklearn-color-unfitted-level-2);\n",
              "}\n",
              "\n",
              "/* Label box, darken color on hover, fitted */\n",
              "#sk-container-id-2 div.sk-label.fitted:hover label.sk-toggleable__label.fitted {\n",
              "  color: var(--sklearn-color-text);\n",
              "  background-color: var(--sklearn-color-fitted-level-2);\n",
              "}\n",
              "\n",
              "/* Estimator label */\n",
              "\n",
              "#sk-container-id-2 div.sk-label label {\n",
              "  font-family: monospace;\n",
              "  font-weight: bold;\n",
              "  display: inline-block;\n",
              "  line-height: 1.2em;\n",
              "}\n",
              "\n",
              "#sk-container-id-2 div.sk-label-container {\n",
              "  text-align: center;\n",
              "}\n",
              "\n",
              "/* Estimator-specific */\n",
              "#sk-container-id-2 div.sk-estimator {\n",
              "  font-family: monospace;\n",
              "  border: 1px dotted var(--sklearn-color-border-box);\n",
              "  border-radius: 0.25em;\n",
              "  box-sizing: border-box;\n",
              "  margin-bottom: 0.5em;\n",
              "  /* unfitted */\n",
              "  background-color: var(--sklearn-color-unfitted-level-0);\n",
              "}\n",
              "\n",
              "#sk-container-id-2 div.sk-estimator.fitted {\n",
              "  /* fitted */\n",
              "  background-color: var(--sklearn-color-fitted-level-0);\n",
              "}\n",
              "\n",
              "/* on hover */\n",
              "#sk-container-id-2 div.sk-estimator:hover {\n",
              "  /* unfitted */\n",
              "  background-color: var(--sklearn-color-unfitted-level-2);\n",
              "}\n",
              "\n",
              "#sk-container-id-2 div.sk-estimator.fitted:hover {\n",
              "  /* fitted */\n",
              "  background-color: var(--sklearn-color-fitted-level-2);\n",
              "}\n",
              "\n",
              "/* Specification for estimator info (e.g. \"i\" and \"?\") */\n",
              "\n",
              "/* Common style for \"i\" and \"?\" */\n",
              "\n",
              ".sk-estimator-doc-link,\n",
              "a:link.sk-estimator-doc-link,\n",
              "a:visited.sk-estimator-doc-link {\n",
              "  float: right;\n",
              "  font-size: smaller;\n",
              "  line-height: 1em;\n",
              "  font-family: monospace;\n",
              "  background-color: var(--sklearn-color-background);\n",
              "  border-radius: 1em;\n",
              "  height: 1em;\n",
              "  width: 1em;\n",
              "  text-decoration: none !important;\n",
              "  margin-left: 1ex;\n",
              "  /* unfitted */\n",
              "  border: var(--sklearn-color-unfitted-level-1) 1pt solid;\n",
              "  color: var(--sklearn-color-unfitted-level-1);\n",
              "}\n",
              "\n",
              ".sk-estimator-doc-link.fitted,\n",
              "a:link.sk-estimator-doc-link.fitted,\n",
              "a:visited.sk-estimator-doc-link.fitted {\n",
              "  /* fitted */\n",
              "  border: var(--sklearn-color-fitted-level-1) 1pt solid;\n",
              "  color: var(--sklearn-color-fitted-level-1);\n",
              "}\n",
              "\n",
              "/* On hover */\n",
              "div.sk-estimator:hover .sk-estimator-doc-link:hover,\n",
              ".sk-estimator-doc-link:hover,\n",
              "div.sk-label-container:hover .sk-estimator-doc-link:hover,\n",
              ".sk-estimator-doc-link:hover {\n",
              "  /* unfitted */\n",
              "  background-color: var(--sklearn-color-unfitted-level-3);\n",
              "  color: var(--sklearn-color-background);\n",
              "  text-decoration: none;\n",
              "}\n",
              "\n",
              "div.sk-estimator.fitted:hover .sk-estimator-doc-link.fitted:hover,\n",
              ".sk-estimator-doc-link.fitted:hover,\n",
              "div.sk-label-container:hover .sk-estimator-doc-link.fitted:hover,\n",
              ".sk-estimator-doc-link.fitted:hover {\n",
              "  /* fitted */\n",
              "  background-color: var(--sklearn-color-fitted-level-3);\n",
              "  color: var(--sklearn-color-background);\n",
              "  text-decoration: none;\n",
              "}\n",
              "\n",
              "/* Span, style for the box shown on hovering the info icon */\n",
              ".sk-estimator-doc-link span {\n",
              "  display: none;\n",
              "  z-index: 9999;\n",
              "  position: relative;\n",
              "  font-weight: normal;\n",
              "  right: .2ex;\n",
              "  padding: .5ex;\n",
              "  margin: .5ex;\n",
              "  width: min-content;\n",
              "  min-width: 20ex;\n",
              "  max-width: 50ex;\n",
              "  color: var(--sklearn-color-text);\n",
              "  box-shadow: 2pt 2pt 4pt #999;\n",
              "  /* unfitted */\n",
              "  background: var(--sklearn-color-unfitted-level-0);\n",
              "  border: .5pt solid var(--sklearn-color-unfitted-level-3);\n",
              "}\n",
              "\n",
              ".sk-estimator-doc-link.fitted span {\n",
              "  /* fitted */\n",
              "  background: var(--sklearn-color-fitted-level-0);\n",
              "  border: var(--sklearn-color-fitted-level-3);\n",
              "}\n",
              "\n",
              ".sk-estimator-doc-link:hover span {\n",
              "  display: block;\n",
              "}\n",
              "\n",
              "/* \"?\"-specific style due to the `<a>` HTML tag */\n",
              "\n",
              "#sk-container-id-2 a.estimator_doc_link {\n",
              "  float: right;\n",
              "  font-size: 1rem;\n",
              "  line-height: 1em;\n",
              "  font-family: monospace;\n",
              "  background-color: var(--sklearn-color-background);\n",
              "  border-radius: 1rem;\n",
              "  height: 1rem;\n",
              "  width: 1rem;\n",
              "  text-decoration: none;\n",
              "  /* unfitted */\n",
              "  color: var(--sklearn-color-unfitted-level-1);\n",
              "  border: var(--sklearn-color-unfitted-level-1) 1pt solid;\n",
              "}\n",
              "\n",
              "#sk-container-id-2 a.estimator_doc_link.fitted {\n",
              "  /* fitted */\n",
              "  border: var(--sklearn-color-fitted-level-1) 1pt solid;\n",
              "  color: var(--sklearn-color-fitted-level-1);\n",
              "}\n",
              "\n",
              "/* On hover */\n",
              "#sk-container-id-2 a.estimator_doc_link:hover {\n",
              "  /* unfitted */\n",
              "  background-color: var(--sklearn-color-unfitted-level-3);\n",
              "  color: var(--sklearn-color-background);\n",
              "  text-decoration: none;\n",
              "}\n",
              "\n",
              "#sk-container-id-2 a.estimator_doc_link.fitted:hover {\n",
              "  /* fitted */\n",
              "  background-color: var(--sklearn-color-fitted-level-3);\n",
              "}\n",
              "</style><div id=\"sk-container-id-2\" class=\"sk-top-container\"><div class=\"sk-text-repr-fallback\"><pre>GridSearchCV(cv=5,\n",
              "             estimator=Pipeline(steps=[(&#x27;columntransformer&#x27;,\n",
              "                                        ColumnTransformer(transformers=[(&#x27;num&#x27;,\n",
              "                                                                         StandardScaler(),\n",
              "                                                                         [&#x27;MonthClaimed&#x27;,\n",
              "                                                                          &#x27;Month&#x27;]),\n",
              "                                                                        (&#x27;cat_ord&#x27;,\n",
              "                                                                         OrdinalEncoder(),\n",
              "                                                                         [&#x27;PastNumberOfClaims&#x27;,\n",
              "                                                                          &#x27;Fault&#x27;,\n",
              "                                                                          &#x27;Type_Polis&#x27;,\n",
              "                                                                          &#x27;Deductible&#x27;,\n",
              "                                                                          &#x27;TypeInsurance&#x27;,\n",
              "                                                                          &#x27;VehiclePrice&#x27;,\n",
              "                                                                          &#x27;AddressChange_Claim&#x27;,\n",
              "                                                                          &#x27;AgeOfVehicle&#x27;,\n",
              "                                                                          &#x27;AgeOfPolicyHolder&#x27;,\n",
              "                                                                          &#x27;PoliceReportFiled&#x27;]),\n",
              "                                                                        (&#x27;cat_nom...\n",
              "                                       (&#x27;decisiontreeclassifier&#x27;,\n",
              "                                        DecisionTreeClassifier(random_state=10))]),\n",
              "             param_grid={&#x27;decisiontreeclassifier__criterion&#x27;: [&#x27;gini&#x27;,\n",
              "                                                               &#x27;entropy&#x27;],\n",
              "                         &#x27;decisiontreeclassifier__max_depth&#x27;: [None, 10, 20,\n",
              "                                                               30],\n",
              "                         &#x27;decisiontreeclassifier__max_features&#x27;: [None, &#x27;sqrt&#x27;,\n",
              "                                                                  &#x27;log2&#x27;],\n",
              "                         &#x27;decisiontreeclassifier__min_samples_leaf&#x27;: [1, 2, 4],\n",
              "                         &#x27;decisiontreeclassifier__min_samples_split&#x27;: [2, 5,\n",
              "                                                                       10]},\n",
              "             scoring=&#x27;f1&#x27;)</pre><b>In a Jupyter environment, please rerun this cell to show the HTML representation or trust the notebook. <br />On GitHub, the HTML representation is unable to render, please try loading this page with nbviewer.org.</b></div><div class=\"sk-container\" hidden><div class=\"sk-item sk-dashed-wrapped\"><div class=\"sk-label-container\"><div class=\"sk-label fitted sk-toggleable\"><input class=\"sk-toggleable__control sk-hidden--visually\" id=\"sk-estimator-id-10\" type=\"checkbox\" ><label for=\"sk-estimator-id-10\" class=\"sk-toggleable__label fitted sk-toggleable__label-arrow fitted\">&nbsp;&nbsp;GridSearchCV<a class=\"sk-estimator-doc-link fitted\" rel=\"noreferrer\" target=\"_blank\" href=\"https://scikit-learn.org/1.4/modules/generated/sklearn.model_selection.GridSearchCV.html\">?<span>Documentation for GridSearchCV</span></a><span class=\"sk-estimator-doc-link fitted\">i<span>Fitted</span></span></label><div class=\"sk-toggleable__content fitted\"><pre>GridSearchCV(cv=5,\n",
              "             estimator=Pipeline(steps=[(&#x27;columntransformer&#x27;,\n",
              "                                        ColumnTransformer(transformers=[(&#x27;num&#x27;,\n",
              "                                                                         StandardScaler(),\n",
              "                                                                         [&#x27;MonthClaimed&#x27;,\n",
              "                                                                          &#x27;Month&#x27;]),\n",
              "                                                                        (&#x27;cat_ord&#x27;,\n",
              "                                                                         OrdinalEncoder(),\n",
              "                                                                         [&#x27;PastNumberOfClaims&#x27;,\n",
              "                                                                          &#x27;Fault&#x27;,\n",
              "                                                                          &#x27;Type_Polis&#x27;,\n",
              "                                                                          &#x27;Deductible&#x27;,\n",
              "                                                                          &#x27;TypeInsurance&#x27;,\n",
              "                                                                          &#x27;VehiclePrice&#x27;,\n",
              "                                                                          &#x27;AddressChange_Claim&#x27;,\n",
              "                                                                          &#x27;AgeOfVehicle&#x27;,\n",
              "                                                                          &#x27;AgeOfPolicyHolder&#x27;,\n",
              "                                                                          &#x27;PoliceReportFiled&#x27;]),\n",
              "                                                                        (&#x27;cat_nom...\n",
              "                                       (&#x27;decisiontreeclassifier&#x27;,\n",
              "                                        DecisionTreeClassifier(random_state=10))]),\n",
              "             param_grid={&#x27;decisiontreeclassifier__criterion&#x27;: [&#x27;gini&#x27;,\n",
              "                                                               &#x27;entropy&#x27;],\n",
              "                         &#x27;decisiontreeclassifier__max_depth&#x27;: [None, 10, 20,\n",
              "                                                               30],\n",
              "                         &#x27;decisiontreeclassifier__max_features&#x27;: [None, &#x27;sqrt&#x27;,\n",
              "                                                                  &#x27;log2&#x27;],\n",
              "                         &#x27;decisiontreeclassifier__min_samples_leaf&#x27;: [1, 2, 4],\n",
              "                         &#x27;decisiontreeclassifier__min_samples_split&#x27;: [2, 5,\n",
              "                                                                       10]},\n",
              "             scoring=&#x27;f1&#x27;)</pre></div> </div></div><div class=\"sk-parallel\"><div class=\"sk-parallel-item\"><div class=\"sk-item\"><div class=\"sk-label-container\"><div class=\"sk-label fitted sk-toggleable\"><input class=\"sk-toggleable__control sk-hidden--visually\" id=\"sk-estimator-id-11\" type=\"checkbox\" ><label for=\"sk-estimator-id-11\" class=\"sk-toggleable__label fitted sk-toggleable__label-arrow fitted\">estimator: Pipeline</label><div class=\"sk-toggleable__content fitted\"><pre>Pipeline(steps=[(&#x27;columntransformer&#x27;,\n",
              "                 ColumnTransformer(transformers=[(&#x27;num&#x27;, StandardScaler(),\n",
              "                                                  [&#x27;MonthClaimed&#x27;, &#x27;Month&#x27;]),\n",
              "                                                 (&#x27;cat_ord&#x27;, OrdinalEncoder(),\n",
              "                                                  [&#x27;PastNumberOfClaims&#x27;,\n",
              "                                                   &#x27;Fault&#x27;, &#x27;Type_Polis&#x27;,\n",
              "                                                   &#x27;Deductible&#x27;,\n",
              "                                                   &#x27;TypeInsurance&#x27;,\n",
              "                                                   &#x27;VehiclePrice&#x27;,\n",
              "                                                   &#x27;AddressChange_Claim&#x27;,\n",
              "                                                   &#x27;AgeOfVehicle&#x27;,\n",
              "                                                   &#x27;AgeOfPolicyHolder&#x27;,\n",
              "                                                   &#x27;PoliceReportFiled&#x27;]),\n",
              "                                                 (&#x27;cat_nom&#x27;,\n",
              "                                                  OneHotEncoder(handle_unknown=&#x27;ignore&#x27;),\n",
              "                                                  [&#x27;VehicleCategory&#x27;, &#x27;Brand&#x27;,\n",
              "                                                   &#x27;AccidentArea&#x27;])])),\n",
              "                (&#x27;decisiontreeclassifier&#x27;,\n",
              "                 DecisionTreeClassifier(random_state=10))])</pre></div> </div></div><div class=\"sk-serial\"><div class=\"sk-item\"><div class=\"sk-serial\"><div class=\"sk-item sk-dashed-wrapped\"><div class=\"sk-label-container\"><div class=\"sk-label fitted sk-toggleable\"><input class=\"sk-toggleable__control sk-hidden--visually\" id=\"sk-estimator-id-12\" type=\"checkbox\" ><label for=\"sk-estimator-id-12\" class=\"sk-toggleable__label fitted sk-toggleable__label-arrow fitted\">&nbsp;columntransformer: ColumnTransformer<a class=\"sk-estimator-doc-link fitted\" rel=\"noreferrer\" target=\"_blank\" href=\"https://scikit-learn.org/1.4/modules/generated/sklearn.compose.ColumnTransformer.html\">?<span>Documentation for columntransformer: ColumnTransformer</span></a></label><div class=\"sk-toggleable__content fitted\"><pre>ColumnTransformer(transformers=[(&#x27;num&#x27;, StandardScaler(),\n",
              "                                 [&#x27;MonthClaimed&#x27;, &#x27;Month&#x27;]),\n",
              "                                (&#x27;cat_ord&#x27;, OrdinalEncoder(),\n",
              "                                 [&#x27;PastNumberOfClaims&#x27;, &#x27;Fault&#x27;, &#x27;Type_Polis&#x27;,\n",
              "                                  &#x27;Deductible&#x27;, &#x27;TypeInsurance&#x27;, &#x27;VehiclePrice&#x27;,\n",
              "                                  &#x27;AddressChange_Claim&#x27;, &#x27;AgeOfVehicle&#x27;,\n",
              "                                  &#x27;AgeOfPolicyHolder&#x27;, &#x27;PoliceReportFiled&#x27;]),\n",
              "                                (&#x27;cat_nom&#x27;,\n",
              "                                 OneHotEncoder(handle_unknown=&#x27;ignore&#x27;),\n",
              "                                 [&#x27;VehicleCategory&#x27;, &#x27;Brand&#x27;, &#x27;AccidentArea&#x27;])])</pre></div> </div></div><div class=\"sk-parallel\"><div class=\"sk-parallel-item\"><div class=\"sk-item\"><div class=\"sk-label-container\"><div class=\"sk-label fitted sk-toggleable\"><input class=\"sk-toggleable__control sk-hidden--visually\" id=\"sk-estimator-id-13\" type=\"checkbox\" ><label for=\"sk-estimator-id-13\" class=\"sk-toggleable__label fitted sk-toggleable__label-arrow fitted\">num</label><div class=\"sk-toggleable__content fitted\"><pre>[&#x27;MonthClaimed&#x27;, &#x27;Month&#x27;]</pre></div> </div></div><div class=\"sk-serial\"><div class=\"sk-item\"><div class=\"sk-estimator fitted sk-toggleable\"><input class=\"sk-toggleable__control sk-hidden--visually\" id=\"sk-estimator-id-14\" type=\"checkbox\" ><label for=\"sk-estimator-id-14\" class=\"sk-toggleable__label fitted sk-toggleable__label-arrow fitted\">&nbsp;StandardScaler<a class=\"sk-estimator-doc-link fitted\" rel=\"noreferrer\" target=\"_blank\" href=\"https://scikit-learn.org/1.4/modules/generated/sklearn.preprocessing.StandardScaler.html\">?<span>Documentation for StandardScaler</span></a></label><div class=\"sk-toggleable__content fitted\"><pre>StandardScaler()</pre></div> </div></div></div></div></div><div class=\"sk-parallel-item\"><div class=\"sk-item\"><div class=\"sk-label-container\"><div class=\"sk-label fitted sk-toggleable\"><input class=\"sk-toggleable__control sk-hidden--visually\" id=\"sk-estimator-id-15\" type=\"checkbox\" ><label for=\"sk-estimator-id-15\" class=\"sk-toggleable__label fitted sk-toggleable__label-arrow fitted\">cat_ord</label><div class=\"sk-toggleable__content fitted\"><pre>[&#x27;PastNumberOfClaims&#x27;, &#x27;Fault&#x27;, &#x27;Type_Polis&#x27;, &#x27;Deductible&#x27;, &#x27;TypeInsurance&#x27;, &#x27;VehiclePrice&#x27;, &#x27;AddressChange_Claim&#x27;, &#x27;AgeOfVehicle&#x27;, &#x27;AgeOfPolicyHolder&#x27;, &#x27;PoliceReportFiled&#x27;]</pre></div> </div></div><div class=\"sk-serial\"><div class=\"sk-item\"><div class=\"sk-estimator fitted sk-toggleable\"><input class=\"sk-toggleable__control sk-hidden--visually\" id=\"sk-estimator-id-16\" type=\"checkbox\" ><label for=\"sk-estimator-id-16\" class=\"sk-toggleable__label fitted sk-toggleable__label-arrow fitted\">&nbsp;OrdinalEncoder<a class=\"sk-estimator-doc-link fitted\" rel=\"noreferrer\" target=\"_blank\" href=\"https://scikit-learn.org/1.4/modules/generated/sklearn.preprocessing.OrdinalEncoder.html\">?<span>Documentation for OrdinalEncoder</span></a></label><div class=\"sk-toggleable__content fitted\"><pre>OrdinalEncoder()</pre></div> </div></div></div></div></div><div class=\"sk-parallel-item\"><div class=\"sk-item\"><div class=\"sk-label-container\"><div class=\"sk-label fitted sk-toggleable\"><input class=\"sk-toggleable__control sk-hidden--visually\" id=\"sk-estimator-id-17\" type=\"checkbox\" ><label for=\"sk-estimator-id-17\" class=\"sk-toggleable__label fitted sk-toggleable__label-arrow fitted\">cat_nom</label><div class=\"sk-toggleable__content fitted\"><pre>[&#x27;VehicleCategory&#x27;, &#x27;Brand&#x27;, &#x27;AccidentArea&#x27;]</pre></div> </div></div><div class=\"sk-serial\"><div class=\"sk-item\"><div class=\"sk-estimator fitted sk-toggleable\"><input class=\"sk-toggleable__control sk-hidden--visually\" id=\"sk-estimator-id-18\" type=\"checkbox\" ><label for=\"sk-estimator-id-18\" class=\"sk-toggleable__label fitted sk-toggleable__label-arrow fitted\">&nbsp;OneHotEncoder<a class=\"sk-estimator-doc-link fitted\" rel=\"noreferrer\" target=\"_blank\" href=\"https://scikit-learn.org/1.4/modules/generated/sklearn.preprocessing.OneHotEncoder.html\">?<span>Documentation for OneHotEncoder</span></a></label><div class=\"sk-toggleable__content fitted\"><pre>OneHotEncoder(handle_unknown=&#x27;ignore&#x27;)</pre></div> </div></div></div></div></div></div></div><div class=\"sk-item\"><div class=\"sk-estimator fitted sk-toggleable\"><input class=\"sk-toggleable__control sk-hidden--visually\" id=\"sk-estimator-id-19\" type=\"checkbox\" ><label for=\"sk-estimator-id-19\" class=\"sk-toggleable__label fitted sk-toggleable__label-arrow fitted\">&nbsp;DecisionTreeClassifier<a class=\"sk-estimator-doc-link fitted\" rel=\"noreferrer\" target=\"_blank\" href=\"https://scikit-learn.org/1.4/modules/generated/sklearn.tree.DecisionTreeClassifier.html\">?<span>Documentation for DecisionTreeClassifier</span></a></label><div class=\"sk-toggleable__content fitted\"><pre>DecisionTreeClassifier(random_state=10)</pre></div> </div></div></div></div></div></div></div></div></div></div></div>"
            ],
            "text/plain": [
              "GridSearchCV(cv=5,\n",
              "             estimator=Pipeline(steps=[('columntransformer',\n",
              "                                        ColumnTransformer(transformers=[('num',\n",
              "                                                                         StandardScaler(),\n",
              "                                                                         ['MonthClaimed',\n",
              "                                                                          'Month']),\n",
              "                                                                        ('cat_ord',\n",
              "                                                                         OrdinalEncoder(),\n",
              "                                                                         ['PastNumberOfClaims',\n",
              "                                                                          'Fault',\n",
              "                                                                          'Type_Polis',\n",
              "                                                                          'Deductible',\n",
              "                                                                          'TypeInsurance',\n",
              "                                                                          'VehiclePrice',\n",
              "                                                                          'AddressChange_Claim',\n",
              "                                                                          'AgeOfVehicle',\n",
              "                                                                          'AgeOfPolicyHolder',\n",
              "                                                                          'PoliceReportFiled']),\n",
              "                                                                        ('cat_nom...\n",
              "                                       ('decisiontreeclassifier',\n",
              "                                        DecisionTreeClassifier(random_state=10))]),\n",
              "             param_grid={'decisiontreeclassifier__criterion': ['gini',\n",
              "                                                               'entropy'],\n",
              "                         'decisiontreeclassifier__max_depth': [None, 10, 20,\n",
              "                                                               30],\n",
              "                         'decisiontreeclassifier__max_features': [None, 'sqrt',\n",
              "                                                                  'log2'],\n",
              "                         'decisiontreeclassifier__min_samples_leaf': [1, 2, 4],\n",
              "                         'decisiontreeclassifier__min_samples_split': [2, 5,\n",
              "                                                                       10]},\n",
              "             scoring='f1')"
            ]
          },
          "execution_count": 66,
          "metadata": {},
          "output_type": "execute_result"
        }
      ],
      "source": [
        "# training menggunakan hyperparameter decisiontree dengan gridsearch\n",
        "dt_gridcv = GridSearchCV(pipe_dt,grid_search_params,cv=5,scoring='f1')\n",
        "\n",
        "dt_gridcv.fit(X_train_cleaned, y_train_cleaned)"
      ]
    },
    {
      "cell_type": "code",
      "execution_count": 67,
      "metadata": {
        "colab": {
          "base_uri": "https://localhost:8080/"
        },
        "id": "RyrGZ3iOmGcb",
        "outputId": "c5191c0a-00e1-4348-86b6-01e49db11e6a"
      },
      "outputs": [
        {
          "data": {
            "text/plain": [
              "{'decisiontreeclassifier__criterion': 'entropy',\n",
              " 'decisiontreeclassifier__max_depth': 30,\n",
              " 'decisiontreeclassifier__max_features': None,\n",
              " 'decisiontreeclassifier__min_samples_leaf': 1,\n",
              " 'decisiontreeclassifier__min_samples_split': 5}"
            ]
          },
          "execution_count": 67,
          "metadata": {},
          "output_type": "execute_result"
        }
      ],
      "source": [
        "# Get Best Hyperparameters\n",
        "dt_gridcv.best_params_"
      ]
    },
    {
      "cell_type": "code",
      "execution_count": 68,
      "metadata": {
        "id": "Y1UTT7UTmLw-"
      },
      "outputs": [],
      "source": [
        "# Get Best Estimator\n",
        "dt_gridcv_best = dt_gridcv.best_estimator_"
      ]
    },
    {
      "cell_type": "code",
      "execution_count": 69,
      "metadata": {
        "id": "veMCcig7mdLV"
      },
      "outputs": [],
      "source": [
        "# Check Performance Model against Test-Set\n",
        "y_pred_train_after_tuning = dt_gridcv_best.predict(X_train_cleaned)\n",
        "y_pred_test_after_tuning = dt_gridcv_best.predict(X_test_cleaned)"
      ]
    },
    {
      "cell_type": "code",
      "execution_count": 70,
      "metadata": {
        "colab": {
          "base_uri": "https://localhost:8080/"
        },
        "id": "8a4s28RL7N0_",
        "outputId": "804406a2-54cd-4408-de06-588372dd94d1"
      },
      "outputs": [
        {
          "name": "stdout",
          "output_type": "stream",
          "text": [
            "F1 Score - Test Set   :  0.1686746987951807 \n",
            "\n",
            "Classification Report : \n",
            "               precision    recall  f1-score   support\n",
            "\n",
            "           0       0.95      0.95      0.95      2921\n",
            "           1       0.17      0.17      0.17       163\n",
            "\n",
            "    accuracy                           0.91      3084\n",
            "   macro avg       0.56      0.56      0.56      3084\n",
            "weighted avg       0.91      0.91      0.91      3084\n",
            " \n",
            "\n"
          ]
        }
      ],
      "source": [
        "print('F1 Score - Test Set   : ', f1_score(y_test, y_pred_test_after_tuning), '\\n')\n",
        "print('Classification Report : \\n', classification_report(y_test, y_pred_test_after_tuning), '\\n')"
      ]
    },
    {
      "cell_type": "markdown",
      "metadata": {
        "id": "AqG_gGewGfK0"
      },
      "source": [
        "### **Model Evaluation**"
      ]
    },
    {
      "cell_type": "markdown",
      "metadata": {
        "id": "HX23eDXdAULN"
      },
      "source": [
        "Membuat tabel untuk membandingkan antara model yang belum dituning (default hyperparameter) dan sesudah dituning (hyperparameter tuning)"
      ]
    },
    {
      "cell_type": "code",
      "execution_count": 71,
      "metadata": {
        "colab": {
          "base_uri": "https://localhost:8080/",
          "height": 112
        },
        "id": "21jpdcIjAULN",
        "outputId": "cdca0529-7769-4963-a2d5-973b8325bf2b"
      },
      "outputs": [
        {
          "data": {
            "text/html": [
              "<div>\n",
              "<style scoped>\n",
              "    .dataframe tbody tr th:only-of-type {\n",
              "        vertical-align: middle;\n",
              "    }\n",
              "\n",
              "    .dataframe tbody tr th {\n",
              "        vertical-align: top;\n",
              "    }\n",
              "\n",
              "    .dataframe thead th {\n",
              "        text-align: right;\n",
              "    }\n",
              "</style>\n",
              "<table border=\"1\" class=\"dataframe\">\n",
              "  <thead>\n",
              "    <tr style=\"text-align: right;\">\n",
              "      <th></th>\n",
              "      <th>Baseline (Default non tuning)</th>\n",
              "      <th>after tuning (grid search)</th>\n",
              "    </tr>\n",
              "  </thead>\n",
              "  <tbody>\n",
              "    <tr>\n",
              "      <th>Train (y) - f1_score</th>\n",
              "      <td>0.930398</td>\n",
              "      <td>0.742496</td>\n",
              "    </tr>\n",
              "    <tr>\n",
              "      <th>Test (y) - f1_score</th>\n",
              "      <td>0.160622</td>\n",
              "      <td>0.168675</td>\n",
              "    </tr>\n",
              "  </tbody>\n",
              "</table>\n",
              "</div>"
            ],
            "text/plain": [
              "                      Baseline (Default non tuning)  \\\n",
              "Train (y) - f1_score                       0.930398   \n",
              "Test (y) - f1_score                        0.160622   \n",
              "\n",
              "                      after tuning (grid search)  \n",
              "Train (y) - f1_score                    0.742496  \n",
              "Test (y) - f1_score                     0.168675  "
            ]
          },
          "execution_count": 71,
          "metadata": {},
          "output_type": "execute_result"
        }
      ],
      "source": [
        "all_reports = performance_report(all_reports, y_train_cleaned, y_pred_train_after_tuning, y_test_cleaned, y_pred_test_after_tuning, 'after tuning (grid search)')\n",
        "pd.DataFrame(all_reports)"
      ]
    },
    {
      "cell_type": "markdown",
      "metadata": {
        "id": "AVtYeAPkAULO"
      },
      "source": [
        "Berdasarkan data diatas untuk model Baseline (non_tuning)       \n",
        "train 0.93 = 93% dan diatas 80% sedangkan test 0.160 atau 16 % artinya model Baseline dikatkan sebagai overfit\n",
        "\n",
        "Sedangkan untuk model after tuning       \n",
        "train 0.742 = 74% dan dibawah 80% sedangkan test 0.168 atau 17 % artinya model after tuning hasilnya underfit"
      ]
    },
    {
      "cell_type": "markdown",
      "metadata": {
        "id": "l5v7os8QGk6O"
      },
      "source": [
        "### **Model Saving**"
      ]
    },
    {
      "cell_type": "code",
      "execution_count": 72,
      "metadata": {
        "colab": {
          "base_uri": "https://localhost:8080/",
          "height": 222
        },
        "id": "zLcwfiD0GsEU",
        "outputId": "816c9a92-288c-49e5-c15f-18ae1004f96d"
      },
      "outputs": [],
      "source": [
        "# Menyimpan file\n",
        "# tuning  \n",
        "with open('dt_model.pkl', 'wb') as file_1: # wb = write binary\n",
        "  pickle.dump(dt_gridcv, file_1)\n"
      ]
    },
    {
      "cell_type": "markdown",
      "metadata": {
        "id": "WLJr47nAGoPU"
      },
      "source": [
        "### **Model Inference**\n"
      ]
    },
    {
      "cell_type": "code",
      "execution_count": 73,
      "metadata": {
        "id": "Aiaai9B2GtxE"
      },
      "outputs": [],
      "source": [
        "# New file inference"
      ]
    },
    {
      "cell_type": "markdown",
      "metadata": {
        "id": "cHsnH0K5Gunc"
      },
      "source": [
        "### **Pengambilan Kesimpulan**\n"
      ]
    },
    {
      "cell_type": "markdown",
      "metadata": {
        "id": "cF5aA0grKN_0"
      },
      "source": [
        "**Analisis**        \n",
        "-- Untuk membuat permodelan diatas menggunakan dataset yang telah dianalisis terdapat beberapa temuan\n",
        "1.  Tingkat fraud atau penyimpangan tertinggi untuk mencairkan claim asuransi mobil terbanyak di bulan Maret.\n",
        "2.  Untuk temuan fraud diatas terdapat 6% dari keseluruhan data dinyatakan fraud sisanya 94 % claim normal\n",
        "3.  Terdapat keterlibatan agent yang mengurus claim terindikasi fraud: External 919 orang, Internal 4 orang\n",
        "4.  Untuk marital status berpengaruh terhadap probabilitas peningkatan claim terindikasi fraud\n",
        "\n",
        "**Kesimpulan Teknis**      \n",
        "Secara Keseluruhan untuk model Baseline (non_tuning)          \n",
        "dalam metrik f1 score (rata-rata falsepositive dan negative)              \n",
        "train 0.93 = 93% dan diatas 80% sedangkan test 0.160 atau 16 % artinya model Baseline dikatkan sebagai overfit\n",
        "\n",
        "Sedangkan untuk model after tuning       \n",
        "train 0.742 = 74% dan dibawah 80% sedangkan test 0.168 atau 17 % artinya model after tuning hasilnya underfit\n",
        "\n",
        "**Kelebihan Model klasifikasi fraud ini adalah**\n",
        "\n",
        "1.  Hasil cross validasi score menunjukan bahwa permodelan ini sangat cocok dengan metode : decision tree selain itu decision tree juga tahan terhadap outlier dan missing value, walaupun tahan terhadap outlier missing value berdasarkan data permodelan diatas sudah dinormalisasi.\n",
        "\n",
        "2.  Decision tree juga bisa digunakan baik untuk regresi ataupun clasifikasi, dalam kasus ini classifikasi maka Decision tree yang digunakan adalah Decision tree klasifikasi serta penggunaan parameter tuning yang mana untuk meningkatkan hasil juga berpengaruh yaitu dengan tuning decision tree dengan best parameter \n",
        "  decisiontreeclassifier: entropy, decisiontreeclassifier__max_depth': 30, decisiontreeclassifier__max_features': None,\n",
        " 'decisiontreeclassifier__min_samples_leaf': 1, decisiontreeclassifier__min_samples_split': 5\n",
        "\n",
        "**Kekurangan Model klasifikasi fraud ini adalah**\n",
        "              \n",
        "1.  Hasil Modeling diatas terdapat kekurangan. Karena model dilatih menggunakan Imbalanced data, yang artinya permodelan ditrain menggunakan nilai target y yang berat sebalah atau dalam hal ya/tidak mempunyai nilai yang kurang imbang 0/1 sehingga membuat permodelan lemah dalam memprediksi secara akurat terutama untuk model svm dan logreg.\n"
      ]
    }
  ],
  "metadata": {
    "colab": {
      "collapsed_sections": [
        "W4fnPK08GDEl",
        "J72_zMtoAUKm",
        "xuuEQyW9AUKn",
        "YTWiExyvAUKo",
        "jE0TUF-pAUKp",
        "KlQEurVJAUKy",
        "FPAwoLe6GRLs",
        "WLJr47nAGoPU"
      ],
      "provenance": [],
      "toc_visible": true
    },
    "kernelspec": {
      "display_name": "Python 3",
      "name": "python3"
    },
    "language_info": {
      "codemirror_mode": {
        "name": "ipython",
        "version": 3
      },
      "file_extension": ".py",
      "mimetype": "text/x-python",
      "name": "python",
      "nbconvert_exporter": "python",
      "pygments_lexer": "ipython3",
      "version": "3.11.5"
    }
  },
  "nbformat": 4,
  "nbformat_minor": 0
}
